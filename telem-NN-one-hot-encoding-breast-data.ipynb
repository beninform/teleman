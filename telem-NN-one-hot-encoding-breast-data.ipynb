{
 "cells": [
  {
   "cell_type": "code",
   "execution_count": 1,
   "id": "2261d56d-ba9e-4ca5-807b-d70b59e3e8fa",
   "metadata": {},
   "outputs": [],
   "source": [
    "import cadprep as cpr\n",
    "import nblog\n",
    "from nblog import logger as lg\n",
    "from nblog import NBLog as nblc\n",
    "import ipynbname"
   ]
  },
  {
   "cell_type": "code",
   "execution_count": 2,
   "id": "9d0be6a2-f1de-47a4-bf2b-960d3c35b242",
   "metadata": {},
   "outputs": [],
   "source": [
    "nb_fname = ipynbname.name()"
   ]
  },
  {
   "cell_type": "code",
   "execution_count": 3,
   "id": "1e7920b4-c937-40c7-a115-bfde85169e4b",
   "metadata": {},
   "outputs": [
    {
     "name": "stderr",
     "output_type": "stream",
     "text": [
      "2021-11-08 14:57:11,873 - nblog - INFO - ------------------------- NEW RUN -------------------------\n",
      "2021-11-08 14:57:11,878 - nblog - INFO - nb name: telem-NN-one-hot-encoding-breast-data\n"
     ]
    }
   ],
   "source": [
    "nbl = nblc()\n",
    "lg.info(nbl.newrun)\n",
    "lg.info(f'nb name: {nb_fname}')"
   ]
  },
  {
   "cell_type": "markdown",
   "id": "7c7404d6-56c4-43f6-9a19-a35b6c490bc8",
   "metadata": {},
   "source": [
    "## Example of one-hot-encoding from\n",
    "https://machinelearningmastery.com/one-hot-encoding-for-categorical-data/"
   ]
  },
  {
   "cell_type": "code",
   "execution_count": 4,
   "id": "56c8b45a-7da9-4935-bc27-96ebbe69bc92",
   "metadata": {},
   "outputs": [
    {
     "name": "stderr",
     "output_type": "stream",
     "text": [
      "2021-11-08 14:57:12.551702: W tensorflow/stream_executor/platform/default/dso_loader.cc:64] Could not load dynamic library 'libcudart.so.11.0'; dlerror: libcudart.so.11.0: cannot open shared object file: No such file or directory\n",
      "2021-11-08 14:57:12.551744: I tensorflow/stream_executor/cuda/cudart_stub.cc:29] Ignore above cudart dlerror if you do not have a GPU set up on your machine.\n"
     ]
    }
   ],
   "source": [
    "from numpy import mean\n",
    "from numpy import std\n",
    "from pandas import read_csv\n",
    "from sklearn.model_selection import train_test_split\n",
    "from sklearn.linear_model import LogisticRegression\n",
    "from sklearn.preprocessing import LabelEncoder\n",
    "from sklearn.preprocessing import OneHotEncoder\n",
    "from sklearn import metrics\n",
    "import tensorflow as tf\n",
    "from tensorflow import keras\n",
    "from tensorflow.keras import layers\n",
    "import pickle"
   ]
  },
  {
   "cell_type": "code",
   "execution_count": 5,
   "id": "c474d4bd-7915-41c6-961d-c077b1557ba0",
   "metadata": {},
   "outputs": [
    {
     "name": "stderr",
     "output_type": "stream",
     "text": [
      "2021-11-08 14:57:16,792 - nblog - INFO - cadprep run\n"
     ]
    }
   ],
   "source": [
    "# define the location of the dataset\n",
    "url = \"https://raw.githubusercontent.com/jbrownlee/Datasets/master/breast-cancer.csv\"\n",
    "# load the dataset\n",
    "dataset = read_csv(url, header=None)\n",
    "# retrieve the array of data\n",
    "data = dataset.values\n",
    "\n",
    "# deploy any clean and subset methods\n",
    "lg.info(f'cadprep run')"
   ]
  },
  {
   "cell_type": "code",
   "execution_count": 6,
   "id": "a9851524-9227-41aa-9189-5b9f00d3b7bf",
   "metadata": {},
   "outputs": [],
   "source": [
    "# separate into input and output columns\n",
    "X = data[:, :-1].astype(str)\n",
    "y = data[:, -1].astype(str)\n",
    "# split the dataset into train and test sets\n",
    "X_train, X_test, y_train, y_test = train_test_split(X, y, test_size=0.33, random_state=1)"
   ]
  },
  {
   "cell_type": "code",
   "execution_count": 7,
   "id": "bad7c44a-e3bb-4f80-a073-4bd5b8bcb234",
   "metadata": {},
   "outputs": [
    {
     "name": "stderr",
     "output_type": "stream",
     "text": [
      "2021-11-08 14:57:16,819 - nblog - INFO - raw training data: ndarray (191, 9)\n"
     ]
    }
   ],
   "source": [
    "lg.info(f'raw training data: {type(X_train).__name__} {X_train.shape}')"
   ]
  },
  {
   "cell_type": "code",
   "execution_count": 8,
   "id": "551f2c76-acad-406f-943b-d5fa4b11cb7a",
   "metadata": {},
   "outputs": [
    {
     "data": {
      "text/plain": [
       "array([[\"'50-59'\", \"'ge40'\", \"'25-29'\", ..., \"'left'\", \"'right_low'\",\n",
       "        \"'no'\"],\n",
       "       [\"'30-39'\", \"'premeno'\", \"'5-9'\", ..., \"'left'\", \"'right_low'\",\n",
       "        \"'no'\"],\n",
       "       [\"'50-59'\", \"'premeno'\", \"'50-54'\", ..., \"'right'\", \"'left_up'\",\n",
       "        \"'yes'\"],\n",
       "       ...,\n",
       "       [\"'60-69'\", \"'ge40'\", \"'10-14'\", ..., \"'right'\", \"'left_low'\",\n",
       "        \"'no'\"],\n",
       "       [\"'60-69'\", \"'ge40'\", \"'40-44'\", ..., \"'right'\", \"'left_low'\",\n",
       "        \"'no'\"],\n",
       "       [\"'60-69'\", \"'ge40'\", \"'45-49'\", ..., \"'left'\", \"'central'\",\n",
       "        \"'no'\"]], dtype='<U11')"
      ]
     },
     "execution_count": 8,
     "metadata": {},
     "output_type": "execute_result"
    }
   ],
   "source": [
    "X_train"
   ]
  },
  {
   "cell_type": "code",
   "execution_count": 9,
   "id": "34aed087-25b8-423c-98f3-d895cdf93048",
   "metadata": {
    "scrolled": true,
    "tags": []
   },
   "outputs": [
    {
     "data": {
      "text/plain": [
       "array([\"'no-recurrence-events'\", \"'no-recurrence-events'\",\n",
       "       \"'no-recurrence-events'\", \"'no-recurrence-events'\",\n",
       "       \"'no-recurrence-events'\", \"'no-recurrence-events'\",\n",
       "       \"'no-recurrence-events'\", \"'no-recurrence-events'\",\n",
       "       \"'no-recurrence-events'\", \"'no-recurrence-events'\",\n",
       "       \"'no-recurrence-events'\", \"'recurrence-events'\",\n",
       "       \"'recurrence-events'\", \"'recurrence-events'\",\n",
       "       \"'no-recurrence-events'\", \"'no-recurrence-events'\",\n",
       "       \"'no-recurrence-events'\", \"'no-recurrence-events'\",\n",
       "       \"'recurrence-events'\", \"'recurrence-events'\",\n",
       "       \"'no-recurrence-events'\", \"'no-recurrence-events'\",\n",
       "       \"'recurrence-events'\", \"'no-recurrence-events'\",\n",
       "       \"'recurrence-events'\", \"'no-recurrence-events'\",\n",
       "       \"'no-recurrence-events'\", \"'no-recurrence-events'\",\n",
       "       \"'no-recurrence-events'\", \"'no-recurrence-events'\",\n",
       "       \"'recurrence-events'\", \"'recurrence-events'\",\n",
       "       \"'recurrence-events'\", \"'no-recurrence-events'\",\n",
       "       \"'recurrence-events'\", \"'no-recurrence-events'\",\n",
       "       \"'no-recurrence-events'\", \"'no-recurrence-events'\",\n",
       "       \"'no-recurrence-events'\", \"'recurrence-events'\",\n",
       "       \"'recurrence-events'\", \"'no-recurrence-events'\",\n",
       "       \"'no-recurrence-events'\", \"'no-recurrence-events'\",\n",
       "       \"'no-recurrence-events'\", \"'no-recurrence-events'\",\n",
       "       \"'no-recurrence-events'\", \"'no-recurrence-events'\",\n",
       "       \"'no-recurrence-events'\", \"'no-recurrence-events'\",\n",
       "       \"'no-recurrence-events'\", \"'no-recurrence-events'\",\n",
       "       \"'no-recurrence-events'\", \"'no-recurrence-events'\",\n",
       "       \"'no-recurrence-events'\", \"'no-recurrence-events'\",\n",
       "       \"'no-recurrence-events'\", \"'no-recurrence-events'\",\n",
       "       \"'no-recurrence-events'\", \"'no-recurrence-events'\",\n",
       "       \"'no-recurrence-events'\", \"'recurrence-events'\",\n",
       "       \"'no-recurrence-events'\", \"'no-recurrence-events'\",\n",
       "       \"'no-recurrence-events'\", \"'recurrence-events'\",\n",
       "       \"'no-recurrence-events'\", \"'no-recurrence-events'\",\n",
       "       \"'recurrence-events'\", \"'no-recurrence-events'\",\n",
       "       \"'recurrence-events'\", \"'no-recurrence-events'\",\n",
       "       \"'no-recurrence-events'\", \"'no-recurrence-events'\",\n",
       "       \"'no-recurrence-events'\", \"'no-recurrence-events'\",\n",
       "       \"'no-recurrence-events'\", \"'no-recurrence-events'\",\n",
       "       \"'recurrence-events'\", \"'recurrence-events'\",\n",
       "       \"'no-recurrence-events'\", \"'recurrence-events'\",\n",
       "       \"'no-recurrence-events'\", \"'recurrence-events'\",\n",
       "       \"'no-recurrence-events'\", \"'no-recurrence-events'\",\n",
       "       \"'no-recurrence-events'\", \"'recurrence-events'\",\n",
       "       \"'recurrence-events'\", \"'no-recurrence-events'\",\n",
       "       \"'no-recurrence-events'\", \"'no-recurrence-events'\",\n",
       "       \"'no-recurrence-events'\", \"'no-recurrence-events'\",\n",
       "       \"'no-recurrence-events'\", \"'no-recurrence-events'\",\n",
       "       \"'recurrence-events'\", \"'no-recurrence-events'\",\n",
       "       \"'no-recurrence-events'\", \"'recurrence-events'\",\n",
       "       \"'recurrence-events'\", \"'no-recurrence-events'\",\n",
       "       \"'no-recurrence-events'\", \"'no-recurrence-events'\",\n",
       "       \"'recurrence-events'\", \"'no-recurrence-events'\",\n",
       "       \"'no-recurrence-events'\", \"'no-recurrence-events'\",\n",
       "       \"'recurrence-events'\", \"'recurrence-events'\",\n",
       "       \"'recurrence-events'\", \"'recurrence-events'\",\n",
       "       \"'no-recurrence-events'\", \"'no-recurrence-events'\",\n",
       "       \"'no-recurrence-events'\", \"'no-recurrence-events'\",\n",
       "       \"'no-recurrence-events'\", \"'no-recurrence-events'\",\n",
       "       \"'no-recurrence-events'\", \"'no-recurrence-events'\",\n",
       "       \"'recurrence-events'\", \"'no-recurrence-events'\",\n",
       "       \"'no-recurrence-events'\", \"'recurrence-events'\",\n",
       "       \"'no-recurrence-events'\", \"'recurrence-events'\",\n",
       "       \"'no-recurrence-events'\", \"'no-recurrence-events'\",\n",
       "       \"'no-recurrence-events'\", \"'no-recurrence-events'\",\n",
       "       \"'no-recurrence-events'\", \"'no-recurrence-events'\",\n",
       "       \"'no-recurrence-events'\", \"'recurrence-events'\",\n",
       "       \"'no-recurrence-events'\", \"'recurrence-events'\",\n",
       "       \"'no-recurrence-events'\", \"'no-recurrence-events'\",\n",
       "       \"'no-recurrence-events'\", \"'no-recurrence-events'\",\n",
       "       \"'no-recurrence-events'\", \"'recurrence-events'\",\n",
       "       \"'no-recurrence-events'\", \"'recurrence-events'\",\n",
       "       \"'no-recurrence-events'\", \"'recurrence-events'\",\n",
       "       \"'no-recurrence-events'\", \"'no-recurrence-events'\",\n",
       "       \"'no-recurrence-events'\", \"'no-recurrence-events'\",\n",
       "       \"'no-recurrence-events'\", \"'recurrence-events'\",\n",
       "       \"'no-recurrence-events'\", \"'recurrence-events'\",\n",
       "       \"'recurrence-events'\", \"'no-recurrence-events'\",\n",
       "       \"'no-recurrence-events'\", \"'no-recurrence-events'\",\n",
       "       \"'no-recurrence-events'\", \"'no-recurrence-events'\",\n",
       "       \"'no-recurrence-events'\", \"'no-recurrence-events'\",\n",
       "       \"'recurrence-events'\", \"'no-recurrence-events'\",\n",
       "       \"'no-recurrence-events'\", \"'no-recurrence-events'\",\n",
       "       \"'recurrence-events'\", \"'no-recurrence-events'\",\n",
       "       \"'no-recurrence-events'\", \"'no-recurrence-events'\",\n",
       "       \"'no-recurrence-events'\", \"'no-recurrence-events'\",\n",
       "       \"'no-recurrence-events'\", \"'no-recurrence-events'\",\n",
       "       \"'no-recurrence-events'\", \"'recurrence-events'\",\n",
       "       \"'recurrence-events'\", \"'recurrence-events'\",\n",
       "       \"'no-recurrence-events'\", \"'no-recurrence-events'\",\n",
       "       \"'recurrence-events'\", \"'recurrence-events'\",\n",
       "       \"'no-recurrence-events'\", \"'no-recurrence-events'\",\n",
       "       \"'no-recurrence-events'\", \"'recurrence-events'\",\n",
       "       \"'no-recurrence-events'\", \"'recurrence-events'\",\n",
       "       \"'no-recurrence-events'\", \"'recurrence-events'\",\n",
       "       \"'no-recurrence-events'\"], dtype='<U22')"
      ]
     },
     "execution_count": 9,
     "metadata": {},
     "output_type": "execute_result"
    }
   ],
   "source": [
    "y_train"
   ]
  },
  {
   "cell_type": "code",
   "execution_count": 10,
   "id": "63791dfa-a982-43a8-8be7-0dead87b05f6",
   "metadata": {},
   "outputs": [
    {
     "name": "stderr",
     "output_type": "stream",
     "text": [
      "2021-11-08 14:57:16,902 - nblog - INFO - onehot encoding\n"
     ]
    }
   ],
   "source": [
    "# one-hot encode input variables\n",
    "onehot_encoder = OneHotEncoder(sparse=False)\n",
    "onehot_encoder.fit(X_train)\n",
    "X_train_enc = onehot_encoder.transform(X_train)\n",
    "X_test_enc = onehot_encoder.transform(X_test)\n",
    "lg.info(f'onehot encoding')"
   ]
  },
  {
   "cell_type": "code",
   "execution_count": 11,
   "id": "7ee76c62-fc02-4d1d-9493-74cb023283d9",
   "metadata": {},
   "outputs": [
    {
     "name": "stderr",
     "output_type": "stream",
     "text": [
      "2021-11-08 14:57:16,908 - nblog - INFO - encoded training data: ndarray (191, 43)\n"
     ]
    }
   ],
   "source": [
    "lg.info(f'encoded training data: {type(X_train_enc).__name__} {X_train_enc.shape}')"
   ]
  },
  {
   "cell_type": "code",
   "execution_count": 12,
   "id": "f1c3bcbe-b352-4ae4-a8d6-511e286bad92",
   "metadata": {},
   "outputs": [
    {
     "data": {
      "text/plain": [
       "array([[0., 0., 0., ..., 0., 1., 0.],\n",
       "       [0., 1., 0., ..., 0., 1., 0.],\n",
       "       [0., 0., 0., ..., 0., 0., 1.],\n",
       "       ...,\n",
       "       [0., 0., 0., ..., 0., 1., 0.],\n",
       "       [0., 0., 0., ..., 0., 1., 0.],\n",
       "       [0., 0., 0., ..., 0., 1., 0.]])"
      ]
     },
     "execution_count": 12,
     "metadata": {},
     "output_type": "execute_result"
    }
   ],
   "source": [
    "X_train_enc"
   ]
  },
  {
   "cell_type": "code",
   "execution_count": 13,
   "id": "88fda504-0c06-44ca-ae6c-de0dc03988c3",
   "metadata": {},
   "outputs": [],
   "source": [
    "# ordinal encode target variable\n",
    "label_encoder = LabelEncoder()\n",
    "label_encoder.fit(y_train)\n",
    "y_train_enc = label_encoder.transform(y_train)\n",
    "y_test_enc = label_encoder.transform(y_test)"
   ]
  },
  {
   "cell_type": "code",
   "execution_count": 14,
   "id": "b898be47-f9e6-433f-aec1-19c798b65fcd",
   "metadata": {},
   "outputs": [
    {
     "data": {
      "text/plain": [
       "array([0, 0, 0, 0, 0, 0, 0, 0, 0, 0, 0, 1, 1, 1, 0, 0, 0, 0, 1, 1, 0, 0,\n",
       "       1, 0, 1, 0, 0, 0, 0, 0, 1, 1, 1, 0, 1, 0, 0, 0, 0, 1, 1, 0, 0, 0,\n",
       "       0, 0, 0, 0, 0, 0, 0, 0, 0, 0, 0, 0, 0, 0, 0, 0, 0, 1, 0, 0, 0, 1,\n",
       "       0, 0, 1, 0, 1, 0, 0, 0, 0, 0, 0, 0, 1, 1, 0, 1, 0, 1, 0, 0, 0, 1,\n",
       "       1, 0, 0, 0, 0, 0, 0, 0, 1, 0, 0, 1, 1, 0, 0, 0, 1, 0, 0, 0, 1, 1,\n",
       "       1, 1, 0, 0, 0, 0, 0, 0, 0, 0, 1, 0, 0, 1, 0, 1, 0, 0, 0, 0, 0, 0,\n",
       "       0, 1, 0, 1, 0, 0, 0, 0, 0, 1, 0, 1, 0, 1, 0, 0, 0, 0, 0, 1, 0, 1,\n",
       "       1, 0, 0, 0, 0, 0, 0, 0, 1, 0, 0, 0, 1, 0, 0, 0, 0, 0, 0, 0, 0, 1,\n",
       "       1, 1, 0, 0, 1, 1, 0, 0, 0, 1, 0, 1, 0, 1, 0])"
      ]
     },
     "execution_count": 14,
     "metadata": {},
     "output_type": "execute_result"
    }
   ],
   "source": [
    "y_train_enc"
   ]
  },
  {
   "cell_type": "code",
   "execution_count": 15,
   "id": "4aff7c96-9bc0-4593-bd90-853f135880e9",
   "metadata": {},
   "outputs": [
    {
     "name": "stderr",
     "output_type": "stream",
     "text": [
      "2021-11-08 14:57:17.016461: W tensorflow/stream_executor/platform/default/dso_loader.cc:64] Could not load dynamic library 'libcuda.so.1'; dlerror: libcuda.so.1: cannot open shared object file: No such file or directory\n",
      "2021-11-08 14:57:17.017326: W tensorflow/stream_executor/cuda/cuda_driver.cc:269] failed call to cuInit: UNKNOWN ERROR (303)\n",
      "2021-11-08 14:57:17.017633: I tensorflow/stream_executor/cuda/cuda_diagnostics.cc:156] kernel driver does not appear to be running on this host (7A300lap8Y9PR73): /proc/driver/nvidia/version does not exist\n",
      "2021-11-08 14:57:17.020600: I tensorflow/core/platform/cpu_feature_guard.cc:151] This TensorFlow binary is optimized with oneAPI Deep Neural Network Library (oneDNN) to use the following CPU instructions in performance-critical operations:  AVX2 FMA\n",
      "To enable them in other operations, rebuild TensorFlow with the appropriate compiler flags.\n"
     ]
    }
   ],
   "source": [
    "# define the model\n",
    "model = keras.Sequential()\n",
    "model.add(layers.Dense(10, input_dim=X_train_enc.shape[1], activation='relu', kernel_initializer='he_normal'))\n",
    "model.add(layers.Dense(1, activation='sigmoid'))\n",
    "# compile the keras model\n",
    "model.compile(loss='binary_crossentropy', optimizer='adam', metrics=['accuracy'])"
   ]
  },
  {
   "cell_type": "code",
   "execution_count": 16,
   "id": "7f5bec94-60ca-4292-a9e7-7bb54c3ff585",
   "metadata": {},
   "outputs": [],
   "source": [
    "# fit the keras model on the dataset\n",
    "model.fit(X_train_enc, y_train_enc, epochs=100, batch_size=16, verbose=2)"
   ]
  },
  {
   "cell_type": "code",
   "execution_count": 16,
   "id": "0c1f9353-1893-4965-b860-9f5decfece08",
   "metadata": {},
   "outputs": [
    {
     "name": "stdout",
     "output_type": "stream",
     "text": [
      "Epoch 1/100\n",
      "12/12 - 1s - loss: 0.6251 - accuracy: 0.7068 - 1s/epoch - 108ms/step\n",
      "Epoch 2/100\n",
      "12/12 - 0s - loss: 0.6039 - accuracy: 0.7120 - 21ms/epoch - 2ms/step\n",
      "Epoch 3/100\n",
      "12/12 - 0s - loss: 0.5874 - accuracy: 0.7120 - 19ms/epoch - 2ms/step\n",
      "Epoch 4/100\n",
      "12/12 - 0s - loss: 0.5761 - accuracy: 0.7120 - 16ms/epoch - 1ms/step\n",
      "Epoch 5/100\n",
      "12/12 - 0s - loss: 0.5692 - accuracy: 0.7120 - 23ms/epoch - 2ms/step\n",
      "Epoch 6/100\n",
      "12/12 - 0s - loss: 0.5593 - accuracy: 0.7120 - 26ms/epoch - 2ms/step\n",
      "Epoch 7/100\n",
      "12/12 - 0s - loss: 0.5529 - accuracy: 0.7120 - 18ms/epoch - 1ms/step\n",
      "Epoch 8/100\n",
      "12/12 - 0s - loss: 0.5469 - accuracy: 0.7173 - 23ms/epoch - 2ms/step\n",
      "Epoch 9/100\n",
      "12/12 - 0s - loss: 0.5410 - accuracy: 0.7277 - 17ms/epoch - 1ms/step\n",
      "Epoch 10/100\n",
      "12/12 - 0s - loss: 0.5360 - accuracy: 0.7277 - 26ms/epoch - 2ms/step\n",
      "Epoch 11/100\n",
      "12/12 - 0s - loss: 0.5312 - accuracy: 0.7330 - 27ms/epoch - 2ms/step\n",
      "Epoch 12/100\n",
      "12/12 - 0s - loss: 0.5257 - accuracy: 0.7539 - 30ms/epoch - 3ms/step\n",
      "Epoch 13/100\n",
      "12/12 - 0s - loss: 0.5209 - accuracy: 0.7644 - 30ms/epoch - 2ms/step\n",
      "Epoch 14/100\n",
      "12/12 - 0s - loss: 0.5169 - accuracy: 0.7644 - 28ms/epoch - 2ms/step\n",
      "Epoch 15/100\n",
      "12/12 - 0s - loss: 0.5126 - accuracy: 0.7592 - 30ms/epoch - 3ms/step\n",
      "Epoch 16/100\n",
      "12/12 - 0s - loss: 0.5079 - accuracy: 0.7644 - 27ms/epoch - 2ms/step\n",
      "Epoch 17/100\n",
      "12/12 - 0s - loss: 0.5042 - accuracy: 0.7696 - 28ms/epoch - 2ms/step\n",
      "Epoch 18/100\n",
      "12/12 - 0s - loss: 0.4999 - accuracy: 0.7696 - 30ms/epoch - 2ms/step\n",
      "Epoch 19/100\n",
      "12/12 - 0s - loss: 0.4962 - accuracy: 0.7696 - 27ms/epoch - 2ms/step\n",
      "Epoch 20/100\n",
      "12/12 - 0s - loss: 0.4933 - accuracy: 0.7696 - 22ms/epoch - 2ms/step\n",
      "Epoch 21/100\n",
      "12/12 - 0s - loss: 0.4906 - accuracy: 0.7696 - 29ms/epoch - 2ms/step\n",
      "Epoch 22/100\n",
      "12/12 - 0s - loss: 0.4857 - accuracy: 0.7696 - 30ms/epoch - 3ms/step\n",
      "Epoch 23/100\n",
      "12/12 - 0s - loss: 0.4825 - accuracy: 0.7696 - 35ms/epoch - 3ms/step\n",
      "Epoch 24/100\n",
      "12/12 - 0s - loss: 0.4792 - accuracy: 0.7696 - 30ms/epoch - 2ms/step\n",
      "Epoch 25/100\n",
      "12/12 - 0s - loss: 0.4762 - accuracy: 0.7749 - 31ms/epoch - 3ms/step\n",
      "Epoch 26/100\n",
      "12/12 - 0s - loss: 0.4729 - accuracy: 0.7749 - 34ms/epoch - 3ms/step\n",
      "Epoch 27/100\n",
      "12/12 - 0s - loss: 0.4695 - accuracy: 0.7749 - 25ms/epoch - 2ms/step\n",
      "Epoch 28/100\n",
      "12/12 - 0s - loss: 0.4664 - accuracy: 0.7749 - 24ms/epoch - 2ms/step\n",
      "Epoch 29/100\n",
      "12/12 - 0s - loss: 0.4639 - accuracy: 0.7749 - 20ms/epoch - 2ms/step\n",
      "Epoch 30/100\n",
      "12/12 - 0s - loss: 0.4612 - accuracy: 0.7801 - 19ms/epoch - 2ms/step\n",
      "Epoch 31/100\n",
      "12/12 - 0s - loss: 0.4581 - accuracy: 0.7801 - 20ms/epoch - 2ms/step\n",
      "Epoch 32/100\n",
      "12/12 - 0s - loss: 0.4555 - accuracy: 0.7801 - 23ms/epoch - 2ms/step\n",
      "Epoch 33/100\n",
      "12/12 - 0s - loss: 0.4529 - accuracy: 0.7853 - 25ms/epoch - 2ms/step\n",
      "Epoch 34/100\n",
      "12/12 - 0s - loss: 0.4501 - accuracy: 0.7853 - 31ms/epoch - 3ms/step\n",
      "Epoch 35/100\n",
      "12/12 - 0s - loss: 0.4478 - accuracy: 0.7906 - 32ms/epoch - 3ms/step\n",
      "Epoch 36/100\n",
      "12/12 - 0s - loss: 0.4453 - accuracy: 0.7853 - 31ms/epoch - 3ms/step\n",
      "Epoch 37/100\n",
      "12/12 - 0s - loss: 0.4432 - accuracy: 0.7958 - 29ms/epoch - 2ms/step\n",
      "Epoch 38/100\n",
      "12/12 - 0s - loss: 0.4411 - accuracy: 0.7958 - 25ms/epoch - 2ms/step\n",
      "Epoch 39/100\n",
      "12/12 - 0s - loss: 0.4399 - accuracy: 0.7906 - 29ms/epoch - 2ms/step\n",
      "Epoch 40/100\n",
      "12/12 - 0s - loss: 0.4365 - accuracy: 0.8010 - 30ms/epoch - 2ms/step\n",
      "Epoch 41/100\n",
      "12/12 - 0s - loss: 0.4340 - accuracy: 0.8063 - 21ms/epoch - 2ms/step\n",
      "Epoch 42/100\n",
      "12/12 - 0s - loss: 0.4316 - accuracy: 0.8115 - 20ms/epoch - 2ms/step\n",
      "Epoch 43/100\n",
      "12/12 - 0s - loss: 0.4301 - accuracy: 0.8115 - 23ms/epoch - 2ms/step\n",
      "Epoch 44/100\n",
      "12/12 - 0s - loss: 0.4277 - accuracy: 0.8115 - 30ms/epoch - 3ms/step\n",
      "Epoch 45/100\n",
      "12/12 - 0s - loss: 0.4258 - accuracy: 0.8115 - 33ms/epoch - 3ms/step\n",
      "Epoch 46/100\n",
      "12/12 - 0s - loss: 0.4239 - accuracy: 0.8115 - 32ms/epoch - 3ms/step\n",
      "Epoch 47/100\n",
      "12/12 - 0s - loss: 0.4219 - accuracy: 0.8168 - 25ms/epoch - 2ms/step\n",
      "Epoch 48/100\n",
      "12/12 - 0s - loss: 0.4202 - accuracy: 0.8168 - 22ms/epoch - 2ms/step\n",
      "Epoch 49/100\n",
      "12/12 - 0s - loss: 0.4178 - accuracy: 0.8168 - 33ms/epoch - 3ms/step\n",
      "Epoch 50/100\n",
      "12/12 - 0s - loss: 0.4164 - accuracy: 0.8220 - 28ms/epoch - 2ms/step\n",
      "Epoch 51/100\n",
      "12/12 - 0s - loss: 0.4143 - accuracy: 0.8168 - 29ms/epoch - 2ms/step\n",
      "Epoch 52/100\n",
      "12/12 - 0s - loss: 0.4123 - accuracy: 0.8220 - 28ms/epoch - 2ms/step\n",
      "Epoch 53/100\n",
      "12/12 - 0s - loss: 0.4107 - accuracy: 0.8220 - 27ms/epoch - 2ms/step\n",
      "Epoch 54/100\n",
      "12/12 - 0s - loss: 0.4099 - accuracy: 0.8220 - 30ms/epoch - 2ms/step\n",
      "Epoch 55/100\n",
      "12/12 - 0s - loss: 0.4066 - accuracy: 0.8272 - 32ms/epoch - 3ms/step\n",
      "Epoch 56/100\n",
      "12/12 - 0s - loss: 0.4045 - accuracy: 0.8272 - 31ms/epoch - 3ms/step\n",
      "Epoch 57/100\n",
      "12/12 - 0s - loss: 0.4031 - accuracy: 0.8325 - 32ms/epoch - 3ms/step\n",
      "Epoch 58/100\n",
      "12/12 - 0s - loss: 0.4011 - accuracy: 0.8325 - 31ms/epoch - 3ms/step\n",
      "Epoch 59/100\n",
      "12/12 - 0s - loss: 0.3999 - accuracy: 0.8377 - 38ms/epoch - 3ms/step\n",
      "Epoch 60/100\n",
      "12/12 - 0s - loss: 0.3981 - accuracy: 0.8377 - 36ms/epoch - 3ms/step\n",
      "Epoch 61/100\n",
      "12/12 - 0s - loss: 0.3960 - accuracy: 0.8429 - 31ms/epoch - 3ms/step\n",
      "Epoch 62/100\n",
      "12/12 - 0s - loss: 0.3942 - accuracy: 0.8429 - 27ms/epoch - 2ms/step\n",
      "Epoch 63/100\n",
      "12/12 - 0s - loss: 0.3929 - accuracy: 0.8377 - 29ms/epoch - 2ms/step\n",
      "Epoch 64/100\n",
      "12/12 - 0s - loss: 0.3913 - accuracy: 0.8377 - 32ms/epoch - 3ms/step\n",
      "Epoch 65/100\n",
      "12/12 - 0s - loss: 0.3893 - accuracy: 0.8377 - 28ms/epoch - 2ms/step\n",
      "Epoch 66/100\n",
      "12/12 - 0s - loss: 0.3878 - accuracy: 0.8377 - 31ms/epoch - 3ms/step\n",
      "Epoch 67/100\n",
      "12/12 - 0s - loss: 0.3864 - accuracy: 0.8377 - 28ms/epoch - 2ms/step\n",
      "Epoch 68/100\n",
      "12/12 - 0s - loss: 0.3846 - accuracy: 0.8377 - 28ms/epoch - 2ms/step\n",
      "Epoch 69/100\n",
      "12/12 - 0s - loss: 0.3832 - accuracy: 0.8377 - 27ms/epoch - 2ms/step\n",
      "Epoch 70/100\n",
      "12/12 - 0s - loss: 0.3818 - accuracy: 0.8325 - 27ms/epoch - 2ms/step\n",
      "Epoch 71/100\n",
      "12/12 - 0s - loss: 0.3795 - accuracy: 0.8377 - 27ms/epoch - 2ms/step\n",
      "Epoch 72/100\n",
      "12/12 - 0s - loss: 0.3783 - accuracy: 0.8377 - 32ms/epoch - 3ms/step\n",
      "Epoch 73/100\n",
      "12/12 - 0s - loss: 0.3764 - accuracy: 0.8377 - 33ms/epoch - 3ms/step\n",
      "Epoch 74/100\n",
      "12/12 - 0s - loss: 0.3749 - accuracy: 0.8325 - 32ms/epoch - 3ms/step\n",
      "Epoch 75/100\n",
      "12/12 - 0s - loss: 0.3733 - accuracy: 0.8325 - 28ms/epoch - 2ms/step\n",
      "Epoch 76/100\n",
      "12/12 - 0s - loss: 0.3723 - accuracy: 0.8325 - 35ms/epoch - 3ms/step\n",
      "Epoch 77/100\n",
      "12/12 - 0s - loss: 0.3699 - accuracy: 0.8325 - 31ms/epoch - 3ms/step\n",
      "Epoch 78/100\n",
      "12/12 - 0s - loss: 0.3690 - accuracy: 0.8325 - 29ms/epoch - 2ms/step\n",
      "Epoch 79/100\n",
      "12/12 - 0s - loss: 0.3669 - accuracy: 0.8325 - 27ms/epoch - 2ms/step\n",
      "Epoch 80/100\n",
      "12/12 - 0s - loss: 0.3656 - accuracy: 0.8325 - 33ms/epoch - 3ms/step\n",
      "Epoch 81/100\n",
      "12/12 - 0s - loss: 0.3647 - accuracy: 0.8325 - 28ms/epoch - 2ms/step\n",
      "Epoch 82/100\n",
      "12/12 - 0s - loss: 0.3625 - accuracy: 0.8377 - 26ms/epoch - 2ms/step\n",
      "Epoch 83/100\n",
      "12/12 - 0s - loss: 0.3611 - accuracy: 0.8325 - 28ms/epoch - 2ms/step\n",
      "Epoch 84/100\n",
      "12/12 - 0s - loss: 0.3599 - accuracy: 0.8429 - 29ms/epoch - 2ms/step\n",
      "Epoch 85/100\n",
      "12/12 - 0s - loss: 0.3580 - accuracy: 0.8429 - 32ms/epoch - 3ms/step\n",
      "Epoch 86/100\n",
      "12/12 - 0s - loss: 0.3570 - accuracy: 0.8429 - 28ms/epoch - 2ms/step\n",
      "Epoch 87/100\n",
      "12/12 - 0s - loss: 0.3556 - accuracy: 0.8429 - 28ms/epoch - 2ms/step\n",
      "Epoch 88/100\n",
      "12/12 - 0s - loss: 0.3540 - accuracy: 0.8482 - 30ms/epoch - 3ms/step\n",
      "Epoch 89/100\n",
      "12/12 - 0s - loss: 0.3524 - accuracy: 0.8482 - 30ms/epoch - 2ms/step\n",
      "Epoch 90/100\n",
      "12/12 - 0s - loss: 0.3517 - accuracy: 0.8429 - 28ms/epoch - 2ms/step\n",
      "Epoch 91/100\n",
      "12/12 - 0s - loss: 0.3504 - accuracy: 0.8429 - 28ms/epoch - 2ms/step\n",
      "Epoch 92/100\n",
      "12/12 - 0s - loss: 0.3484 - accuracy: 0.8482 - 29ms/epoch - 2ms/step\n",
      "Epoch 93/100\n",
      "12/12 - 0s - loss: 0.3467 - accuracy: 0.8482 - 27ms/epoch - 2ms/step\n",
      "Epoch 94/100\n",
      "12/12 - 0s - loss: 0.3459 - accuracy: 0.8429 - 27ms/epoch - 2ms/step\n",
      "Epoch 95/100\n",
      "12/12 - 0s - loss: 0.3441 - accuracy: 0.8482 - 26ms/epoch - 2ms/step\n",
      "Epoch 96/100\n",
      "12/12 - 0s - loss: 0.3427 - accuracy: 0.8482 - 29ms/epoch - 2ms/step\n",
      "Epoch 97/100\n",
      "12/12 - 0s - loss: 0.3418 - accuracy: 0.8586 - 30ms/epoch - 2ms/step\n",
      "Epoch 98/100\n",
      "12/12 - 0s - loss: 0.3401 - accuracy: 0.8534 - 28ms/epoch - 2ms/step\n",
      "Epoch 99/100\n",
      "12/12 - 0s - loss: 0.3390 - accuracy: 0.8691 - 26ms/epoch - 2ms/step\n",
      "Epoch 100/100\n",
      "12/12 - 0s - loss: 0.3378 - accuracy: 0.8586 - 32ms/epoch - 3ms/step\n"
     ]
    },
    {
     "data": {
      "text/plain": [
       "<bound method Model.summary of <keras.engine.sequential.Sequential object at 0x7fd13ad07100>>"
      ]
     },
     "execution_count": 16,
     "metadata": {},
     "output_type": "execute_result"
    }
   ],
   "source": [
    "model.summary"
   ]
  },
  {
   "cell_type": "code",
   "execution_count": 17,
   "id": "e37d2b9e-b97f-4204-9bb2-341e12d215c6",
   "metadata": {},
   "outputs": [
    {
     "name": "stderr",
     "output_type": "stream",
     "text": [
      "2021-11-08 14:57:21,875 - nblog - INFO - sequential run\n"
     ]
    },
    {
     "name": "stdout",
     "output_type": "stream",
     "text": [
      "Accuracy: 68.42\n"
     ]
    }
   ],
   "source": [
    "# evaluate the keras model\n",
    "_, accuracy = model.evaluate(X_test_enc, y_test_enc, verbose=0)\n",
    "print('Accuracy: %.2f' % (accuracy*100))\n",
    "\n",
    "# define the model\n",
    "# model = LogisticRegression()\n",
    "# # fit on the training set\n",
    "# model.fit(X_train, y_train)\n",
    "# predict on test set\n",
    "lg.info(f'{model.name} run')"
   ]
  },
  {
   "cell_type": "code",
   "execution_count": 25,
   "id": "81da1054-fb4a-4fa8-8e79-54bd2b69f840",
   "metadata": {},
   "outputs": [
    {
     "name": "stdout",
     "output_type": "stream",
     "text": [
      "[[0.77409935]\n",
      " [0.37733   ]\n",
      " [0.22341153]\n",
      " [0.27094275]\n",
      " [0.07139531]]\n",
      "[1 0 0 1 1]\n"
     ]
    }
   ],
   "source": [
    "y_hat = model.predict(X_test_enc)\n",
    "print(y_hat[:5])\n",
    "print(y_test_enc[:5])"
   ]
  },
  {
   "cell_type": "code",
   "execution_count": 23,
   "id": "f5dbe10a-d22c-48d8-b70c-4c449f261400",
   "metadata": {},
   "outputs": [
    {
     "data": {
      "text/plain": [
       "array([1, 0, 0, 1, 1, 1, 1, 0, 0, 1, 0, 1, 0, 1, 0, 0, 0, 0, 0, 1, 0, 0,\n",
       "       1, 1, 0, 1, 1, 0, 0, 0, 0, 0, 0, 1, 0, 0, 0, 0, 1, 1, 0, 0, 0, 0,\n",
       "       0, 1, 0, 1, 0, 0, 0, 1, 0, 0, 1, 0, 0, 0, 0, 0, 0, 1, 0, 0, 1, 1,\n",
       "       0, 1, 0, 0, 1, 0, 1, 0, 1, 0, 1, 0, 0, 1, 0, 1, 0, 1, 0, 1, 0, 0,\n",
       "       0, 0, 1, 0, 0, 0, 0])"
      ]
     },
     "execution_count": 23,
     "metadata": {},
     "output_type": "execute_result"
    }
   ],
   "source": [
    "# yhat = model.predict(X_test_enc)\n",
    "# # print(metrics.classification_report(y_test_enc, yhat))\n",
    "y_test_enc\n",
    "# yhat"
   ]
  },
  {
   "cell_type": "code",
   "execution_count": 19,
   "id": "b22cc53e-db45-444e-acfd-fdef402448d2",
   "metadata": {},
   "outputs": [
    {
     "name": "stderr",
     "output_type": "stream",
     "text": [
      "2021-11-08 14:57:21,900 - nblog - INFO - accuracy: 68.42\n"
     ]
    }
   ],
   "source": [
    "# # evaluate predictions\n",
    "# accuracy = metrics.accuracy_score(y_test_enc, yhat)\n",
    "lg.info(f'accuracy: {accuracy*100:.2f}')"
   ]
  },
  {
   "cell_type": "code",
   "execution_count": 20,
   "id": "e019c1d5-0436-4556-b875-2e1247ac6aeb",
   "metadata": {},
   "outputs": [
    {
     "ename": "NameError",
     "evalue": "name 'plot_loss' is not defined",
     "output_type": "error",
     "traceback": [
      "\u001b[0;31m---------------------------------------------------------------------------\u001b[0m",
      "\u001b[0;31mNameError\u001b[0m                                 Traceback (most recent call last)",
      "\u001b[0;32m/tmp/ipykernel_6424/4119930689.py\u001b[0m in \u001b[0;36m<module>\u001b[0;34m\u001b[0m\n\u001b[0;32m----> 1\u001b[0;31m \u001b[0mplot_loss\u001b[0m\u001b[0;34m(\u001b[0m\u001b[0mmodel\u001b[0m\u001b[0;34m.\u001b[0m\u001b[0mhistory\u001b[0m\u001b[0;34m.\u001b[0m\u001b[0mhistory\u001b[0m\u001b[0;34m[\u001b[0m\u001b[0;34m'loss'\u001b[0m\u001b[0;34m]\u001b[0m\u001b[0;34m,\u001b[0m \u001b[0mmodel\u001b[0m\u001b[0;34m.\u001b[0m\u001b[0mhistory\u001b[0m\u001b[0;34m.\u001b[0m\u001b[0mhistory\u001b[0m\u001b[0;34m[\u001b[0m\u001b[0;34m'val_loss'\u001b[0m\u001b[0;34m]\u001b[0m\u001b[0;34m)\u001b[0m\u001b[0;34m\u001b[0m\u001b[0;34m\u001b[0m\u001b[0m\n\u001b[0m\u001b[1;32m      2\u001b[0m \u001b[0mplot_accuracy\u001b[0m\u001b[0;34m(\u001b[0m\u001b[0mmodel\u001b[0m\u001b[0;34m.\u001b[0m\u001b[0mhistory\u001b[0m\u001b[0;34m.\u001b[0m\u001b[0mhistory\u001b[0m\u001b[0;34m[\u001b[0m\u001b[0;34m'accuracy'\u001b[0m\u001b[0;34m]\u001b[0m\u001b[0;34m,\u001b[0m \u001b[0mmodel\u001b[0m\u001b[0;34m.\u001b[0m\u001b[0mhistory\u001b[0m\u001b[0;34m.\u001b[0m\u001b[0mhistory\u001b[0m\u001b[0;34m[\u001b[0m\u001b[0;34m'val_accuracy'\u001b[0m\u001b[0;34m]\u001b[0m\u001b[0;34m)\u001b[0m\u001b[0;34m\u001b[0m\u001b[0;34m\u001b[0m\u001b[0m\n",
      "\u001b[0;31mNameError\u001b[0m: name 'plot_loss' is not defined"
     ]
    }
   ],
   "source": [
    "plot_loss(model.history.history['loss'], model.history.history['val_loss'])\n",
    "plot_accuracy(model.history.history['accuracy'], model.history.history['val_accuracy'])\n"
   ]
  },
  {
   "cell_type": "code",
   "execution_count": null,
   "id": "79b9b282-2332-4458-a84e-222d19b0e45d",
   "metadata": {},
   "outputs": [],
   "source": [
    "# conf_mat = metrics.confusion_matrix(y_test, yhat)\n",
    "# (tn, fp, fn, tp) = conf_mat.ravel()\n",
    "# print('       | pred n',  '| pred p')\n",
    "# print('-------------------------')\n",
    "# print('cond n | tn', tn, ' | fp', fp)\n",
    "# print('cond p | fn', fn, ' | tp', tp)"
   ]
  },
  {
   "cell_type": "code",
   "execution_count": null,
   "id": "10c42e24-e94d-496d-8dc5-1d72976a84ad",
   "metadata": {},
   "outputs": [],
   "source": [
    "# precision = tp/(tp+fp) # PPV\n",
    "# recall    = tp/(tp+fn) # sensitivity\n",
    "\n",
    "# lg.info(f' precision: {precision:.2f}')\n",
    "# lg.info(f'    recall: {recall:.2f}')"
   ]
  },
  {
   "cell_type": "code",
   "execution_count": null,
   "id": "c4a6ec30-4719-4fab-bf27-e7e5d4af88b1",
   "metadata": {},
   "outputs": [],
   "source": [
    "# save the model to disk\n",
    "pfilename = f'{nb_fname}.sav'\n",
    "pickle.dump(model, open(pfilename, 'wb'))"
   ]
  },
  {
   "cell_type": "code",
   "execution_count": null,
   "id": "135d8549-fab0-49ba-bacb-d877f78dfe93",
   "metadata": {},
   "outputs": [],
   "source": [
    "print(pfilename)"
   ]
  },
  {
   "cell_type": "code",
   "execution_count": null,
   "id": "17b1f970-8ef1-4bc0-88d9-344773dfc0e2",
   "metadata": {},
   "outputs": [],
   "source": [
    "# # some time later...\n",
    " \n",
    "# # load the model from disk\n",
    "# loaded_model = pickle.load(open(pfilename, 'rb'))\n",
    "# result = loaded_model.score(X_test, y_test)\n",
    "# print(f'{result*100:.2f}')"
   ]
  },
  {
   "cell_type": "code",
   "execution_count": null,
   "id": "ad768a05-1183-4a21-8811-b29737d5fa85",
   "metadata": {},
   "outputs": [],
   "source": []
  }
 ],
 "metadata": {
  "kernelspec": {
   "display_name": "Python 3 (ipykernel)",
   "language": "python",
   "name": "python3"
  },
  "language_info": {
   "codemirror_mode": {
    "name": "ipython",
    "version": 3
   },
   "file_extension": ".py",
   "mimetype": "text/x-python",
   "name": "python",
   "nbconvert_exporter": "python",
   "pygments_lexer": "ipython3",
   "version": "3.8.10"
  }
 },
 "nbformat": 4,
 "nbformat_minor": 5
}
