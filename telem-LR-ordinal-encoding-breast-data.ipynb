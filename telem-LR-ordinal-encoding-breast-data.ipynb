{
 "cells": [
  {
   "cell_type": "code",
   "execution_count": 1,
   "id": "2261d56d-ba9e-4ca5-807b-d70b59e3e8fa",
   "metadata": {},
   "outputs": [],
   "source": [
    "import cadprep as cpr\n",
    "import nblog\n",
    "from nblog import logger as lg\n",
    "from nblog import NBLog as nbl"
   ]
  },
  {
   "cell_type": "code",
   "execution_count": 2,
   "id": "1e7920b4-c937-40c7-a115-bfde85169e4b",
   "metadata": {},
   "outputs": [
    {
     "name": "stderr",
     "output_type": "stream",
     "text": [
      "2021-11-08 10:04:14,451 - nblog - INFO - ------------------------------ NEW RUN ------------------------------\n",
      "2021-11-08 10:04:14,454 - nblog - INFO - telem-LR-ordinal-encoding-breast-data\n"
     ]
    }
   ],
   "source": [
    "nbl = nbl()\n",
    "lg.info(nbl.newrun)\n",
    "lg.info('telem-LR-ordinal-encoding-breast-data')"
   ]
  },
  {
   "cell_type": "markdown",
   "id": "7c7404d6-56c4-43f6-9a19-a35b6c490bc8",
   "metadata": {},
   "source": [
    "## Example of ordinal-encoding from\n",
    "https://machinelearningmastery.com/one-hot-encoding-for-categorical-data/"
   ]
  },
  {
   "cell_type": "code",
   "execution_count": 3,
   "id": "56c8b45a-7da9-4935-bc27-96ebbe69bc92",
   "metadata": {},
   "outputs": [],
   "source": [
    "# evaluate logistic regression on the breast cancer dataset with an ordinal encoding\n",
    "from numpy import mean\n",
    "from numpy import std\n",
    "from pandas import read_csv\n",
    "from sklearn.model_selection import train_test_split\n",
    "from sklearn.linear_model import LogisticRegression\n",
    "from sklearn.preprocessing import LabelEncoder\n",
    "from sklearn.preprocessing import OrdinalEncoder\n",
    "from sklearn import metrics\n",
    "import pickle"
   ]
  },
  {
   "cell_type": "code",
   "execution_count": 4,
   "id": "c474d4bd-7915-41c6-961d-c077b1557ba0",
   "metadata": {},
   "outputs": [
    {
     "name": "stderr",
     "output_type": "stream",
     "text": [
      "2021-11-08 10:04:14,622 - nblog - INFO - cadprep run\n"
     ]
    }
   ],
   "source": [
    "# define the location of the dataset\n",
    "url = \"https://raw.githubusercontent.com/jbrownlee/Datasets/master/breast-cancer.csv\"\n",
    "# load the dataset\n",
    "dataset = read_csv(url, header=None)\n",
    "# retrieve the array of data\n",
    "data = dataset.values\n",
    "\n",
    "# deploy any clean and subset methods\n",
    "lg.info(f'cadprep run')"
   ]
  },
  {
   "cell_type": "code",
   "execution_count": 5,
   "id": "a9851524-9227-41aa-9189-5b9f00d3b7bf",
   "metadata": {},
   "outputs": [],
   "source": [
    "# separate into input and output columns\n",
    "X = data[:, :-1].astype(str)\n",
    "y = data[:, -1].astype(str)\n",
    "# split the dataset into train and test sets\n",
    "X_train, X_test, y_train, y_test = train_test_split(X, y, test_size=0.33, random_state=1)"
   ]
  },
  {
   "cell_type": "code",
   "execution_count": 6,
   "id": "551f2c76-acad-406f-943b-d5fa4b11cb7a",
   "metadata": {},
   "outputs": [
    {
     "data": {
      "text/plain": [
       "array([[\"'50-59'\", \"'ge40'\", \"'25-29'\", ..., \"'left'\", \"'right_low'\",\n",
       "        \"'no'\"],\n",
       "       [\"'30-39'\", \"'premeno'\", \"'5-9'\", ..., \"'left'\", \"'right_low'\",\n",
       "        \"'no'\"],\n",
       "       [\"'50-59'\", \"'premeno'\", \"'50-54'\", ..., \"'right'\", \"'left_up'\",\n",
       "        \"'yes'\"],\n",
       "       ...,\n",
       "       [\"'60-69'\", \"'ge40'\", \"'10-14'\", ..., \"'right'\", \"'left_low'\",\n",
       "        \"'no'\"],\n",
       "       [\"'60-69'\", \"'ge40'\", \"'40-44'\", ..., \"'right'\", \"'left_low'\",\n",
       "        \"'no'\"],\n",
       "       [\"'60-69'\", \"'ge40'\", \"'45-49'\", ..., \"'left'\", \"'central'\",\n",
       "        \"'no'\"]], dtype='<U11')"
      ]
     },
     "execution_count": 6,
     "metadata": {},
     "output_type": "execute_result"
    }
   ],
   "source": [
    "X_train"
   ]
  },
  {
   "cell_type": "code",
   "execution_count": 7,
   "id": "34aed087-25b8-423c-98f3-d895cdf93048",
   "metadata": {
    "scrolled": true,
    "tags": []
   },
   "outputs": [
    {
     "data": {
      "text/plain": [
       "array([\"'no-recurrence-events'\", \"'no-recurrence-events'\",\n",
       "       \"'no-recurrence-events'\", \"'no-recurrence-events'\",\n",
       "       \"'no-recurrence-events'\", \"'no-recurrence-events'\",\n",
       "       \"'no-recurrence-events'\", \"'no-recurrence-events'\",\n",
       "       \"'no-recurrence-events'\", \"'no-recurrence-events'\",\n",
       "       \"'no-recurrence-events'\", \"'recurrence-events'\",\n",
       "       \"'recurrence-events'\", \"'recurrence-events'\",\n",
       "       \"'no-recurrence-events'\", \"'no-recurrence-events'\",\n",
       "       \"'no-recurrence-events'\", \"'no-recurrence-events'\",\n",
       "       \"'recurrence-events'\", \"'recurrence-events'\",\n",
       "       \"'no-recurrence-events'\", \"'no-recurrence-events'\",\n",
       "       \"'recurrence-events'\", \"'no-recurrence-events'\",\n",
       "       \"'recurrence-events'\", \"'no-recurrence-events'\",\n",
       "       \"'no-recurrence-events'\", \"'no-recurrence-events'\",\n",
       "       \"'no-recurrence-events'\", \"'no-recurrence-events'\",\n",
       "       \"'recurrence-events'\", \"'recurrence-events'\",\n",
       "       \"'recurrence-events'\", \"'no-recurrence-events'\",\n",
       "       \"'recurrence-events'\", \"'no-recurrence-events'\",\n",
       "       \"'no-recurrence-events'\", \"'no-recurrence-events'\",\n",
       "       \"'no-recurrence-events'\", \"'recurrence-events'\",\n",
       "       \"'recurrence-events'\", \"'no-recurrence-events'\",\n",
       "       \"'no-recurrence-events'\", \"'no-recurrence-events'\",\n",
       "       \"'no-recurrence-events'\", \"'no-recurrence-events'\",\n",
       "       \"'no-recurrence-events'\", \"'no-recurrence-events'\",\n",
       "       \"'no-recurrence-events'\", \"'no-recurrence-events'\",\n",
       "       \"'no-recurrence-events'\", \"'no-recurrence-events'\",\n",
       "       \"'no-recurrence-events'\", \"'no-recurrence-events'\",\n",
       "       \"'no-recurrence-events'\", \"'no-recurrence-events'\",\n",
       "       \"'no-recurrence-events'\", \"'no-recurrence-events'\",\n",
       "       \"'no-recurrence-events'\", \"'no-recurrence-events'\",\n",
       "       \"'no-recurrence-events'\", \"'recurrence-events'\",\n",
       "       \"'no-recurrence-events'\", \"'no-recurrence-events'\",\n",
       "       \"'no-recurrence-events'\", \"'recurrence-events'\",\n",
       "       \"'no-recurrence-events'\", \"'no-recurrence-events'\",\n",
       "       \"'recurrence-events'\", \"'no-recurrence-events'\",\n",
       "       \"'recurrence-events'\", \"'no-recurrence-events'\",\n",
       "       \"'no-recurrence-events'\", \"'no-recurrence-events'\",\n",
       "       \"'no-recurrence-events'\", \"'no-recurrence-events'\",\n",
       "       \"'no-recurrence-events'\", \"'no-recurrence-events'\",\n",
       "       \"'recurrence-events'\", \"'recurrence-events'\",\n",
       "       \"'no-recurrence-events'\", \"'recurrence-events'\",\n",
       "       \"'no-recurrence-events'\", \"'recurrence-events'\",\n",
       "       \"'no-recurrence-events'\", \"'no-recurrence-events'\",\n",
       "       \"'no-recurrence-events'\", \"'recurrence-events'\",\n",
       "       \"'recurrence-events'\", \"'no-recurrence-events'\",\n",
       "       \"'no-recurrence-events'\", \"'no-recurrence-events'\",\n",
       "       \"'no-recurrence-events'\", \"'no-recurrence-events'\",\n",
       "       \"'no-recurrence-events'\", \"'no-recurrence-events'\",\n",
       "       \"'recurrence-events'\", \"'no-recurrence-events'\",\n",
       "       \"'no-recurrence-events'\", \"'recurrence-events'\",\n",
       "       \"'recurrence-events'\", \"'no-recurrence-events'\",\n",
       "       \"'no-recurrence-events'\", \"'no-recurrence-events'\",\n",
       "       \"'recurrence-events'\", \"'no-recurrence-events'\",\n",
       "       \"'no-recurrence-events'\", \"'no-recurrence-events'\",\n",
       "       \"'recurrence-events'\", \"'recurrence-events'\",\n",
       "       \"'recurrence-events'\", \"'recurrence-events'\",\n",
       "       \"'no-recurrence-events'\", \"'no-recurrence-events'\",\n",
       "       \"'no-recurrence-events'\", \"'no-recurrence-events'\",\n",
       "       \"'no-recurrence-events'\", \"'no-recurrence-events'\",\n",
       "       \"'no-recurrence-events'\", \"'no-recurrence-events'\",\n",
       "       \"'recurrence-events'\", \"'no-recurrence-events'\",\n",
       "       \"'no-recurrence-events'\", \"'recurrence-events'\",\n",
       "       \"'no-recurrence-events'\", \"'recurrence-events'\",\n",
       "       \"'no-recurrence-events'\", \"'no-recurrence-events'\",\n",
       "       \"'no-recurrence-events'\", \"'no-recurrence-events'\",\n",
       "       \"'no-recurrence-events'\", \"'no-recurrence-events'\",\n",
       "       \"'no-recurrence-events'\", \"'recurrence-events'\",\n",
       "       \"'no-recurrence-events'\", \"'recurrence-events'\",\n",
       "       \"'no-recurrence-events'\", \"'no-recurrence-events'\",\n",
       "       \"'no-recurrence-events'\", \"'no-recurrence-events'\",\n",
       "       \"'no-recurrence-events'\", \"'recurrence-events'\",\n",
       "       \"'no-recurrence-events'\", \"'recurrence-events'\",\n",
       "       \"'no-recurrence-events'\", \"'recurrence-events'\",\n",
       "       \"'no-recurrence-events'\", \"'no-recurrence-events'\",\n",
       "       \"'no-recurrence-events'\", \"'no-recurrence-events'\",\n",
       "       \"'no-recurrence-events'\", \"'recurrence-events'\",\n",
       "       \"'no-recurrence-events'\", \"'recurrence-events'\",\n",
       "       \"'recurrence-events'\", \"'no-recurrence-events'\",\n",
       "       \"'no-recurrence-events'\", \"'no-recurrence-events'\",\n",
       "       \"'no-recurrence-events'\", \"'no-recurrence-events'\",\n",
       "       \"'no-recurrence-events'\", \"'no-recurrence-events'\",\n",
       "       \"'recurrence-events'\", \"'no-recurrence-events'\",\n",
       "       \"'no-recurrence-events'\", \"'no-recurrence-events'\",\n",
       "       \"'recurrence-events'\", \"'no-recurrence-events'\",\n",
       "       \"'no-recurrence-events'\", \"'no-recurrence-events'\",\n",
       "       \"'no-recurrence-events'\", \"'no-recurrence-events'\",\n",
       "       \"'no-recurrence-events'\", \"'no-recurrence-events'\",\n",
       "       \"'no-recurrence-events'\", \"'recurrence-events'\",\n",
       "       \"'recurrence-events'\", \"'recurrence-events'\",\n",
       "       \"'no-recurrence-events'\", \"'no-recurrence-events'\",\n",
       "       \"'recurrence-events'\", \"'recurrence-events'\",\n",
       "       \"'no-recurrence-events'\", \"'no-recurrence-events'\",\n",
       "       \"'no-recurrence-events'\", \"'recurrence-events'\",\n",
       "       \"'no-recurrence-events'\", \"'recurrence-events'\",\n",
       "       \"'no-recurrence-events'\", \"'recurrence-events'\",\n",
       "       \"'no-recurrence-events'\"], dtype='<U22')"
      ]
     },
     "execution_count": 7,
     "metadata": {},
     "output_type": "execute_result"
    }
   ],
   "source": [
    "y_train"
   ]
  },
  {
   "cell_type": "code",
   "execution_count": 8,
   "id": "63791dfa-a982-43a8-8be7-0dead87b05f6",
   "metadata": {},
   "outputs": [],
   "source": [
    "# ordinal encode input variables\n",
    "ordinal_encoder = OrdinalEncoder()\n",
    "ordinal_encoder.fit(X_train)\n",
    "X_train = ordinal_encoder.transform(X_train)\n",
    "X_test = ordinal_encoder.transform(X_test)"
   ]
  },
  {
   "cell_type": "code",
   "execution_count": 9,
   "id": "0a6b7e80-e031-467c-b799-b5868e8b4515",
   "metadata": {},
   "outputs": [
    {
     "name": "stderr",
     "output_type": "stream",
     "text": [
      "2021-11-08 10:04:14,713 - nblog - INFO - used training data: ndarray (191, 9)\n"
     ]
    }
   ],
   "source": [
    "lg.info(f'used training data: {type(X_train).__name__} {X_train.shape}')"
   ]
  },
  {
   "cell_type": "code",
   "execution_count": 10,
   "id": "f1c3bcbe-b352-4ae4-a8d6-511e286bad92",
   "metadata": {},
   "outputs": [
    {
     "data": {
      "text/plain": [
       "array([[ 3.,  0.,  4., ...,  0.,  3.,  0.],\n",
       "       [ 1.,  2.,  9., ...,  0.,  3.,  0.],\n",
       "       [ 3.,  2., 10., ...,  1.,  2.,  1.],\n",
       "       ...,\n",
       "       [ 4.,  0.,  1., ...,  1.,  1.,  0.],\n",
       "       [ 4.,  0.,  7., ...,  1.,  1.,  0.],\n",
       "       [ 4.,  0.,  8., ...,  0.,  0.,  0.]])"
      ]
     },
     "execution_count": 10,
     "metadata": {},
     "output_type": "execute_result"
    }
   ],
   "source": [
    "X_train"
   ]
  },
  {
   "cell_type": "code",
   "execution_count": 11,
   "id": "88fda504-0c06-44ca-ae6c-de0dc03988c3",
   "metadata": {},
   "outputs": [],
   "source": [
    "# ordinal encode target variable\n",
    "label_encoder = LabelEncoder()\n",
    "label_encoder.fit(y_train)\n",
    "y_train = label_encoder.transform(y_train)\n",
    "y_test = label_encoder.transform(y_test)"
   ]
  },
  {
   "cell_type": "code",
   "execution_count": 12,
   "id": "b898be47-f9e6-433f-aec1-19c798b65fcd",
   "metadata": {},
   "outputs": [
    {
     "data": {
      "text/plain": [
       "array([0, 0, 0, 0, 0, 0, 0, 0, 0, 0, 0, 1, 1, 1, 0, 0, 0, 0, 1, 1, 0, 0,\n",
       "       1, 0, 1, 0, 0, 0, 0, 0, 1, 1, 1, 0, 1, 0, 0, 0, 0, 1, 1, 0, 0, 0,\n",
       "       0, 0, 0, 0, 0, 0, 0, 0, 0, 0, 0, 0, 0, 0, 0, 0, 0, 1, 0, 0, 0, 1,\n",
       "       0, 0, 1, 0, 1, 0, 0, 0, 0, 0, 0, 0, 1, 1, 0, 1, 0, 1, 0, 0, 0, 1,\n",
       "       1, 0, 0, 0, 0, 0, 0, 0, 1, 0, 0, 1, 1, 0, 0, 0, 1, 0, 0, 0, 1, 1,\n",
       "       1, 1, 0, 0, 0, 0, 0, 0, 0, 0, 1, 0, 0, 1, 0, 1, 0, 0, 0, 0, 0, 0,\n",
       "       0, 1, 0, 1, 0, 0, 0, 0, 0, 1, 0, 1, 0, 1, 0, 0, 0, 0, 0, 1, 0, 1,\n",
       "       1, 0, 0, 0, 0, 0, 0, 0, 1, 0, 0, 0, 1, 0, 0, 0, 0, 0, 0, 0, 0, 1,\n",
       "       1, 1, 0, 0, 1, 1, 0, 0, 0, 1, 0, 1, 0, 1, 0])"
      ]
     },
     "execution_count": 12,
     "metadata": {},
     "output_type": "execute_result"
    }
   ],
   "source": [
    "y_train"
   ]
  },
  {
   "cell_type": "code",
   "execution_count": 13,
   "id": "3e7c396b-d5d8-49bf-a7fa-2626d65e266f",
   "metadata": {},
   "outputs": [
    {
     "name": "stderr",
     "output_type": "stream",
     "text": [
      "2021-11-08 10:04:14,790 - nblog - INFO - LogisticRegression() run\n"
     ]
    }
   ],
   "source": [
    "# define the model\n",
    "model = LogisticRegression()\n",
    "# fit on the training set\n",
    "model.fit(X_train, y_train)\n",
    "# predict on test set\n",
    "yhat = model.predict(X_test)\n",
    "lg.info(f'{model} run')"
   ]
  },
  {
   "cell_type": "code",
   "execution_count": null,
   "id": "2a11aed6-dd13-470f-8e27-9bcdcae76a3e",
   "metadata": {},
   "outputs": [],
   "source": [
    "print(metrics.classification_report(y_test, yhat))"
   ]
  },
  {
   "cell_type": "code",
   "execution_count": 14,
   "id": "b22cc53e-db45-444e-acfd-fdef402448d2",
   "metadata": {},
   "outputs": [
    {
     "name": "stderr",
     "output_type": "stream",
     "text": [
      "2021-11-08 10:04:14,808 - nblog - INFO - accuracy: 75.79\n"
     ]
    }
   ],
   "source": [
    "# evaluate predictions\n",
    "accuracy = metrics.accuracy_score(y_test, yhat)\n",
    "lg.info(f'accuracy: {accuracy*100:.2f}')"
   ]
  },
  {
   "cell_type": "code",
   "execution_count": 15,
   "id": "79b9b282-2332-4458-a84e-222d19b0e45d",
   "metadata": {},
   "outputs": [
    {
     "name": "stdout",
     "output_type": "stream",
     "text": [
      "       | pred n | pred p\n",
      "-------------------------\n",
      "cond n | tn 61  | fp 1\n",
      "cond p | fn 22  | tp 11\n"
     ]
    }
   ],
   "source": [
    "conf_mat = metrics.confusion_matrix(y_test, yhat)\n",
    "(tn, fp, fn, tp) = conf_mat.ravel()\n",
    "print('       | pred n',  '| pred p')\n",
    "print('-------------------------')\n",
    "print('cond n | tn', tn, ' | fp', fp)\n",
    "print('cond p | fn', fn, ' | tp', tp)"
   ]
  },
  {
   "cell_type": "code",
   "execution_count": 16,
   "id": "10c42e24-e94d-496d-8dc5-1d72976a84ad",
   "metadata": {},
   "outputs": [
    {
     "name": "stderr",
     "output_type": "stream",
     "text": [
      "2021-11-08 10:04:14,846 - nblog - INFO -  precision: 0.92\n",
      "2021-11-08 10:04:14,848 - nblog - INFO -     recall: 0.33\n"
     ]
    }
   ],
   "source": [
    "precision = tp/(tp+fp) # PPV\n",
    "recall    = tp/(tp+fn) # sensitivity\n",
    "\n",
    "lg.info(f' precision: {precision:.2f}')\n",
    "lg.info(f'    recall: {recall:.2f}')"
   ]
  },
  {
   "cell_type": "code",
   "execution_count": 17,
   "id": "c4a6ec30-4719-4fab-bf27-e7e5d4af88b1",
   "metadata": {},
   "outputs": [],
   "source": [
    "# save the model to disk\n",
    "filename = 'Telem-LR-ord-breast-model.sav'\n",
    "pickle.dump(model, open(filename, 'wb'))"
   ]
  },
  {
   "cell_type": "code",
   "execution_count": 18,
   "id": "17b1f970-8ef1-4bc0-88d9-344773dfc0e2",
   "metadata": {},
   "outputs": [
    {
     "name": "stdout",
     "output_type": "stream",
     "text": [
      "75.79\n"
     ]
    }
   ],
   "source": [
    "# some time later...\n",
    " \n",
    "# load the model from disk\n",
    "loaded_model = pickle.load(open(filename, 'rb'))\n",
    "result = loaded_model.score(X_test, y_test)\n",
    "print(f'{result*100:.2f}')"
   ]
  },
  {
   "cell_type": "code",
   "execution_count": null,
   "id": "ad768a05-1183-4a21-8811-b29737d5fa85",
   "metadata": {},
   "outputs": [],
   "source": []
  }
 ],
 "metadata": {
  "kernelspec": {
   "display_name": "Python 3 (ipykernel)",
   "language": "python",
   "name": "python3"
  },
  "language_info": {
   "codemirror_mode": {
    "name": "ipython",
    "version": 3
   },
   "file_extension": ".py",
   "mimetype": "text/x-python",
   "name": "python",
   "nbconvert_exporter": "python",
   "pygments_lexer": "ipython3",
   "version": "3.8.10"
  }
 },
 "nbformat": 4,
 "nbformat_minor": 5
}
