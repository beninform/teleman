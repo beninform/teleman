{
 "cells": [
  {
   "cell_type": "code",
   "execution_count": 1,
   "metadata": {},
   "outputs": [],
   "source": [
    "import cadprep as cpr\n",
    "import nblog\n",
    "from nblog import logger as lg\n",
    "from nblog import NBLog as nblc\n",
    "import ipynbname"
   ]
  },
  {
   "cell_type": "code",
   "execution_count": 2,
   "metadata": {},
   "outputs": [],
   "source": [
    "nb_fname = ipynbname.name()"
   ]
  },
  {
   "cell_type": "code",
   "execution_count": 3,
   "metadata": {},
   "outputs": [
    {
     "name": "stderr",
     "output_type": "stream",
     "text": [
      "2021-11-09 15:35:58,372 - nblog - INFO - ------------------------- NEW RUN -------------------------\n",
      "2021-11-09 15:35:58,375 - nblog - INFO - nb name: telem-EML-mixed-encoding-breast\n"
     ]
    }
   ],
   "source": [
    "nbl = nblc()\n",
    "lg.info(nbl.newrun)\n",
    "lg.info(f'nb name: {nb_fname}')"
   ]
  },
  {
   "cell_type": "markdown",
   "metadata": {},
   "source": [
    "## Exploratory ML from Kaggle (like Brownlee's 'Spot Check' process)\n",
    "(original was on titanic data - this is adapted to breast ca data)  \n",
    "https://www.kaggle.com/lovroselic/titanic-ls-take-2"
   ]
  },
  {
   "cell_type": "markdown",
   "metadata": {},
   "source": [
    "## Import Libraries"
   ]
  },
  {
   "cell_type": "code",
   "execution_count": 77,
   "metadata": {
    "_cell_guid": "b1076dfc-b9ad-4769-8c92-a6c4dae69d19",
    "_uuid": "8f2839f25d086af736a60e9eeb907d3b93b6e0e5",
    "tags": []
   },
   "outputs": [],
   "source": [
    "import numpy as np\n",
    "from numpy.random import seed\n",
    "from numpy.random import default_rng\n",
    "import pandas as pd\n",
    "from matplotlib import pyplot as plt\n",
    "import seaborn as sns\n",
    "sns.set(style='white', context='notebook', palette='deep')"
   ]
  },
  {
   "cell_type": "code",
   "execution_count": 5,
   "metadata": {
    "_cell_guid": "b1076dfc-b9ad-4769-8c92-a6c4dae69d19",
    "_uuid": "8f2839f25d086af736a60e9eeb907d3b93b6e0e5",
    "tags": []
   },
   "outputs": [],
   "source": [
    "from sklearn.preprocessing import LabelEncoder, OrdinalEncoder, StandardScaler, MinMaxScaler\n",
    "from sklearn.compose import ColumnTransformer\n",
    "from sklearn.model_selection import train_test_split\n",
    "from sklearn.model_selection import cross_val_score, GridSearchCV, RandomizedSearchCV\n",
    "from sklearn.metrics import classification_report, accuracy_score\n",
    "from sklearn.metrics import confusion_matrix, ConfusionMatrixDisplay\n",
    "\n",
    "from sklearn.svm import SVC\n",
    "from sklearn.tree import DecisionTreeClassifier\n",
    "from sklearn.ensemble import RandomForestClassifier, AdaBoostClassifier, VotingClassifier\n",
    "from sklearn.ensemble import GradientBoostingClassifier, ExtraTreesClassifier\n",
    "from sklearn.linear_model import LogisticRegression, SGDClassifier\n",
    "from sklearn.neighbors import KNeighborsClassifier"
   ]
  },
  {
   "cell_type": "code",
   "execution_count": 6,
   "metadata": {},
   "outputs": [
    {
     "name": "stderr",
     "output_type": "stream",
     "text": [
      "2021-11-09 15:35:58.739812: W tensorflow/stream_executor/platform/default/dso_loader.cc:64] Could not load dynamic library 'libcudart.so.11.0'; dlerror: libcudart.so.11.0: cannot open shared object file: No such file or directory\n",
      "2021-11-09 15:35:58.739854: I tensorflow/stream_executor/cuda/cudart_stub.cc:29] Ignore above cudart dlerror if you do not have a GPU set up on your machine.\n"
     ]
    }
   ],
   "source": [
    "from tensorflow.keras.models import Sequential\n",
    "from tensorflow.keras.layers import Dense, Flatten\n",
    "from tensorflow.keras.layers import Dropout\n",
    "from tensorflow.keras.layers import BatchNormalization\n",
    "from tensorflow.keras.callbacks import EarlyStopping\n",
    "from tensorflow.keras.optimizers import Adam\n",
    "from tensorflow.keras.utils import plot_model\n",
    "import tensorflow\n",
    "\n",
    "import xgboost as xgb"
   ]
  },
  {
   "cell_type": "markdown",
   "metadata": {},
   "source": [
    "## Data Prep"
   ]
  },
  {
   "cell_type": "markdown",
   "metadata": {},
   "source": [
    "### Load Data and Overview"
   ]
  },
  {
   "cell_type": "code",
   "execution_count": 7,
   "metadata": {},
   "outputs": [],
   "source": [
    "# define the location of the dataset\n",
    "url = \"https://raw.githubusercontent.com/jbrownlee/Datasets/master/breast-cancer.csv\"\n",
    "# load the dataset\n",
    "dataset = pd.read_csv(url, header=None)"
   ]
  },
  {
   "cell_type": "markdown",
   "metadata": {},
   "source": [
    "1. Class: no-recurrence-events, recurrence-events\n",
    "2. age: 10-19, 20-29, 30-39, 40-49, 50-59, 60-69, 70-79, 80-89, 90-99.\n",
    "3. menopause: lt40, ge40, premeno.\n",
    "4. tumor-size: 0-4, 5-9, 10-14, 15-19, 20-24, 25-29, 30-34, 35-39, 40-44, 45-49, 50-54, 55-59.\n",
    "5. inv-nodes: 0-2, 3-5, 6-8, 9-11, 12-14, 15-17, 18-20, 21-23, 24-26, 27-29, 30-32, 33-35, 36-39.\n",
    "6. node-caps: yes, no.\n",
    "7. deg-malig: 1, 2, 3.\n",
    "8. breast: left, right.\n",
    "9. breast-quad: left-up, left-low, right-up, right-low, central.\n",
    "10. irradiat: yes, no."
   ]
  },
  {
   "cell_type": "code",
   "execution_count": 8,
   "metadata": {},
   "outputs": [],
   "source": [
    "colnames = ['age', 'menopause', 'tum_sz', 'inv_nodes', 'node_caps', 'deg_malig', 'lat', 'quad', 'irr', 'recurrence_class']"
   ]
  },
  {
   "cell_type": "code",
   "execution_count": 9,
   "metadata": {
    "tags": []
   },
   "outputs": [
    {
     "data": {
      "text/html": [
       "<div>\n",
       "<style scoped>\n",
       "    .dataframe tbody tr th:only-of-type {\n",
       "        vertical-align: middle;\n",
       "    }\n",
       "\n",
       "    .dataframe tbody tr th {\n",
       "        vertical-align: top;\n",
       "    }\n",
       "\n",
       "    .dataframe thead th {\n",
       "        text-align: right;\n",
       "    }\n",
       "</style>\n",
       "<table border=\"1\" class=\"dataframe\">\n",
       "  <thead>\n",
       "    <tr style=\"text-align: right;\">\n",
       "      <th></th>\n",
       "      <th>age</th>\n",
       "      <th>menopause</th>\n",
       "      <th>tum_sz</th>\n",
       "      <th>inv_nodes</th>\n",
       "      <th>node_caps</th>\n",
       "      <th>deg_malig</th>\n",
       "      <th>lat</th>\n",
       "      <th>quad</th>\n",
       "      <th>irr</th>\n",
       "      <th>recurrence_class</th>\n",
       "    </tr>\n",
       "  </thead>\n",
       "  <tbody>\n",
       "    <tr>\n",
       "      <th>0</th>\n",
       "      <td>'40-49'</td>\n",
       "      <td>'premeno'</td>\n",
       "      <td>'15-19'</td>\n",
       "      <td>'0-2'</td>\n",
       "      <td>'yes'</td>\n",
       "      <td>'3'</td>\n",
       "      <td>'right'</td>\n",
       "      <td>'left_up'</td>\n",
       "      <td>'no'</td>\n",
       "      <td>'recurrence-events'</td>\n",
       "    </tr>\n",
       "    <tr>\n",
       "      <th>1</th>\n",
       "      <td>'50-59'</td>\n",
       "      <td>'ge40'</td>\n",
       "      <td>'15-19'</td>\n",
       "      <td>'0-2'</td>\n",
       "      <td>'no'</td>\n",
       "      <td>'1'</td>\n",
       "      <td>'right'</td>\n",
       "      <td>'central'</td>\n",
       "      <td>'no'</td>\n",
       "      <td>'no-recurrence-events'</td>\n",
       "    </tr>\n",
       "    <tr>\n",
       "      <th>2</th>\n",
       "      <td>'50-59'</td>\n",
       "      <td>'ge40'</td>\n",
       "      <td>'35-39'</td>\n",
       "      <td>'0-2'</td>\n",
       "      <td>'no'</td>\n",
       "      <td>'2'</td>\n",
       "      <td>'left'</td>\n",
       "      <td>'left_low'</td>\n",
       "      <td>'no'</td>\n",
       "      <td>'recurrence-events'</td>\n",
       "    </tr>\n",
       "    <tr>\n",
       "      <th>3</th>\n",
       "      <td>'40-49'</td>\n",
       "      <td>'premeno'</td>\n",
       "      <td>'35-39'</td>\n",
       "      <td>'0-2'</td>\n",
       "      <td>'yes'</td>\n",
       "      <td>'3'</td>\n",
       "      <td>'right'</td>\n",
       "      <td>'left_low'</td>\n",
       "      <td>'yes'</td>\n",
       "      <td>'no-recurrence-events'</td>\n",
       "    </tr>\n",
       "    <tr>\n",
       "      <th>4</th>\n",
       "      <td>'40-49'</td>\n",
       "      <td>'premeno'</td>\n",
       "      <td>'30-34'</td>\n",
       "      <td>'3-5'</td>\n",
       "      <td>'yes'</td>\n",
       "      <td>'2'</td>\n",
       "      <td>'left'</td>\n",
       "      <td>'right_up'</td>\n",
       "      <td>'no'</td>\n",
       "      <td>'recurrence-events'</td>\n",
       "    </tr>\n",
       "    <tr>\n",
       "      <th>...</th>\n",
       "      <td>...</td>\n",
       "      <td>...</td>\n",
       "      <td>...</td>\n",
       "      <td>...</td>\n",
       "      <td>...</td>\n",
       "      <td>...</td>\n",
       "      <td>...</td>\n",
       "      <td>...</td>\n",
       "      <td>...</td>\n",
       "      <td>...</td>\n",
       "    </tr>\n",
       "    <tr>\n",
       "      <th>281</th>\n",
       "      <td>'50-59'</td>\n",
       "      <td>'ge40'</td>\n",
       "      <td>'30-34'</td>\n",
       "      <td>'6-8'</td>\n",
       "      <td>'yes'</td>\n",
       "      <td>'2'</td>\n",
       "      <td>'left'</td>\n",
       "      <td>'left_low'</td>\n",
       "      <td>'no'</td>\n",
       "      <td>'no-recurrence-events'</td>\n",
       "    </tr>\n",
       "    <tr>\n",
       "      <th>282</th>\n",
       "      <td>'50-59'</td>\n",
       "      <td>'premeno'</td>\n",
       "      <td>'25-29'</td>\n",
       "      <td>'3-5'</td>\n",
       "      <td>'yes'</td>\n",
       "      <td>'2'</td>\n",
       "      <td>'left'</td>\n",
       "      <td>'left_low'</td>\n",
       "      <td>'yes'</td>\n",
       "      <td>'no-recurrence-events'</td>\n",
       "    </tr>\n",
       "    <tr>\n",
       "      <th>283</th>\n",
       "      <td>'30-39'</td>\n",
       "      <td>'premeno'</td>\n",
       "      <td>'30-34'</td>\n",
       "      <td>'6-8'</td>\n",
       "      <td>'yes'</td>\n",
       "      <td>'2'</td>\n",
       "      <td>'right'</td>\n",
       "      <td>'right_up'</td>\n",
       "      <td>'no'</td>\n",
       "      <td>'no-recurrence-events'</td>\n",
       "    </tr>\n",
       "    <tr>\n",
       "      <th>284</th>\n",
       "      <td>'50-59'</td>\n",
       "      <td>'premeno'</td>\n",
       "      <td>'15-19'</td>\n",
       "      <td>'0-2'</td>\n",
       "      <td>'no'</td>\n",
       "      <td>'2'</td>\n",
       "      <td>'right'</td>\n",
       "      <td>'left_low'</td>\n",
       "      <td>'no'</td>\n",
       "      <td>'no-recurrence-events'</td>\n",
       "    </tr>\n",
       "    <tr>\n",
       "      <th>285</th>\n",
       "      <td>'50-59'</td>\n",
       "      <td>'ge40'</td>\n",
       "      <td>'40-44'</td>\n",
       "      <td>'0-2'</td>\n",
       "      <td>'no'</td>\n",
       "      <td>'3'</td>\n",
       "      <td>'left'</td>\n",
       "      <td>'right_up'</td>\n",
       "      <td>'no'</td>\n",
       "      <td>'no-recurrence-events'</td>\n",
       "    </tr>\n",
       "  </tbody>\n",
       "</table>\n",
       "<p>286 rows × 10 columns</p>\n",
       "</div>"
      ],
      "text/plain": [
       "         age  menopause   tum_sz inv_nodes node_caps deg_malig      lat  \\\n",
       "0    '40-49'  'premeno'  '15-19'     '0-2'     'yes'       '3'  'right'   \n",
       "1    '50-59'     'ge40'  '15-19'     '0-2'      'no'       '1'  'right'   \n",
       "2    '50-59'     'ge40'  '35-39'     '0-2'      'no'       '2'   'left'   \n",
       "3    '40-49'  'premeno'  '35-39'     '0-2'     'yes'       '3'  'right'   \n",
       "4    '40-49'  'premeno'  '30-34'     '3-5'     'yes'       '2'   'left'   \n",
       "..       ...        ...      ...       ...       ...       ...      ...   \n",
       "281  '50-59'     'ge40'  '30-34'     '6-8'     'yes'       '2'   'left'   \n",
       "282  '50-59'  'premeno'  '25-29'     '3-5'     'yes'       '2'   'left'   \n",
       "283  '30-39'  'premeno'  '30-34'     '6-8'     'yes'       '2'  'right'   \n",
       "284  '50-59'  'premeno'  '15-19'     '0-2'      'no'       '2'  'right'   \n",
       "285  '50-59'     'ge40'  '40-44'     '0-2'      'no'       '3'   'left'   \n",
       "\n",
       "           quad    irr        recurrence_class  \n",
       "0     'left_up'   'no'     'recurrence-events'  \n",
       "1     'central'   'no'  'no-recurrence-events'  \n",
       "2    'left_low'   'no'     'recurrence-events'  \n",
       "3    'left_low'  'yes'  'no-recurrence-events'  \n",
       "4    'right_up'   'no'     'recurrence-events'  \n",
       "..          ...    ...                     ...  \n",
       "281  'left_low'   'no'  'no-recurrence-events'  \n",
       "282  'left_low'  'yes'  'no-recurrence-events'  \n",
       "283  'right_up'   'no'  'no-recurrence-events'  \n",
       "284  'left_low'   'no'  'no-recurrence-events'  \n",
       "285  'right_up'   'no'  'no-recurrence-events'  \n",
       "\n",
       "[286 rows x 10 columns]"
      ]
     },
     "execution_count": 9,
     "metadata": {},
     "output_type": "execute_result"
    }
   ],
   "source": [
    "dataset.columns = colnames\n",
    "dataset"
   ]
  },
  {
   "cell_type": "markdown",
   "metadata": {},
   "source": [
    "We can see there are 286 observations with 9 features. We can also see there are no numerical features other than deg_malig (which is currently a string)."
   ]
  },
  {
   "cell_type": "code",
   "execution_count": 10,
   "metadata": {},
   "outputs": [
    {
     "name": "stderr",
     "output_type": "stream",
     "text": [
      "2021-11-09 15:36:00,246 - nblog - INFO - cadprep run\n"
     ]
    }
   ],
   "source": [
    "# deploy any clean and subset methods\n",
    "lg.info(f'cadprep run')"
   ]
  },
  {
   "cell_type": "markdown",
   "metadata": {},
   "source": [
    "### 2.2 Checking Missing Values"
   ]
  },
  {
   "cell_type": "code",
   "execution_count": 11,
   "metadata": {
    "tags": []
   },
   "outputs": [
    {
     "data": {
      "text/plain": [
       "age                 0\n",
       "menopause           0\n",
       "tum_sz              0\n",
       "inv_nodes           0\n",
       "node_caps           8\n",
       "deg_malig           0\n",
       "lat                 0\n",
       "quad                1\n",
       "irr                 0\n",
       "recurrence_class    0\n",
       "dtype: int64"
      ]
     },
     "execution_count": 11,
     "metadata": {},
     "output_type": "execute_result"
    }
   ],
   "source": [
    "dataset.isnull().sum()"
   ]
  },
  {
   "cell_type": "code",
   "execution_count": 12,
   "metadata": {},
   "outputs": [
    {
     "data": {
      "text/html": [
       "<style type=\"text/css\">\n",
       "#T_03091_row0_col0, #T_03091_row1_col0, #T_03091_row2_col0, #T_03091_row3_col0, #T_03091_row5_col0, #T_03091_row6_col0, #T_03091_row8_col0, #T_03091_row9_col0 {\n",
       "  width: 10em;\n",
       "  height: 80%;\n",
       "}\n",
       "#T_03091_row4_col0 {\n",
       "  width: 10em;\n",
       "  height: 80%;\n",
       "  background: linear-gradient(90deg,pink 100.0%, transparent 100.0%);\n",
       "}\n",
       "#T_03091_row7_col0 {\n",
       "  width: 10em;\n",
       "  height: 80%;\n",
       "  background: linear-gradient(90deg,pink 12.5%, transparent 12.5%);\n",
       "}\n",
       "</style>\n",
       "<table id=\"T_03091_\">\n",
       "  <thead>\n",
       "    <tr>\n",
       "      <th class=\"blank level0\" >&nbsp;</th>\n",
       "      <th class=\"col_heading level0 col0\" >Cnt</th>\n",
       "    </tr>\n",
       "  </thead>\n",
       "  <tbody>\n",
       "    <tr>\n",
       "      <th id=\"T_03091_level0_row0\" class=\"row_heading level0 row0\" >age</th>\n",
       "      <td id=\"T_03091_row0_col0\" class=\"data row0 col0\" >0</td>\n",
       "    </tr>\n",
       "    <tr>\n",
       "      <th id=\"T_03091_level0_row1\" class=\"row_heading level0 row1\" >menopause</th>\n",
       "      <td id=\"T_03091_row1_col0\" class=\"data row1 col0\" >0</td>\n",
       "    </tr>\n",
       "    <tr>\n",
       "      <th id=\"T_03091_level0_row2\" class=\"row_heading level0 row2\" >tum_sz</th>\n",
       "      <td id=\"T_03091_row2_col0\" class=\"data row2 col0\" >0</td>\n",
       "    </tr>\n",
       "    <tr>\n",
       "      <th id=\"T_03091_level0_row3\" class=\"row_heading level0 row3\" >inv_nodes</th>\n",
       "      <td id=\"T_03091_row3_col0\" class=\"data row3 col0\" >0</td>\n",
       "    </tr>\n",
       "    <tr>\n",
       "      <th id=\"T_03091_level0_row4\" class=\"row_heading level0 row4\" >node_caps</th>\n",
       "      <td id=\"T_03091_row4_col0\" class=\"data row4 col0\" >8</td>\n",
       "    </tr>\n",
       "    <tr>\n",
       "      <th id=\"T_03091_level0_row5\" class=\"row_heading level0 row5\" >deg_malig</th>\n",
       "      <td id=\"T_03091_row5_col0\" class=\"data row5 col0\" >0</td>\n",
       "    </tr>\n",
       "    <tr>\n",
       "      <th id=\"T_03091_level0_row6\" class=\"row_heading level0 row6\" >lat</th>\n",
       "      <td id=\"T_03091_row6_col0\" class=\"data row6 col0\" >0</td>\n",
       "    </tr>\n",
       "    <tr>\n",
       "      <th id=\"T_03091_level0_row7\" class=\"row_heading level0 row7\" >quad</th>\n",
       "      <td id=\"T_03091_row7_col0\" class=\"data row7 col0\" >1</td>\n",
       "    </tr>\n",
       "    <tr>\n",
       "      <th id=\"T_03091_level0_row8\" class=\"row_heading level0 row8\" >irr</th>\n",
       "      <td id=\"T_03091_row8_col0\" class=\"data row8 col0\" >0</td>\n",
       "    </tr>\n",
       "    <tr>\n",
       "      <th id=\"T_03091_level0_row9\" class=\"row_heading level0 row9\" >recurrence_class</th>\n",
       "      <td id=\"T_03091_row9_col0\" class=\"data row9 col0\" >0</td>\n",
       "    </tr>\n",
       "  </tbody>\n",
       "</table>\n"
      ],
      "text/plain": [
       "<pandas.io.formats.style.Styler at 0x7f95fdb77e50>"
      ]
     },
     "execution_count": 12,
     "metadata": {},
     "output_type": "execute_result"
    }
   ],
   "source": [
    "pd.DataFrame(dataset.isnull().sum(), columns=[\"Cnt\"]).style.bar(color = \"pink\")"
   ]
  },
  {
   "cell_type": "code",
   "execution_count": 13,
   "metadata": {},
   "outputs": [
    {
     "name": "stderr",
     "output_type": "stream",
     "text": [
      "2021-11-09 15:36:00,374 - nblog - INFO - cleaning by dropping 9 records\n"
     ]
    },
    {
     "name": "stdout",
     "output_type": "stream",
     "text": [
      "9\n"
     ]
    },
    {
     "data": {
      "text/plain": [
       "[20, 31, 50, 54, 71, 92, 149, 264, 240]"
      ]
     },
     "execution_count": 13,
     "metadata": {},
     "output_type": "execute_result"
    }
   ],
   "source": [
    "# dataset['node_caps'] = dataset['node_caps'].fillna(np.round(dataset['node_caps'].mean(), 0))  # impute with mean\n",
    "drop_idx1 = dataset[dataset.node_caps.isnull()].index.to_list()\n",
    "drop_idx2 = dataset[dataset.quad.isnull()].index.to_list()\n",
    "drop_idx = drop_idx1 + drop_idx2\n",
    "print(len(drop_idx))\n",
    "lg.info(f'cleaning by dropping {len(drop_idx)} records')\n",
    "drop_idx"
   ]
  },
  {
   "cell_type": "code",
   "execution_count": 14,
   "metadata": {},
   "outputs": [],
   "source": [
    "dataset.drop(index=drop_idx, inplace=True)"
   ]
  },
  {
   "cell_type": "code",
   "execution_count": 15,
   "metadata": {},
   "outputs": [
    {
     "name": "stderr",
     "output_type": "stream",
     "text": [
      "2021-11-09 15:36:00,416 - nblog - INFO - cleaned input data: DataFrame (277, 10)\n"
     ]
    }
   ],
   "source": [
    "lg.info(f'cleaned input data: {type(dataset).__name__} {dataset.shape}')"
   ]
  },
  {
   "cell_type": "markdown",
   "metadata": {},
   "source": [
    "### 2.3 Encoding Categorical Features - binary"
   ]
  },
  {
   "cell_type": "code",
   "execution_count": 16,
   "metadata": {
    "tags": []
   },
   "outputs": [
    {
     "data": {
      "text/plain": [
       "age                  6\n",
       "menopause            3\n",
       "tum_sz              11\n",
       "inv_nodes            7\n",
       "node_caps            2\n",
       "deg_malig            3\n",
       "lat                  2\n",
       "quad                 5\n",
       "irr                  2\n",
       "recurrence_class     2\n",
       "dtype: int64"
      ]
     },
     "execution_count": 16,
     "metadata": {},
     "output_type": "execute_result"
    }
   ],
   "source": [
    "dataset.select_dtypes(exclude=\"number\").nunique()"
   ]
  },
  {
   "cell_type": "markdown",
   "metadata": {},
   "source": [
    "Cols 4, 6, 8 & 9 (node_caps, lat, irr and class) can be encoded with the straight binary label encoder. Rest can be done with one-hot or ordinal."
   ]
  },
  {
   "cell_type": "code",
   "execution_count": 17,
   "metadata": {
    "tags": []
   },
   "outputs": [
    {
     "name": "stderr",
     "output_type": "stream",
     "text": [
      "2021-11-09 15:36:00,457 - nblog - INFO - simple encoding on binary categories\n"
     ]
    },
    {
     "data": {
      "text/html": [
       "<div>\n",
       "<style scoped>\n",
       "    .dataframe tbody tr th:only-of-type {\n",
       "        vertical-align: middle;\n",
       "    }\n",
       "\n",
       "    .dataframe tbody tr th {\n",
       "        vertical-align: top;\n",
       "    }\n",
       "\n",
       "    .dataframe thead th {\n",
       "        text-align: right;\n",
       "    }\n",
       "</style>\n",
       "<table border=\"1\" class=\"dataframe\">\n",
       "  <thead>\n",
       "    <tr style=\"text-align: right;\">\n",
       "      <th></th>\n",
       "      <th>age</th>\n",
       "      <th>menopause</th>\n",
       "      <th>tum_sz</th>\n",
       "      <th>inv_nodes</th>\n",
       "      <th>node_caps</th>\n",
       "      <th>deg_malig</th>\n",
       "      <th>lat</th>\n",
       "      <th>quad</th>\n",
       "      <th>irr</th>\n",
       "      <th>recurrence_class</th>\n",
       "    </tr>\n",
       "  </thead>\n",
       "  <tbody>\n",
       "    <tr>\n",
       "      <th>0</th>\n",
       "      <td>'40-49'</td>\n",
       "      <td>'premeno'</td>\n",
       "      <td>'15-19'</td>\n",
       "      <td>'0-2'</td>\n",
       "      <td>1</td>\n",
       "      <td>'3'</td>\n",
       "      <td>1</td>\n",
       "      <td>'left_up'</td>\n",
       "      <td>0</td>\n",
       "      <td>1</td>\n",
       "    </tr>\n",
       "    <tr>\n",
       "      <th>1</th>\n",
       "      <td>'50-59'</td>\n",
       "      <td>'ge40'</td>\n",
       "      <td>'15-19'</td>\n",
       "      <td>'0-2'</td>\n",
       "      <td>0</td>\n",
       "      <td>'1'</td>\n",
       "      <td>1</td>\n",
       "      <td>'central'</td>\n",
       "      <td>0</td>\n",
       "      <td>0</td>\n",
       "    </tr>\n",
       "    <tr>\n",
       "      <th>2</th>\n",
       "      <td>'50-59'</td>\n",
       "      <td>'ge40'</td>\n",
       "      <td>'35-39'</td>\n",
       "      <td>'0-2'</td>\n",
       "      <td>0</td>\n",
       "      <td>'2'</td>\n",
       "      <td>0</td>\n",
       "      <td>'left_low'</td>\n",
       "      <td>0</td>\n",
       "      <td>1</td>\n",
       "    </tr>\n",
       "    <tr>\n",
       "      <th>3</th>\n",
       "      <td>'40-49'</td>\n",
       "      <td>'premeno'</td>\n",
       "      <td>'35-39'</td>\n",
       "      <td>'0-2'</td>\n",
       "      <td>1</td>\n",
       "      <td>'3'</td>\n",
       "      <td>1</td>\n",
       "      <td>'left_low'</td>\n",
       "      <td>1</td>\n",
       "      <td>0</td>\n",
       "    </tr>\n",
       "    <tr>\n",
       "      <th>4</th>\n",
       "      <td>'40-49'</td>\n",
       "      <td>'premeno'</td>\n",
       "      <td>'30-34'</td>\n",
       "      <td>'3-5'</td>\n",
       "      <td>1</td>\n",
       "      <td>'2'</td>\n",
       "      <td>0</td>\n",
       "      <td>'right_up'</td>\n",
       "      <td>0</td>\n",
       "      <td>1</td>\n",
       "    </tr>\n",
       "    <tr>\n",
       "      <th>...</th>\n",
       "      <td>...</td>\n",
       "      <td>...</td>\n",
       "      <td>...</td>\n",
       "      <td>...</td>\n",
       "      <td>...</td>\n",
       "      <td>...</td>\n",
       "      <td>...</td>\n",
       "      <td>...</td>\n",
       "      <td>...</td>\n",
       "      <td>...</td>\n",
       "    </tr>\n",
       "    <tr>\n",
       "      <th>281</th>\n",
       "      <td>'50-59'</td>\n",
       "      <td>'ge40'</td>\n",
       "      <td>'30-34'</td>\n",
       "      <td>'6-8'</td>\n",
       "      <td>1</td>\n",
       "      <td>'2'</td>\n",
       "      <td>0</td>\n",
       "      <td>'left_low'</td>\n",
       "      <td>0</td>\n",
       "      <td>0</td>\n",
       "    </tr>\n",
       "    <tr>\n",
       "      <th>282</th>\n",
       "      <td>'50-59'</td>\n",
       "      <td>'premeno'</td>\n",
       "      <td>'25-29'</td>\n",
       "      <td>'3-5'</td>\n",
       "      <td>1</td>\n",
       "      <td>'2'</td>\n",
       "      <td>0</td>\n",
       "      <td>'left_low'</td>\n",
       "      <td>1</td>\n",
       "      <td>0</td>\n",
       "    </tr>\n",
       "    <tr>\n",
       "      <th>283</th>\n",
       "      <td>'30-39'</td>\n",
       "      <td>'premeno'</td>\n",
       "      <td>'30-34'</td>\n",
       "      <td>'6-8'</td>\n",
       "      <td>1</td>\n",
       "      <td>'2'</td>\n",
       "      <td>1</td>\n",
       "      <td>'right_up'</td>\n",
       "      <td>0</td>\n",
       "      <td>0</td>\n",
       "    </tr>\n",
       "    <tr>\n",
       "      <th>284</th>\n",
       "      <td>'50-59'</td>\n",
       "      <td>'premeno'</td>\n",
       "      <td>'15-19'</td>\n",
       "      <td>'0-2'</td>\n",
       "      <td>0</td>\n",
       "      <td>'2'</td>\n",
       "      <td>1</td>\n",
       "      <td>'left_low'</td>\n",
       "      <td>0</td>\n",
       "      <td>0</td>\n",
       "    </tr>\n",
       "    <tr>\n",
       "      <th>285</th>\n",
       "      <td>'50-59'</td>\n",
       "      <td>'ge40'</td>\n",
       "      <td>'40-44'</td>\n",
       "      <td>'0-2'</td>\n",
       "      <td>0</td>\n",
       "      <td>'3'</td>\n",
       "      <td>0</td>\n",
       "      <td>'right_up'</td>\n",
       "      <td>0</td>\n",
       "      <td>0</td>\n",
       "    </tr>\n",
       "  </tbody>\n",
       "</table>\n",
       "<p>277 rows × 10 columns</p>\n",
       "</div>"
      ],
      "text/plain": [
       "         age  menopause   tum_sz inv_nodes  node_caps deg_malig  lat  \\\n",
       "0    '40-49'  'premeno'  '15-19'     '0-2'          1       '3'    1   \n",
       "1    '50-59'     'ge40'  '15-19'     '0-2'          0       '1'    1   \n",
       "2    '50-59'     'ge40'  '35-39'     '0-2'          0       '2'    0   \n",
       "3    '40-49'  'premeno'  '35-39'     '0-2'          1       '3'    1   \n",
       "4    '40-49'  'premeno'  '30-34'     '3-5'          1       '2'    0   \n",
       "..       ...        ...      ...       ...        ...       ...  ...   \n",
       "281  '50-59'     'ge40'  '30-34'     '6-8'          1       '2'    0   \n",
       "282  '50-59'  'premeno'  '25-29'     '3-5'          1       '2'    0   \n",
       "283  '30-39'  'premeno'  '30-34'     '6-8'          1       '2'    1   \n",
       "284  '50-59'  'premeno'  '15-19'     '0-2'          0       '2'    1   \n",
       "285  '50-59'     'ge40'  '40-44'     '0-2'          0       '3'    0   \n",
       "\n",
       "           quad  irr  recurrence_class  \n",
       "0     'left_up'    0                 1  \n",
       "1     'central'    0                 0  \n",
       "2    'left_low'    0                 1  \n",
       "3    'left_low'    1                 0  \n",
       "4    'right_up'    0                 1  \n",
       "..          ...  ...               ...  \n",
       "281  'left_low'    0                 0  \n",
       "282  'left_low'    1                 0  \n",
       "283  'right_up'    0                 0  \n",
       "284  'left_low'    0                 0  \n",
       "285  'right_up'    0                 0  \n",
       "\n",
       "[277 rows x 10 columns]"
      ]
     },
     "execution_count": 17,
     "metadata": {},
     "output_type": "execute_result"
    }
   ],
   "source": [
    "le = LabelEncoder()\n",
    "dataset['node_caps']=le.fit_transform(dataset['node_caps'])\n",
    "dataset['lat']=le.fit_transform(dataset['lat'])\n",
    "dataset['irr']=le.fit_transform(dataset['irr'])\n",
    "dataset['recurrence_class']=le.fit_transform(dataset['recurrence_class'])\n",
    "lg.info(f'simple encoding on binary categories')\n",
    "dataset"
   ]
  },
  {
   "cell_type": "markdown",
   "metadata": {},
   "source": [
    "For col 4 node_caps  yes = 1,   no = 0  \n",
    "For col 6 lat right = 1, left = 0   \n",
    "For col 8 irr  yes = 1,   no = 0  \n",
    "For col 9 class recurrence = 1"
   ]
  },
  {
   "cell_type": "markdown",
   "metadata": {},
   "source": [
    "### 2.4a Encoding Categorical Features ordinal"
   ]
  },
  {
   "cell_type": "code",
   "execution_count": 18,
   "metadata": {},
   "outputs": [
    {
     "name": "stderr",
     "output_type": "stream",
     "text": [
      "2021-11-09 15:36:00,488 - nblog - INFO - ordinal encoding on suitable categories\n"
     ]
    }
   ],
   "source": [
    "oe = OrdinalEncoder()\n",
    "dataset['deg_malig_oe']=oe.fit_transform(dataset['deg_malig'].to_frame())\n",
    "dataset.drop(columns='deg_malig', inplace=True)\n",
    "lg.info(f'ordinal encoding on suitable categories')"
   ]
  },
  {
   "cell_type": "code",
   "execution_count": 19,
   "metadata": {},
   "outputs": [
    {
     "data": {
      "text/html": [
       "<div>\n",
       "<style scoped>\n",
       "    .dataframe tbody tr th:only-of-type {\n",
       "        vertical-align: middle;\n",
       "    }\n",
       "\n",
       "    .dataframe tbody tr th {\n",
       "        vertical-align: top;\n",
       "    }\n",
       "\n",
       "    .dataframe thead th {\n",
       "        text-align: right;\n",
       "    }\n",
       "</style>\n",
       "<table border=\"1\" class=\"dataframe\">\n",
       "  <thead>\n",
       "    <tr style=\"text-align: right;\">\n",
       "      <th></th>\n",
       "      <th>age</th>\n",
       "      <th>menopause</th>\n",
       "      <th>tum_sz</th>\n",
       "      <th>inv_nodes</th>\n",
       "      <th>node_caps</th>\n",
       "      <th>lat</th>\n",
       "      <th>quad</th>\n",
       "      <th>irr</th>\n",
       "      <th>recurrence_class</th>\n",
       "      <th>deg_malig_oe</th>\n",
       "    </tr>\n",
       "  </thead>\n",
       "  <tbody>\n",
       "    <tr>\n",
       "      <th>0</th>\n",
       "      <td>'40-49'</td>\n",
       "      <td>'premeno'</td>\n",
       "      <td>'15-19'</td>\n",
       "      <td>'0-2'</td>\n",
       "      <td>1</td>\n",
       "      <td>1</td>\n",
       "      <td>'left_up'</td>\n",
       "      <td>0</td>\n",
       "      <td>1</td>\n",
       "      <td>2.0</td>\n",
       "    </tr>\n",
       "    <tr>\n",
       "      <th>1</th>\n",
       "      <td>'50-59'</td>\n",
       "      <td>'ge40'</td>\n",
       "      <td>'15-19'</td>\n",
       "      <td>'0-2'</td>\n",
       "      <td>0</td>\n",
       "      <td>1</td>\n",
       "      <td>'central'</td>\n",
       "      <td>0</td>\n",
       "      <td>0</td>\n",
       "      <td>0.0</td>\n",
       "    </tr>\n",
       "    <tr>\n",
       "      <th>2</th>\n",
       "      <td>'50-59'</td>\n",
       "      <td>'ge40'</td>\n",
       "      <td>'35-39'</td>\n",
       "      <td>'0-2'</td>\n",
       "      <td>0</td>\n",
       "      <td>0</td>\n",
       "      <td>'left_low'</td>\n",
       "      <td>0</td>\n",
       "      <td>1</td>\n",
       "      <td>1.0</td>\n",
       "    </tr>\n",
       "    <tr>\n",
       "      <th>3</th>\n",
       "      <td>'40-49'</td>\n",
       "      <td>'premeno'</td>\n",
       "      <td>'35-39'</td>\n",
       "      <td>'0-2'</td>\n",
       "      <td>1</td>\n",
       "      <td>1</td>\n",
       "      <td>'left_low'</td>\n",
       "      <td>1</td>\n",
       "      <td>0</td>\n",
       "      <td>2.0</td>\n",
       "    </tr>\n",
       "    <tr>\n",
       "      <th>4</th>\n",
       "      <td>'40-49'</td>\n",
       "      <td>'premeno'</td>\n",
       "      <td>'30-34'</td>\n",
       "      <td>'3-5'</td>\n",
       "      <td>1</td>\n",
       "      <td>0</td>\n",
       "      <td>'right_up'</td>\n",
       "      <td>0</td>\n",
       "      <td>1</td>\n",
       "      <td>1.0</td>\n",
       "    </tr>\n",
       "    <tr>\n",
       "      <th>...</th>\n",
       "      <td>...</td>\n",
       "      <td>...</td>\n",
       "      <td>...</td>\n",
       "      <td>...</td>\n",
       "      <td>...</td>\n",
       "      <td>...</td>\n",
       "      <td>...</td>\n",
       "      <td>...</td>\n",
       "      <td>...</td>\n",
       "      <td>...</td>\n",
       "    </tr>\n",
       "    <tr>\n",
       "      <th>281</th>\n",
       "      <td>'50-59'</td>\n",
       "      <td>'ge40'</td>\n",
       "      <td>'30-34'</td>\n",
       "      <td>'6-8'</td>\n",
       "      <td>1</td>\n",
       "      <td>0</td>\n",
       "      <td>'left_low'</td>\n",
       "      <td>0</td>\n",
       "      <td>0</td>\n",
       "      <td>1.0</td>\n",
       "    </tr>\n",
       "    <tr>\n",
       "      <th>282</th>\n",
       "      <td>'50-59'</td>\n",
       "      <td>'premeno'</td>\n",
       "      <td>'25-29'</td>\n",
       "      <td>'3-5'</td>\n",
       "      <td>1</td>\n",
       "      <td>0</td>\n",
       "      <td>'left_low'</td>\n",
       "      <td>1</td>\n",
       "      <td>0</td>\n",
       "      <td>1.0</td>\n",
       "    </tr>\n",
       "    <tr>\n",
       "      <th>283</th>\n",
       "      <td>'30-39'</td>\n",
       "      <td>'premeno'</td>\n",
       "      <td>'30-34'</td>\n",
       "      <td>'6-8'</td>\n",
       "      <td>1</td>\n",
       "      <td>1</td>\n",
       "      <td>'right_up'</td>\n",
       "      <td>0</td>\n",
       "      <td>0</td>\n",
       "      <td>1.0</td>\n",
       "    </tr>\n",
       "    <tr>\n",
       "      <th>284</th>\n",
       "      <td>'50-59'</td>\n",
       "      <td>'premeno'</td>\n",
       "      <td>'15-19'</td>\n",
       "      <td>'0-2'</td>\n",
       "      <td>0</td>\n",
       "      <td>1</td>\n",
       "      <td>'left_low'</td>\n",
       "      <td>0</td>\n",
       "      <td>0</td>\n",
       "      <td>1.0</td>\n",
       "    </tr>\n",
       "    <tr>\n",
       "      <th>285</th>\n",
       "      <td>'50-59'</td>\n",
       "      <td>'ge40'</td>\n",
       "      <td>'40-44'</td>\n",
       "      <td>'0-2'</td>\n",
       "      <td>0</td>\n",
       "      <td>0</td>\n",
       "      <td>'right_up'</td>\n",
       "      <td>0</td>\n",
       "      <td>0</td>\n",
       "      <td>2.0</td>\n",
       "    </tr>\n",
       "  </tbody>\n",
       "</table>\n",
       "<p>277 rows × 10 columns</p>\n",
       "</div>"
      ],
      "text/plain": [
       "         age  menopause   tum_sz inv_nodes  node_caps  lat        quad  irr  \\\n",
       "0    '40-49'  'premeno'  '15-19'     '0-2'          1    1   'left_up'    0   \n",
       "1    '50-59'     'ge40'  '15-19'     '0-2'          0    1   'central'    0   \n",
       "2    '50-59'     'ge40'  '35-39'     '0-2'          0    0  'left_low'    0   \n",
       "3    '40-49'  'premeno'  '35-39'     '0-2'          1    1  'left_low'    1   \n",
       "4    '40-49'  'premeno'  '30-34'     '3-5'          1    0  'right_up'    0   \n",
       "..       ...        ...      ...       ...        ...  ...         ...  ...   \n",
       "281  '50-59'     'ge40'  '30-34'     '6-8'          1    0  'left_low'    0   \n",
       "282  '50-59'  'premeno'  '25-29'     '3-5'          1    0  'left_low'    1   \n",
       "283  '30-39'  'premeno'  '30-34'     '6-8'          1    1  'right_up'    0   \n",
       "284  '50-59'  'premeno'  '15-19'     '0-2'          0    1  'left_low'    0   \n",
       "285  '50-59'     'ge40'  '40-44'     '0-2'          0    0  'right_up'    0   \n",
       "\n",
       "     recurrence_class  deg_malig_oe  \n",
       "0                   1           2.0  \n",
       "1                   0           0.0  \n",
       "2                   1           1.0  \n",
       "3                   0           2.0  \n",
       "4                   1           1.0  \n",
       "..                ...           ...  \n",
       "281                 0           1.0  \n",
       "282                 0           1.0  \n",
       "283                 0           1.0  \n",
       "284                 0           1.0  \n",
       "285                 0           2.0  \n",
       "\n",
       "[277 rows x 10 columns]"
      ]
     },
     "execution_count": 19,
     "metadata": {},
     "output_type": "execute_result"
    }
   ],
   "source": [
    "dataset"
   ]
  },
  {
   "cell_type": "markdown",
   "metadata": {},
   "source": [
    "### 2.4b Encoding Categorical Features - one-hot"
   ]
  },
  {
   "cell_type": "code",
   "execution_count": 20,
   "metadata": {
    "tags": []
   },
   "outputs": [
    {
     "name": "stderr",
     "output_type": "stream",
     "text": [
      "2021-11-09 15:36:00,542 - nblog - INFO - one-hot encoding on remaining (unordered) categories\n"
     ]
    },
    {
     "data": {
      "text/html": [
       "<div>\n",
       "<style scoped>\n",
       "    .dataframe tbody tr th:only-of-type {\n",
       "        vertical-align: middle;\n",
       "    }\n",
       "\n",
       "    .dataframe tbody tr th {\n",
       "        vertical-align: top;\n",
       "    }\n",
       "\n",
       "    .dataframe thead th {\n",
       "        text-align: right;\n",
       "    }\n",
       "</style>\n",
       "<table border=\"1\" class=\"dataframe\">\n",
       "  <thead>\n",
       "    <tr style=\"text-align: right;\">\n",
       "      <th></th>\n",
       "      <th>node_caps</th>\n",
       "      <th>lat</th>\n",
       "      <th>irr</th>\n",
       "      <th>recurrence_class</th>\n",
       "      <th>deg_malig_oe</th>\n",
       "      <th>age_'20-29'</th>\n",
       "      <th>age_'30-39'</th>\n",
       "      <th>age_'40-49'</th>\n",
       "      <th>age_'50-59'</th>\n",
       "      <th>age_'60-69'</th>\n",
       "      <th>...</th>\n",
       "      <th>inv_nodes_'15-17'</th>\n",
       "      <th>inv_nodes_'24-26'</th>\n",
       "      <th>inv_nodes_'3-5'</th>\n",
       "      <th>inv_nodes_'6-8'</th>\n",
       "      <th>inv_nodes_'9-11'</th>\n",
       "      <th>quad_'central'</th>\n",
       "      <th>quad_'left_low'</th>\n",
       "      <th>quad_'left_up'</th>\n",
       "      <th>quad_'right_low'</th>\n",
       "      <th>quad_'right_up'</th>\n",
       "    </tr>\n",
       "  </thead>\n",
       "  <tbody>\n",
       "    <tr>\n",
       "      <th>0</th>\n",
       "      <td>1</td>\n",
       "      <td>1</td>\n",
       "      <td>0</td>\n",
       "      <td>1</td>\n",
       "      <td>2.0</td>\n",
       "      <td>0</td>\n",
       "      <td>0</td>\n",
       "      <td>1</td>\n",
       "      <td>0</td>\n",
       "      <td>0</td>\n",
       "      <td>...</td>\n",
       "      <td>0</td>\n",
       "      <td>0</td>\n",
       "      <td>0</td>\n",
       "      <td>0</td>\n",
       "      <td>0</td>\n",
       "      <td>0</td>\n",
       "      <td>0</td>\n",
       "      <td>1</td>\n",
       "      <td>0</td>\n",
       "      <td>0</td>\n",
       "    </tr>\n",
       "    <tr>\n",
       "      <th>1</th>\n",
       "      <td>0</td>\n",
       "      <td>1</td>\n",
       "      <td>0</td>\n",
       "      <td>0</td>\n",
       "      <td>0.0</td>\n",
       "      <td>0</td>\n",
       "      <td>0</td>\n",
       "      <td>0</td>\n",
       "      <td>1</td>\n",
       "      <td>0</td>\n",
       "      <td>...</td>\n",
       "      <td>0</td>\n",
       "      <td>0</td>\n",
       "      <td>0</td>\n",
       "      <td>0</td>\n",
       "      <td>0</td>\n",
       "      <td>1</td>\n",
       "      <td>0</td>\n",
       "      <td>0</td>\n",
       "      <td>0</td>\n",
       "      <td>0</td>\n",
       "    </tr>\n",
       "    <tr>\n",
       "      <th>2</th>\n",
       "      <td>0</td>\n",
       "      <td>0</td>\n",
       "      <td>0</td>\n",
       "      <td>1</td>\n",
       "      <td>1.0</td>\n",
       "      <td>0</td>\n",
       "      <td>0</td>\n",
       "      <td>0</td>\n",
       "      <td>1</td>\n",
       "      <td>0</td>\n",
       "      <td>...</td>\n",
       "      <td>0</td>\n",
       "      <td>0</td>\n",
       "      <td>0</td>\n",
       "      <td>0</td>\n",
       "      <td>0</td>\n",
       "      <td>0</td>\n",
       "      <td>1</td>\n",
       "      <td>0</td>\n",
       "      <td>0</td>\n",
       "      <td>0</td>\n",
       "    </tr>\n",
       "    <tr>\n",
       "      <th>3</th>\n",
       "      <td>1</td>\n",
       "      <td>1</td>\n",
       "      <td>1</td>\n",
       "      <td>0</td>\n",
       "      <td>2.0</td>\n",
       "      <td>0</td>\n",
       "      <td>0</td>\n",
       "      <td>1</td>\n",
       "      <td>0</td>\n",
       "      <td>0</td>\n",
       "      <td>...</td>\n",
       "      <td>0</td>\n",
       "      <td>0</td>\n",
       "      <td>0</td>\n",
       "      <td>0</td>\n",
       "      <td>0</td>\n",
       "      <td>0</td>\n",
       "      <td>1</td>\n",
       "      <td>0</td>\n",
       "      <td>0</td>\n",
       "      <td>0</td>\n",
       "    </tr>\n",
       "    <tr>\n",
       "      <th>4</th>\n",
       "      <td>1</td>\n",
       "      <td>0</td>\n",
       "      <td>0</td>\n",
       "      <td>1</td>\n",
       "      <td>1.0</td>\n",
       "      <td>0</td>\n",
       "      <td>0</td>\n",
       "      <td>1</td>\n",
       "      <td>0</td>\n",
       "      <td>0</td>\n",
       "      <td>...</td>\n",
       "      <td>0</td>\n",
       "      <td>0</td>\n",
       "      <td>1</td>\n",
       "      <td>0</td>\n",
       "      <td>0</td>\n",
       "      <td>0</td>\n",
       "      <td>0</td>\n",
       "      <td>0</td>\n",
       "      <td>0</td>\n",
       "      <td>1</td>\n",
       "    </tr>\n",
       "    <tr>\n",
       "      <th>...</th>\n",
       "      <td>...</td>\n",
       "      <td>...</td>\n",
       "      <td>...</td>\n",
       "      <td>...</td>\n",
       "      <td>...</td>\n",
       "      <td>...</td>\n",
       "      <td>...</td>\n",
       "      <td>...</td>\n",
       "      <td>...</td>\n",
       "      <td>...</td>\n",
       "      <td>...</td>\n",
       "      <td>...</td>\n",
       "      <td>...</td>\n",
       "      <td>...</td>\n",
       "      <td>...</td>\n",
       "      <td>...</td>\n",
       "      <td>...</td>\n",
       "      <td>...</td>\n",
       "      <td>...</td>\n",
       "      <td>...</td>\n",
       "      <td>...</td>\n",
       "    </tr>\n",
       "    <tr>\n",
       "      <th>281</th>\n",
       "      <td>1</td>\n",
       "      <td>0</td>\n",
       "      <td>0</td>\n",
       "      <td>0</td>\n",
       "      <td>1.0</td>\n",
       "      <td>0</td>\n",
       "      <td>0</td>\n",
       "      <td>0</td>\n",
       "      <td>1</td>\n",
       "      <td>0</td>\n",
       "      <td>...</td>\n",
       "      <td>0</td>\n",
       "      <td>0</td>\n",
       "      <td>0</td>\n",
       "      <td>1</td>\n",
       "      <td>0</td>\n",
       "      <td>0</td>\n",
       "      <td>1</td>\n",
       "      <td>0</td>\n",
       "      <td>0</td>\n",
       "      <td>0</td>\n",
       "    </tr>\n",
       "    <tr>\n",
       "      <th>282</th>\n",
       "      <td>1</td>\n",
       "      <td>0</td>\n",
       "      <td>1</td>\n",
       "      <td>0</td>\n",
       "      <td>1.0</td>\n",
       "      <td>0</td>\n",
       "      <td>0</td>\n",
       "      <td>0</td>\n",
       "      <td>1</td>\n",
       "      <td>0</td>\n",
       "      <td>...</td>\n",
       "      <td>0</td>\n",
       "      <td>0</td>\n",
       "      <td>1</td>\n",
       "      <td>0</td>\n",
       "      <td>0</td>\n",
       "      <td>0</td>\n",
       "      <td>1</td>\n",
       "      <td>0</td>\n",
       "      <td>0</td>\n",
       "      <td>0</td>\n",
       "    </tr>\n",
       "    <tr>\n",
       "      <th>283</th>\n",
       "      <td>1</td>\n",
       "      <td>1</td>\n",
       "      <td>0</td>\n",
       "      <td>0</td>\n",
       "      <td>1.0</td>\n",
       "      <td>0</td>\n",
       "      <td>1</td>\n",
       "      <td>0</td>\n",
       "      <td>0</td>\n",
       "      <td>0</td>\n",
       "      <td>...</td>\n",
       "      <td>0</td>\n",
       "      <td>0</td>\n",
       "      <td>0</td>\n",
       "      <td>1</td>\n",
       "      <td>0</td>\n",
       "      <td>0</td>\n",
       "      <td>0</td>\n",
       "      <td>0</td>\n",
       "      <td>0</td>\n",
       "      <td>1</td>\n",
       "    </tr>\n",
       "    <tr>\n",
       "      <th>284</th>\n",
       "      <td>0</td>\n",
       "      <td>1</td>\n",
       "      <td>0</td>\n",
       "      <td>0</td>\n",
       "      <td>1.0</td>\n",
       "      <td>0</td>\n",
       "      <td>0</td>\n",
       "      <td>0</td>\n",
       "      <td>1</td>\n",
       "      <td>0</td>\n",
       "      <td>...</td>\n",
       "      <td>0</td>\n",
       "      <td>0</td>\n",
       "      <td>0</td>\n",
       "      <td>0</td>\n",
       "      <td>0</td>\n",
       "      <td>0</td>\n",
       "      <td>1</td>\n",
       "      <td>0</td>\n",
       "      <td>0</td>\n",
       "      <td>0</td>\n",
       "    </tr>\n",
       "    <tr>\n",
       "      <th>285</th>\n",
       "      <td>0</td>\n",
       "      <td>0</td>\n",
       "      <td>0</td>\n",
       "      <td>0</td>\n",
       "      <td>2.0</td>\n",
       "      <td>0</td>\n",
       "      <td>0</td>\n",
       "      <td>0</td>\n",
       "      <td>1</td>\n",
       "      <td>0</td>\n",
       "      <td>...</td>\n",
       "      <td>0</td>\n",
       "      <td>0</td>\n",
       "      <td>0</td>\n",
       "      <td>0</td>\n",
       "      <td>0</td>\n",
       "      <td>0</td>\n",
       "      <td>0</td>\n",
       "      <td>0</td>\n",
       "      <td>0</td>\n",
       "      <td>1</td>\n",
       "    </tr>\n",
       "  </tbody>\n",
       "</table>\n",
       "<p>277 rows × 37 columns</p>\n",
       "</div>"
      ],
      "text/plain": [
       "     node_caps  lat  irr  recurrence_class  deg_malig_oe  age_'20-29'  \\\n",
       "0            1    1    0                 1           2.0            0   \n",
       "1            0    1    0                 0           0.0            0   \n",
       "2            0    0    0                 1           1.0            0   \n",
       "3            1    1    1                 0           2.0            0   \n",
       "4            1    0    0                 1           1.0            0   \n",
       "..         ...  ...  ...               ...           ...          ...   \n",
       "281          1    0    0                 0           1.0            0   \n",
       "282          1    0    1                 0           1.0            0   \n",
       "283          1    1    0                 0           1.0            0   \n",
       "284          0    1    0                 0           1.0            0   \n",
       "285          0    0    0                 0           2.0            0   \n",
       "\n",
       "     age_'30-39'  age_'40-49'  age_'50-59'  age_'60-69'  ...  \\\n",
       "0              0            1            0            0  ...   \n",
       "1              0            0            1            0  ...   \n",
       "2              0            0            1            0  ...   \n",
       "3              0            1            0            0  ...   \n",
       "4              0            1            0            0  ...   \n",
       "..           ...          ...          ...          ...  ...   \n",
       "281            0            0            1            0  ...   \n",
       "282            0            0            1            0  ...   \n",
       "283            1            0            0            0  ...   \n",
       "284            0            0            1            0  ...   \n",
       "285            0            0            1            0  ...   \n",
       "\n",
       "     inv_nodes_'15-17'  inv_nodes_'24-26'  inv_nodes_'3-5'  inv_nodes_'6-8'  \\\n",
       "0                    0                  0                0                0   \n",
       "1                    0                  0                0                0   \n",
       "2                    0                  0                0                0   \n",
       "3                    0                  0                0                0   \n",
       "4                    0                  0                1                0   \n",
       "..                 ...                ...              ...              ...   \n",
       "281                  0                  0                0                1   \n",
       "282                  0                  0                1                0   \n",
       "283                  0                  0                0                1   \n",
       "284                  0                  0                0                0   \n",
       "285                  0                  0                0                0   \n",
       "\n",
       "     inv_nodes_'9-11'  quad_'central'  quad_'left_low'  quad_'left_up'  \\\n",
       "0                   0               0                0               1   \n",
       "1                   0               1                0               0   \n",
       "2                   0               0                1               0   \n",
       "3                   0               0                1               0   \n",
       "4                   0               0                0               0   \n",
       "..                ...             ...              ...             ...   \n",
       "281                 0               0                1               0   \n",
       "282                 0               0                1               0   \n",
       "283                 0               0                0               0   \n",
       "284                 0               0                1               0   \n",
       "285                 0               0                0               0   \n",
       "\n",
       "     quad_'right_low'  quad_'right_up'  \n",
       "0                   0                0  \n",
       "1                   0                0  \n",
       "2                   0                0  \n",
       "3                   0                0  \n",
       "4                   0                1  \n",
       "..                ...              ...  \n",
       "281                 0                0  \n",
       "282                 0                0  \n",
       "283                 0                1  \n",
       "284                 0                0  \n",
       "285                 0                1  \n",
       "\n",
       "[277 rows x 37 columns]"
      ]
     },
     "execution_count": 20,
     "metadata": {},
     "output_type": "execute_result"
    }
   ],
   "source": [
    "dataset = pd.get_dummies(dataset, drop_first=False)\n",
    "lg.info(f'one-hot encoding on remaining (unordered) categories')\n",
    "dataset"
   ]
  },
  {
   "cell_type": "markdown",
   "metadata": {},
   "source": [
    "One-Hot Encoded the remaining categorical features."
   ]
  },
  {
   "cell_type": "markdown",
   "metadata": {},
   "source": [
    "### 2.5 Dataset Reordering"
   ]
  },
  {
   "cell_type": "code",
   "execution_count": 21,
   "metadata": {
    "tags": []
   },
   "outputs": [
    {
     "data": {
      "text/plain": [
       "0      1\n",
       "1      0\n",
       "2      1\n",
       "3      0\n",
       "4      1\n",
       "      ..\n",
       "281    0\n",
       "282    0\n",
       "283    0\n",
       "284    0\n",
       "285    0\n",
       "Name: recurrence_class, Length: 277, dtype: int64"
      ]
     },
     "execution_count": 21,
     "metadata": {},
     "output_type": "execute_result"
    }
   ],
   "source": [
    "rec_class = dataset.recurrence_class\n",
    "rec_class"
   ]
  },
  {
   "cell_type": "code",
   "execution_count": 22,
   "metadata": {
    "tags": []
   },
   "outputs": [],
   "source": [
    "dataset = dataset.drop(columns='recurrence_class')"
   ]
  },
  {
   "cell_type": "code",
   "execution_count": 23,
   "metadata": {
    "tags": []
   },
   "outputs": [],
   "source": [
    "dataset.insert(loc=len(dataset.columns), column='y', value=rec_class)"
   ]
  },
  {
   "cell_type": "code",
   "execution_count": 24,
   "metadata": {},
   "outputs": [
    {
     "data": {
      "text/html": [
       "<div>\n",
       "<style scoped>\n",
       "    .dataframe tbody tr th:only-of-type {\n",
       "        vertical-align: middle;\n",
       "    }\n",
       "\n",
       "    .dataframe tbody tr th {\n",
       "        vertical-align: top;\n",
       "    }\n",
       "\n",
       "    .dataframe thead th {\n",
       "        text-align: right;\n",
       "    }\n",
       "</style>\n",
       "<table border=\"1\" class=\"dataframe\">\n",
       "  <thead>\n",
       "    <tr style=\"text-align: right;\">\n",
       "      <th></th>\n",
       "      <th>node_caps</th>\n",
       "      <th>lat</th>\n",
       "      <th>irr</th>\n",
       "      <th>deg_malig_oe</th>\n",
       "      <th>age_'20-29'</th>\n",
       "      <th>age_'30-39'</th>\n",
       "      <th>age_'40-49'</th>\n",
       "      <th>age_'50-59'</th>\n",
       "      <th>age_'60-69'</th>\n",
       "      <th>age_'70-79'</th>\n",
       "      <th>...</th>\n",
       "      <th>inv_nodes_'24-26'</th>\n",
       "      <th>inv_nodes_'3-5'</th>\n",
       "      <th>inv_nodes_'6-8'</th>\n",
       "      <th>inv_nodes_'9-11'</th>\n",
       "      <th>quad_'central'</th>\n",
       "      <th>quad_'left_low'</th>\n",
       "      <th>quad_'left_up'</th>\n",
       "      <th>quad_'right_low'</th>\n",
       "      <th>quad_'right_up'</th>\n",
       "      <th>y</th>\n",
       "    </tr>\n",
       "  </thead>\n",
       "  <tbody>\n",
       "    <tr>\n",
       "      <th>0</th>\n",
       "      <td>1</td>\n",
       "      <td>1</td>\n",
       "      <td>0</td>\n",
       "      <td>2.0</td>\n",
       "      <td>0</td>\n",
       "      <td>0</td>\n",
       "      <td>1</td>\n",
       "      <td>0</td>\n",
       "      <td>0</td>\n",
       "      <td>0</td>\n",
       "      <td>...</td>\n",
       "      <td>0</td>\n",
       "      <td>0</td>\n",
       "      <td>0</td>\n",
       "      <td>0</td>\n",
       "      <td>0</td>\n",
       "      <td>0</td>\n",
       "      <td>1</td>\n",
       "      <td>0</td>\n",
       "      <td>0</td>\n",
       "      <td>1</td>\n",
       "    </tr>\n",
       "    <tr>\n",
       "      <th>1</th>\n",
       "      <td>0</td>\n",
       "      <td>1</td>\n",
       "      <td>0</td>\n",
       "      <td>0.0</td>\n",
       "      <td>0</td>\n",
       "      <td>0</td>\n",
       "      <td>0</td>\n",
       "      <td>1</td>\n",
       "      <td>0</td>\n",
       "      <td>0</td>\n",
       "      <td>...</td>\n",
       "      <td>0</td>\n",
       "      <td>0</td>\n",
       "      <td>0</td>\n",
       "      <td>0</td>\n",
       "      <td>1</td>\n",
       "      <td>0</td>\n",
       "      <td>0</td>\n",
       "      <td>0</td>\n",
       "      <td>0</td>\n",
       "      <td>0</td>\n",
       "    </tr>\n",
       "    <tr>\n",
       "      <th>2</th>\n",
       "      <td>0</td>\n",
       "      <td>0</td>\n",
       "      <td>0</td>\n",
       "      <td>1.0</td>\n",
       "      <td>0</td>\n",
       "      <td>0</td>\n",
       "      <td>0</td>\n",
       "      <td>1</td>\n",
       "      <td>0</td>\n",
       "      <td>0</td>\n",
       "      <td>...</td>\n",
       "      <td>0</td>\n",
       "      <td>0</td>\n",
       "      <td>0</td>\n",
       "      <td>0</td>\n",
       "      <td>0</td>\n",
       "      <td>1</td>\n",
       "      <td>0</td>\n",
       "      <td>0</td>\n",
       "      <td>0</td>\n",
       "      <td>1</td>\n",
       "    </tr>\n",
       "    <tr>\n",
       "      <th>3</th>\n",
       "      <td>1</td>\n",
       "      <td>1</td>\n",
       "      <td>1</td>\n",
       "      <td>2.0</td>\n",
       "      <td>0</td>\n",
       "      <td>0</td>\n",
       "      <td>1</td>\n",
       "      <td>0</td>\n",
       "      <td>0</td>\n",
       "      <td>0</td>\n",
       "      <td>...</td>\n",
       "      <td>0</td>\n",
       "      <td>0</td>\n",
       "      <td>0</td>\n",
       "      <td>0</td>\n",
       "      <td>0</td>\n",
       "      <td>1</td>\n",
       "      <td>0</td>\n",
       "      <td>0</td>\n",
       "      <td>0</td>\n",
       "      <td>0</td>\n",
       "    </tr>\n",
       "    <tr>\n",
       "      <th>4</th>\n",
       "      <td>1</td>\n",
       "      <td>0</td>\n",
       "      <td>0</td>\n",
       "      <td>1.0</td>\n",
       "      <td>0</td>\n",
       "      <td>0</td>\n",
       "      <td>1</td>\n",
       "      <td>0</td>\n",
       "      <td>0</td>\n",
       "      <td>0</td>\n",
       "      <td>...</td>\n",
       "      <td>0</td>\n",
       "      <td>1</td>\n",
       "      <td>0</td>\n",
       "      <td>0</td>\n",
       "      <td>0</td>\n",
       "      <td>0</td>\n",
       "      <td>0</td>\n",
       "      <td>0</td>\n",
       "      <td>1</td>\n",
       "      <td>1</td>\n",
       "    </tr>\n",
       "    <tr>\n",
       "      <th>...</th>\n",
       "      <td>...</td>\n",
       "      <td>...</td>\n",
       "      <td>...</td>\n",
       "      <td>...</td>\n",
       "      <td>...</td>\n",
       "      <td>...</td>\n",
       "      <td>...</td>\n",
       "      <td>...</td>\n",
       "      <td>...</td>\n",
       "      <td>...</td>\n",
       "      <td>...</td>\n",
       "      <td>...</td>\n",
       "      <td>...</td>\n",
       "      <td>...</td>\n",
       "      <td>...</td>\n",
       "      <td>...</td>\n",
       "      <td>...</td>\n",
       "      <td>...</td>\n",
       "      <td>...</td>\n",
       "      <td>...</td>\n",
       "      <td>...</td>\n",
       "    </tr>\n",
       "    <tr>\n",
       "      <th>281</th>\n",
       "      <td>1</td>\n",
       "      <td>0</td>\n",
       "      <td>0</td>\n",
       "      <td>1.0</td>\n",
       "      <td>0</td>\n",
       "      <td>0</td>\n",
       "      <td>0</td>\n",
       "      <td>1</td>\n",
       "      <td>0</td>\n",
       "      <td>0</td>\n",
       "      <td>...</td>\n",
       "      <td>0</td>\n",
       "      <td>0</td>\n",
       "      <td>1</td>\n",
       "      <td>0</td>\n",
       "      <td>0</td>\n",
       "      <td>1</td>\n",
       "      <td>0</td>\n",
       "      <td>0</td>\n",
       "      <td>0</td>\n",
       "      <td>0</td>\n",
       "    </tr>\n",
       "    <tr>\n",
       "      <th>282</th>\n",
       "      <td>1</td>\n",
       "      <td>0</td>\n",
       "      <td>1</td>\n",
       "      <td>1.0</td>\n",
       "      <td>0</td>\n",
       "      <td>0</td>\n",
       "      <td>0</td>\n",
       "      <td>1</td>\n",
       "      <td>0</td>\n",
       "      <td>0</td>\n",
       "      <td>...</td>\n",
       "      <td>0</td>\n",
       "      <td>1</td>\n",
       "      <td>0</td>\n",
       "      <td>0</td>\n",
       "      <td>0</td>\n",
       "      <td>1</td>\n",
       "      <td>0</td>\n",
       "      <td>0</td>\n",
       "      <td>0</td>\n",
       "      <td>0</td>\n",
       "    </tr>\n",
       "    <tr>\n",
       "      <th>283</th>\n",
       "      <td>1</td>\n",
       "      <td>1</td>\n",
       "      <td>0</td>\n",
       "      <td>1.0</td>\n",
       "      <td>0</td>\n",
       "      <td>1</td>\n",
       "      <td>0</td>\n",
       "      <td>0</td>\n",
       "      <td>0</td>\n",
       "      <td>0</td>\n",
       "      <td>...</td>\n",
       "      <td>0</td>\n",
       "      <td>0</td>\n",
       "      <td>1</td>\n",
       "      <td>0</td>\n",
       "      <td>0</td>\n",
       "      <td>0</td>\n",
       "      <td>0</td>\n",
       "      <td>0</td>\n",
       "      <td>1</td>\n",
       "      <td>0</td>\n",
       "    </tr>\n",
       "    <tr>\n",
       "      <th>284</th>\n",
       "      <td>0</td>\n",
       "      <td>1</td>\n",
       "      <td>0</td>\n",
       "      <td>1.0</td>\n",
       "      <td>0</td>\n",
       "      <td>0</td>\n",
       "      <td>0</td>\n",
       "      <td>1</td>\n",
       "      <td>0</td>\n",
       "      <td>0</td>\n",
       "      <td>...</td>\n",
       "      <td>0</td>\n",
       "      <td>0</td>\n",
       "      <td>0</td>\n",
       "      <td>0</td>\n",
       "      <td>0</td>\n",
       "      <td>1</td>\n",
       "      <td>0</td>\n",
       "      <td>0</td>\n",
       "      <td>0</td>\n",
       "      <td>0</td>\n",
       "    </tr>\n",
       "    <tr>\n",
       "      <th>285</th>\n",
       "      <td>0</td>\n",
       "      <td>0</td>\n",
       "      <td>0</td>\n",
       "      <td>2.0</td>\n",
       "      <td>0</td>\n",
       "      <td>0</td>\n",
       "      <td>0</td>\n",
       "      <td>1</td>\n",
       "      <td>0</td>\n",
       "      <td>0</td>\n",
       "      <td>...</td>\n",
       "      <td>0</td>\n",
       "      <td>0</td>\n",
       "      <td>0</td>\n",
       "      <td>0</td>\n",
       "      <td>0</td>\n",
       "      <td>0</td>\n",
       "      <td>0</td>\n",
       "      <td>0</td>\n",
       "      <td>1</td>\n",
       "      <td>0</td>\n",
       "    </tr>\n",
       "  </tbody>\n",
       "</table>\n",
       "<p>277 rows × 37 columns</p>\n",
       "</div>"
      ],
      "text/plain": [
       "     node_caps  lat  irr  deg_malig_oe  age_'20-29'  age_'30-39'  age_'40-49'  \\\n",
       "0            1    1    0           2.0            0            0            1   \n",
       "1            0    1    0           0.0            0            0            0   \n",
       "2            0    0    0           1.0            0            0            0   \n",
       "3            1    1    1           2.0            0            0            1   \n",
       "4            1    0    0           1.0            0            0            1   \n",
       "..         ...  ...  ...           ...          ...          ...          ...   \n",
       "281          1    0    0           1.0            0            0            0   \n",
       "282          1    0    1           1.0            0            0            0   \n",
       "283          1    1    0           1.0            0            1            0   \n",
       "284          0    1    0           1.0            0            0            0   \n",
       "285          0    0    0           2.0            0            0            0   \n",
       "\n",
       "     age_'50-59'  age_'60-69'  age_'70-79'  ...  inv_nodes_'24-26'  \\\n",
       "0              0            0            0  ...                  0   \n",
       "1              1            0            0  ...                  0   \n",
       "2              1            0            0  ...                  0   \n",
       "3              0            0            0  ...                  0   \n",
       "4              0            0            0  ...                  0   \n",
       "..           ...          ...          ...  ...                ...   \n",
       "281            1            0            0  ...                  0   \n",
       "282            1            0            0  ...                  0   \n",
       "283            0            0            0  ...                  0   \n",
       "284            1            0            0  ...                  0   \n",
       "285            1            0            0  ...                  0   \n",
       "\n",
       "     inv_nodes_'3-5'  inv_nodes_'6-8'  inv_nodes_'9-11'  quad_'central'  \\\n",
       "0                  0                0                 0               0   \n",
       "1                  0                0                 0               1   \n",
       "2                  0                0                 0               0   \n",
       "3                  0                0                 0               0   \n",
       "4                  1                0                 0               0   \n",
       "..               ...              ...               ...             ...   \n",
       "281                0                1                 0               0   \n",
       "282                1                0                 0               0   \n",
       "283                0                1                 0               0   \n",
       "284                0                0                 0               0   \n",
       "285                0                0                 0               0   \n",
       "\n",
       "     quad_'left_low'  quad_'left_up'  quad_'right_low'  quad_'right_up'  y  \n",
       "0                  0               1                 0                0  1  \n",
       "1                  0               0                 0                0  0  \n",
       "2                  1               0                 0                0  1  \n",
       "3                  1               0                 0                0  0  \n",
       "4                  0               0                 0                1  1  \n",
       "..               ...             ...               ...              ... ..  \n",
       "281                1               0                 0                0  0  \n",
       "282                1               0                 0                0  0  \n",
       "283                0               0                 0                1  0  \n",
       "284                1               0                 0                0  0  \n",
       "285                0               0                 0                1  0  \n",
       "\n",
       "[277 rows x 37 columns]"
      ]
     },
     "execution_count": 24,
     "metadata": {},
     "output_type": "execute_result"
    }
   ],
   "source": [
    "dataset"
   ]
  },
  {
   "cell_type": "markdown",
   "metadata": {},
   "source": [
    "Re-ordered the label column into the rightmost of the dataset."
   ]
  },
  {
   "cell_type": "code",
   "execution_count": 25,
   "metadata": {},
   "outputs": [
    {
     "data": {
      "text/plain": [
       "Index(['node_caps', 'lat', 'irr', 'deg_malig_oe', 'age_'20-29'', 'age_'30-39'',\n",
       "       'age_'40-49'', 'age_'50-59'', 'age_'60-69'', 'age_'70-79'',\n",
       "       'menopause_'ge40'', 'menopause_'lt40'', 'menopause_'premeno'',\n",
       "       'tum_sz_'0-4'', 'tum_sz_'10-14'', 'tum_sz_'15-19'', 'tum_sz_'20-24'',\n",
       "       'tum_sz_'25-29'', 'tum_sz_'30-34'', 'tum_sz_'35-39'', 'tum_sz_'40-44'',\n",
       "       'tum_sz_'45-49'', 'tum_sz_'5-9'', 'tum_sz_'50-54'', 'inv_nodes_'0-2'',\n",
       "       'inv_nodes_'12-14'', 'inv_nodes_'15-17'', 'inv_nodes_'24-26'',\n",
       "       'inv_nodes_'3-5'', 'inv_nodes_'6-8'', 'inv_nodes_'9-11'',\n",
       "       'quad_'central'', 'quad_'left_low'', 'quad_'left_up'',\n",
       "       'quad_'right_low'', 'quad_'right_up'', 'y'],\n",
       "      dtype='object')"
      ]
     },
     "execution_count": 25,
     "metadata": {},
     "output_type": "execute_result"
    }
   ],
   "source": [
    "dataset.columns"
   ]
  },
  {
   "cell_type": "markdown",
   "metadata": {},
   "source": [
    "### 3.1 Convert Data to np array"
   ]
  },
  {
   "cell_type": "code",
   "execution_count": 26,
   "metadata": {
    "tags": []
   },
   "outputs": [],
   "source": [
    "X = dataset.iloc[:, :-1].values\n",
    "y = dataset.iloc[:, -1].values"
   ]
  },
  {
   "cell_type": "code",
   "execution_count": 48,
   "metadata": {},
   "outputs": [
    {
     "data": {
      "text/plain": [
       "Index(['node_caps', 'lat', 'irr', 'deg_malig_oe', 'age_'20-29'', 'age_'30-39'',\n",
       "       'age_'40-49'', 'age_'50-59'', 'age_'60-69'', 'age_'70-79'',\n",
       "       'menopause_'ge40'', 'menopause_'lt40'', 'menopause_'premeno'',\n",
       "       'tum_sz_'0-4'', 'tum_sz_'10-14'', 'tum_sz_'15-19'', 'tum_sz_'20-24'',\n",
       "       'tum_sz_'25-29'', 'tum_sz_'30-34'', 'tum_sz_'35-39'', 'tum_sz_'40-44'',\n",
       "       'tum_sz_'45-49'', 'tum_sz_'5-9'', 'tum_sz_'50-54'', 'inv_nodes_'0-2'',\n",
       "       'inv_nodes_'12-14'', 'inv_nodes_'15-17'', 'inv_nodes_'24-26'',\n",
       "       'inv_nodes_'3-5'', 'inv_nodes_'6-8'', 'inv_nodes_'9-11'',\n",
       "       'quad_'central'', 'quad_'left_low'', 'quad_'left_up'',\n",
       "       'quad_'right_low'', 'quad_'right_up''],\n",
       "      dtype='object')"
      ]
     },
     "execution_count": 48,
     "metadata": {},
     "output_type": "execute_result"
    }
   ],
   "source": [
    "X_cols = dataset.columns[:-1]\n",
    "X_cols"
   ]
  },
  {
   "cell_type": "code",
   "execution_count": 27,
   "metadata": {
    "tags": []
   },
   "outputs": [
    {
     "name": "stdout",
     "output_type": "stream",
     "text": [
      "[[1. 1. 0. ... 1. 0. 0.]\n",
      " [0. 1. 0. ... 0. 0. 0.]\n",
      " [0. 0. 0. ... 0. 0. 0.]\n",
      " ...\n",
      " [1. 1. 0. ... 0. 0. 1.]\n",
      " [0. 1. 0. ... 0. 0. 0.]\n",
      " [0. 0. 0. ... 0. 0. 1.]]\n"
     ]
    }
   ],
   "source": [
    "print(X)"
   ]
  },
  {
   "cell_type": "code",
   "execution_count": 28,
   "metadata": {
    "tags": []
   },
   "outputs": [
    {
     "name": "stdout",
     "output_type": "stream",
     "text": [
      "[1 0 1 0 1 0 0 0 0 0 0 0 0 0 1 0 0 0 0 0 0 0 0 1 0 0 0 0 1 1 0 0 1 0 0 0 0\n",
      " 0 1 0 0 1 0 1 0 0 0 0 0 0 0 0 0 0 0 1 1 0 0 1 1 0 0 0 1 0 1 0 1 1 0 0 0 1\n",
      " 0 0 0 0 0 0 0 0 0 0 0 1 1 0 0 0 1 0 1 1 1 1 0 0 0 1 1 1 0 0 0 0 0 0 0 0 1\n",
      " 0 0 0 1 0 0 1 0 0 0 0 1 0 0 0 1 1 0 1 0 0 1 0 1 0 1 0 0 0 1 0 0 1 0 0 1 0\n",
      " 0 1 1 0 0 0 0 0 0 1 1 1 0 0 0 1 1 0 1 0 0 0 1 1 0 0 1 0 1 0 0 0 1 0 0 1 0\n",
      " 1 0 0 0 1 0 0 1 0 0 0 0 0 1 0 1 1 0 1 1 0 0 0 0 1 0 1 0 0 0 0 0 1 0 0 0 0\n",
      " 1 0 0 0 0 0 1 0 1 1 1 0 0 0 0 0 0 0 0 0 1 0 0 0 0 1 0 1 0 1 0 0 0 1 0 0 1\n",
      " 0 0 1 1 0 0 0 0 0 0 0 0 0 0 0 0 0 0]\n"
     ]
    }
   ],
   "source": [
    "print(y)"
   ]
  },
  {
   "cell_type": "markdown",
   "metadata": {},
   "source": [
    "Separated the features as x and the dependant variable as y. Both is transformed to numpy array for modelling function to work."
   ]
  },
  {
   "cell_type": "markdown",
   "metadata": {},
   "source": [
    "### 3.1 Separate Training and Test Sets"
   ]
  },
  {
   "cell_type": "code",
   "execution_count": 29,
   "metadata": {
    "tags": []
   },
   "outputs": [
    {
     "name": "stderr",
     "output_type": "stream",
     "text": [
      "2021-11-09 15:36:00,735 - nblog - INFO - train-test split. Size: 0.3, Rand state: 0\n"
     ]
    }
   ],
   "source": [
    "testsize=0.3\n",
    "randomstate=0\n",
    "X_train, X_test, y_train, y_test = train_test_split(X, y, test_size=testsize, random_state=randomstate)\n",
    "lg.info(f'train-test split. Size: {testsize}, Rand state: {randomstate}')"
   ]
  },
  {
   "cell_type": "code",
   "execution_count": 30,
   "metadata": {
    "tags": []
   },
   "outputs": [
    {
     "name": "stdout",
     "output_type": "stream",
     "text": [
      "[[0. 1. 0. ... 1. 0. 0.]\n",
      " [0. 0. 1. ... 1. 0. 0.]\n",
      " [0. 0. 0. ... 0. 0. 0.]\n",
      " ...\n",
      " [1. 0. 0. ... 0. 0. 0.]\n",
      " [0. 1. 0. ... 1. 0. 0.]\n",
      " [0. 1. 0. ... 0. 0. 1.]]\n"
     ]
    }
   ],
   "source": [
    "print(X_train)"
   ]
  },
  {
   "cell_type": "code",
   "execution_count": 31,
   "metadata": {
    "tags": []
   },
   "outputs": [
    {
     "name": "stdout",
     "output_type": "stream",
     "text": [
      "[0 0 0 0 0 1 1 1 0 0 1 0 0 0 0 0 0 0 1 0 0 0 0 0 1 0 1 0 0 0 0 0 0 0 1 1 0\n",
      " 1 0 0 0 1 1 1 0 0 0 0 0 0 0 0 1 0 0 0 1 0 0 0 1 1 0 1 0 0 0 0 0 0 1 1 1 0\n",
      " 0 0 1 0 0 0 0 1 0 0 0 0 1 1 1 1 1 1 0 0 1 0 0 1 0 1 0 1 1 0 0 0 0 1 0 1 0\n",
      " 1 0 0 0 0 0 1 1 0 0 0 0 0 0 0 0 0 0 0 0 0 1 0 0 1 0 0 1 0 0 0 1 1 1 1 1 0\n",
      " 0 0 0 1 1 0 0 1 0 0 0 0 1 0 0 0 1 0 0 0 0 0 0 0 0 0 0 0 0 1 0 0 0 0 0 0 1\n",
      " 1 0 0 1 1 1 0 0]\n"
     ]
    }
   ],
   "source": [
    "print(y_train)"
   ]
  },
  {
   "cell_type": "code",
   "execution_count": 32,
   "metadata": {
    "tags": []
   },
   "outputs": [
    {
     "name": "stdout",
     "output_type": "stream",
     "text": [
      "[[0. 1. 0. ... 1. 0. 0.]\n",
      " [0. 1. 0. ... 0. 1. 0.]\n",
      " [0. 0. 0. ... 0. 0. 0.]\n",
      " ...\n",
      " [0. 0. 0. ... 0. 0. 0.]\n",
      " [0. 0. 0. ... 0. 0. 0.]\n",
      " [1. 1. 0. ... 1. 0. 0.]]\n"
     ]
    }
   ],
   "source": [
    "print(X_test)"
   ]
  },
  {
   "cell_type": "code",
   "execution_count": 33,
   "metadata": {
    "tags": []
   },
   "outputs": [
    {
     "name": "stdout",
     "output_type": "stream",
     "text": [
      "[0 0 0 0 1 1 0 0 0 0 0 1 0 0 0 0 0 1 0 1 0 0 0 1 0 1 0 0 1 1 1 1 0 0 0 0 1\n",
      " 0 0 0 1 1 0 0 0 0 0 0 0 0 1 1 0 1 0 1 0 0 1 0 0 0 0 0 0 0 0 0 0 1 1 0 0 1\n",
      " 0 0 0 0 0 1 0 0 0 0]\n"
     ]
    }
   ],
   "source": [
    "print(y_test)"
   ]
  },
  {
   "cell_type": "code",
   "execution_count": 34,
   "metadata": {},
   "outputs": [
    {
     "name": "stderr",
     "output_type": "stream",
     "text": [
      "2021-11-09 15:36:00,848 - nblog - INFO - encoded training data: ndarray (193, 36)\n"
     ]
    }
   ],
   "source": [
    "lg.info(f'encoded training data: {type(X_train).__name__} {X_train.shape}')"
   ]
  },
  {
   "cell_type": "markdown",
   "metadata": {},
   "source": [
    "### 3.2 Scaling Based on the Training Set"
   ]
  },
  {
   "cell_type": "code",
   "execution_count": 35,
   "metadata": {
    "tags": []
   },
   "outputs": [],
   "source": [
    "sc = StandardScaler()\n",
    "X_train = sc.fit_transform(X_train)\n",
    "X_test = sc.transform(X_test)"
   ]
  },
  {
   "cell_type": "code",
   "execution_count": 36,
   "metadata": {
    "tags": []
   },
   "outputs": [
    {
     "name": "stdout",
     "output_type": "stream",
     "text": [
      "[[-0.49513765  1.05871579 -0.55141097 ...  1.41972709 -0.25748465\n",
      "  -0.36782349]\n",
      " [-0.49513765 -0.94454056  1.8135294  ...  1.41972709 -0.25748465\n",
      "  -0.36782349]\n",
      " [-0.49513765 -0.94454056 -0.55141097 ... -0.70436073 -0.25748465\n",
      "  -0.36782349]\n",
      " ...\n",
      " [ 2.01964041 -0.94454056 -0.55141097 ... -0.70436073 -0.25748465\n",
      "  -0.36782349]\n",
      " [-0.49513765  1.05871579 -0.55141097 ...  1.41972709 -0.25748465\n",
      "  -0.36782349]\n",
      " [-0.49513765  1.05871579 -0.55141097 ... -0.70436073 -0.25748465\n",
      "   2.71869534]]\n"
     ]
    }
   ],
   "source": [
    "print(X_train)"
   ]
  },
  {
   "cell_type": "code",
   "execution_count": 37,
   "metadata": {
    "tags": []
   },
   "outputs": [
    {
     "name": "stdout",
     "output_type": "stream",
     "text": [
      "[[-0.49513765  1.05871579 -0.55141097 ...  1.41972709 -0.25748465\n",
      "  -0.36782349]\n",
      " [-0.49513765  1.05871579 -0.55141097 ... -0.70436073  3.88372673\n",
      "  -0.36782349]\n",
      " [-0.49513765 -0.94454056 -0.55141097 ... -0.70436073 -0.25748465\n",
      "  -0.36782349]\n",
      " ...\n",
      " [-0.49513765 -0.94454056 -0.55141097 ... -0.70436073 -0.25748465\n",
      "  -0.36782349]\n",
      " [-0.49513765 -0.94454056 -0.55141097 ... -0.70436073 -0.25748465\n",
      "  -0.36782349]\n",
      " [ 2.01964041  1.05871579 -0.55141097 ...  1.41972709 -0.25748465\n",
      "  -0.36782349]]\n"
     ]
    }
   ],
   "source": [
    "print(X_test)"
   ]
  },
  {
   "cell_type": "markdown",
   "metadata": {},
   "source": [
    "Scale the value of training set to between -3 and 3 to make sure no feature overwhelm the others. The test set is scaled using same scale as training set."
   ]
  },
  {
   "cell_type": "markdown",
   "metadata": {},
   "source": [
    "## Prep for evaluation (confusion matrix)"
   ]
  },
  {
   "cell_type": "code",
   "execution_count": 38,
   "metadata": {},
   "outputs": [],
   "source": [
    "def plot_CM(model, clf):\n",
    "    fig, (ax1, ax2) = plt.subplots(1, 2, figsize=(6,6))\n",
    "    fig.suptitle(clf)\n",
    "    cm_train=confusion_matrix(y_train, model.predict(X_train), normalize = 'pred', labels = model.classes_)\n",
    "    disp_train = ConfusionMatrixDisplay(confusion_matrix=cm_train, display_labels=model.classes_)\n",
    "    disp_train.plot(ax=ax1)\n",
    "    disp_train.ax_.set_title('Train')\n",
    "    cm_test=confusion_matrix(y_test, model.predict(X_test), normalize = 'pred', labels = model.classes_)\n",
    "    disp_test = ConfusionMatrixDisplay(confusion_matrix=cm_test, display_labels=model.classes_)\n",
    "    disp_test.plot(ax=ax2)\n",
    "    disp_test.ax_.set_title('Test')\n",
    "    plt.show()"
   ]
  },
  {
   "cell_type": "code",
   "execution_count": 73,
   "metadata": {},
   "outputs": [
    {
     "name": "stdout",
     "output_type": "stream",
     "text": [
      "[[  0. 135.]\n",
      " [  1.  58.]]\n"
     ]
    },
    {
     "data": {
      "text/plain": [
       "array([[0.        , 0.69948187],\n",
       "       [1.        , 0.30051813]])"
      ]
     },
     "execution_count": 73,
     "metadata": {},
     "output_type": "execute_result"
    }
   ],
   "source": [
    "unique, counts = np.unique(y_train, return_counts=True)\n",
    "table = np.asarray((unique, counts)).T.astype('float')\n",
    "print(table)\n",
    "tots = np.sum(counts).astype('float')\n",
    "tots\n",
    "table[:,1]=table[:,1]/tots\n",
    "table"
   ]
  },
  {
   "cell_type": "code",
   "execution_count": 76,
   "metadata": {},
   "outputs": [
    {
     "name": "stdout",
     "output_type": "stream",
     "text": [
      "    % recurrence cases in X_train 30.05\n",
      "% non-recurrence cases in X_train 69.95\n"
     ]
    }
   ],
   "source": [
    "print(f'    % recurrence cases in X_train {100*table[1,1]:.2f}')\n",
    "print(f'% non-recurrence cases in X_train {100*table[0,1]:.2f}')"
   ]
  },
  {
   "cell_type": "markdown",
   "metadata": {},
   "source": [
    "## Random Guess"
   ]
  },
  {
   "cell_type": "code",
   "execution_count": 104,
   "metadata": {},
   "outputs": [
    {
     "name": "stdout",
     "output_type": "stream",
     "text": [
      "0.9 zeros to 0.1 ones\n"
     ]
    }
   ],
   "source": [
    "pc_pos = 10  # percentage of ones wanted (positives) in the random guess array\n",
    "p1=(100-pc_pos)/100.0\n",
    "p2=(pc_pos)/100.0\n",
    "print(p1, 'zeros to', p2, 'ones')"
   ]
  },
  {
   "cell_type": "code",
   "execution_count": 105,
   "metadata": {},
   "outputs": [],
   "source": [
    "# make random guess arrays for train and test\n",
    "rng = default_rng()\n",
    "y_train_rg = rng.choice([0,1], size=(len(y_train),), p=[p1, p2])\n",
    "y_test_rg  = rng.choice([0,1], size=(len(y_test),) , p=[p1, p2])"
   ]
  },
  {
   "cell_type": "code",
   "execution_count": 141,
   "metadata": {
    "scrolled": true,
    "tags": []
   },
   "outputs": [],
   "source": [
    "y_real = y_train\n",
    "y_pred = y_train_rg\n",
    "# y_real = np.array([1,0,1,0,1,0,1,0])\n",
    "# y_pred = np.array([1,0,1,0,1,0,0,0])"
   ]
  },
  {
   "cell_type": "code",
   "execution_count": 197,
   "metadata": {},
   "outputs": [],
   "source": [
    "class cmbw():\n",
    "    \"\"\"\n",
    "    Confusion matrix BW version\n",
    "    Takes in y_real and y_pred as arguments\n",
    "    methods:\n",
    "    prntcm - prints confusion matrix\n",
    "    prntpr - prints precision and recall\n",
    "    \"\"\"\n",
    "    def __init__(self, y_real, y_pred):\n",
    "        self.y_real   = y_real\n",
    "        self.y_pred   = y_pred\n",
    "        self.resulist = self.resulist()\n",
    "        self.resuarr  = self.resuarr()\n",
    "        self.clasrp()\n",
    "        \n",
    "    def resulist(self):\n",
    "        return list(zip(self.y_real, self.y_pred))\n",
    "        \n",
    "    def resuarr(self):\n",
    "        resuarr = np.array([[0,0],[0,0]])\n",
    "        for t in self.resulist:\n",
    "            if t[0] == 1:         # cond pos\n",
    "                if t[1] == 1:     # ...and pred pos\n",
    "                    resuarr[1,1]+=1  # tp\n",
    "                else:             # ...and pred neg\n",
    "                    resuarr[1,0]+=1  # fn\n",
    "            else:                 # cond neg\n",
    "                if t[1] == 1:     # ...and pred pos\n",
    "                    resuarr[0,1]+=1  # fp\n",
    "                else:             # ...and pred neg\n",
    "                    resuarr[0,0]+=1  # tn\n",
    "        return resuarr\n",
    "\n",
    "    def clasrp(self):\n",
    "        (tn, fp, fn, tp) = self.resuarr.ravel()\n",
    "        self.tn = tn\n",
    "        self.fp = fp\n",
    "        self.fn = fn\n",
    "        self.tp = tp\n",
    "        self.tnr = tn/(tn+fn)\n",
    "        self.tpr = tp/(tp+fp)\n",
    "        self.fnr = fn/(tn+fn)\n",
    "        self.fpr = fp/(tp+fp)        \n",
    "        self.precision = tp/(tp+fp) # PPV\n",
    "        self.recall    = tp/(tp+fn) # sensitivity\n",
    "        self.accuracy  = (tp+tn)/(tp+fp+tn+fn)\n",
    "        self.F1score   = tp/(tp+(fp+fn)/2)\n",
    "        return None\n",
    "    \n",
    "    def prntcmt(self):\n",
    "        \"\"\"print confusion matrix (totals)\"\"\"\n",
    "        (tn, fp, fn, tp) = self.resuarr.ravel()\n",
    "        print('-------------------------')\n",
    "        print('       | pred n',  '| pred p')\n",
    "        print('-------------------------')\n",
    "        print('cond n | tn', tn, ' | fp', fp)\n",
    "        print('cond p | fn', fn, ' | tp', tp)\n",
    "        print('-------------------------')\n",
    "\n",
    "    def prntcmp(self):\n",
    "        \"\"\"print confusion matrix (proportions)\"\"\"\n",
    "        (tn, fp, fn, tp) = self.resuarr.ravel()\n",
    "        tnr = np.round(tn/(tn+fn),2)\n",
    "        tpr = np.round(tp/(tp+fp),2)\n",
    "        fnr = np.round(fn/(tn+fn),2)\n",
    "        fpr = np.round(fp/(tp+fp),2)\n",
    "        print('----------------------------')\n",
    "        print('       | pred n ',  ' | pred p')\n",
    "        print('----------------------------')\n",
    "        print('cond n | tnr', tnr, ' | fpr', fpr)\n",
    "        print('cond p | fnr', fnr, ' | tpr', tpr)\n",
    "        print('----------------------------')\n",
    "        return None\n",
    "\n",
    "    def prntpr(self):\n",
    "        \"\"\"print precision, recall and accuracy\"\"\"\n",
    "        (tn, fp, fn, tp) = self.resuarr.ravel()\n",
    "        precision = tp/(tp+fp) # PPV\n",
    "        recall    = tp/(tp+fn) # sensitivity\n",
    "        accuracy  = (tp+tn)/(tp+fp+tn+fn)\n",
    "        F1score   = tp/(tp+(fp+fn)/2)\n",
    "        print(f' precision: {precision:.2f}')\n",
    "        print(f'    recall: {recall:.2f}')\n",
    "        print(f'  accuracy: {accuracy:.2f}')\n",
    "        print(f'  F1-score: {F1score:.2f}')\n",
    "        return None"
   ]
  },
  {
   "cell_type": "code",
   "execution_count": 198,
   "metadata": {},
   "outputs": [
    {
     "name": "stdout",
     "output_type": "stream",
     "text": [
      "----------------------------\n",
      "       | pred n   | pred p\n",
      "----------------------------\n",
      "cond n | tnr 0.8  | fpr 0.0\n",
      "cond p | fnr 0.2  | tpr 1.0\n",
      "----------------------------\n",
      "-------------------------\n",
      "       | pred n | pred p\n",
      "-------------------------\n",
      "cond n | tn 4  | fp 0\n",
      "cond p | fn 1  | tp 3\n",
      "-------------------------\n",
      " precision: 1.00\n",
      "    recall: 0.75\n",
      "  accuracy: 0.88\n",
      "  F1-score: 0.86\n"
     ]
    }
   ],
   "source": [
    "cm1 = cmbw(y_real, y_pred)\n",
    "cm1.prntcmp()\n",
    "cm1.prntcmt()\n",
    "cm1.prntpr()"
   ]
  },
  {
   "cell_type": "code",
   "execution_count": 199,
   "metadata": {},
   "outputs": [
    {
     "name": "stdout",
     "output_type": "stream",
     "text": [
      "-------------------------\n",
      "       | pred n | pred p\n",
      "-------------------------\n",
      "cond n | tn 120  | fp 15\n",
      "cond p | fn 52  | tp 6\n",
      "-------------------------\n",
      "----------------------------\n",
      "       | pred n   | pred p\n",
      "----------------------------\n",
      "cond n | tnr 0.7  | fpr 0.71\n",
      "cond p | fnr 0.3  | tpr 0.29\n",
      "----------------------------\n",
      " precision: 0.29\n",
      "    recall: 0.10\n",
      "  accuracy: 0.65\n",
      "  F1-score: 0.15\n"
     ]
    },
    {
     "data": {
      "image/png": "[encoded data removed]",
      "text/plain": [
       "<Figure size 432x432 with 4 Axes>"
      ]
     },
     "metadata": {},
     "output_type": "display_data"
    },
    {
     "name": "stdout",
     "output_type": "stream",
     "text": [
      "-------------------------\n",
      "       | pred n | pred p\n",
      "-------------------------\n",
      "cond n | tn 55  | fp 6\n",
      "cond p | fn 21  | tp 2\n",
      "-------------------------\n",
      "----------------------------\n",
      "       | pred n   | pred p\n",
      "----------------------------\n",
      "cond n | tnr 0.72  | fpr 0.75\n",
      "cond p | fnr 0.28  | tpr 0.25\n",
      "----------------------------\n",
      " precision: 0.25\n",
      "    recall: 0.09\n",
      "  accuracy: 0.68\n",
      "  F1-score: 0.13\n"
     ]
    }
   ],
   "source": [
    "cmrg = cmbw(y_train, y_train_rg)\n",
    "cmrg.prntcmt()\n",
    "cmrg.prntcmp()\n",
    "cmrg.prntpr()\n",
    "fig, (ax1, ax2) = plt.subplots(1, 2, figsize=(6,6))\n",
    "fig.suptitle('Random Guess CM')\n",
    "cm_train=confusion_matrix(y_train, y_train_rg, normalize = 'pred', labels =[0,1])\n",
    "disp_train = ConfusionMatrixDisplay(confusion_matrix=cm_train, display_labels=[0,1])\n",
    "disp_train.plot(ax=ax1)\n",
    "disp_train.ax_.set_title('Train')\n",
    "cm_test=confusion_matrix(y_test, y_test_rg, normalize = 'pred', labels = [0,1])\n",
    "disp_test = ConfusionMatrixDisplay(confusion_matrix=cm_test, display_labels=[0,1])\n",
    "disp_test.plot(ax=ax2)\n",
    "disp_test.ax_.set_title('Test')\n",
    "plt.show()\n",
    "cmrg = cmbw(y_test, y_test_rg)\n",
    "cmrg.prntcmt()\n",
    "cmrg.prntcmp()\n",
    "cmrg.prntpr()"
   ]
  },
  {
   "cell_type": "markdown",
   "metadata": {},
   "source": [
    "## DNN"
   ]
  },
  {
   "cell_type": "code",
   "execution_count": 181,
   "metadata": {},
   "outputs": [
    {
     "name": "stdout",
     "output_type": "stream",
     "text": [
      "Model: \"sequential_1\"\n",
      "_________________________________________________________________\n",
      " Layer (type)                Output Shape              Param #   \n",
      "=================================================================\n",
      " dense_3 (Dense)             (None, 128)               4736      \n",
      "                                                                 \n",
      " dense_4 (Dense)             (None, 16)                2064      \n",
      "                                                                 \n",
      " dense_5 (Dense)             (None, 1)                 17        \n",
      "                                                                 \n",
      "=================================================================\n",
      "Total params: 6,817\n",
      "Trainable params: 6,817\n",
      "Non-trainable params: 0\n",
      "_________________________________________________________________\n"
     ]
    }
   ],
   "source": [
    "seed(13)\n",
    "tensorflow.random.set_seed(13)\n",
    "\n",
    "dnn_model = Sequential()\n",
    "n_cols = X.shape[1]\n",
    "dnn_model.add(Dense(128, activation=\"relu\", input_shape = (n_cols,))) \n",
    "dnn_model.add(Dense(16, activation=\"relu\"))\n",
    "dnn_model.add(Dense(1, activation=\"sigmoid\"))            \n",
    "dnn_model.summary()"
   ]
  },
  {
   "cell_type": "code",
   "execution_count": 182,
   "metadata": {},
   "outputs": [
    {
     "data": {
      "text/plain": [
       "<keras.callbacks.History at 0x7f9594b707c0>"
      ]
     },
     "execution_count": 182,
     "metadata": {},
     "output_type": "execute_result"
    }
   ],
   "source": [
    "dnn_model.compile(loss='binary_crossentropy', optimizer='adam', metrics=['accuracy'])\n",
    "early_stopping_monitor = EarlyStopping(patience=5, monitor='val_accuracy')\n",
    "dnn_model.fit(X_train,y_train, validation_data=(X_test,y_test), callbacks=[early_stopping_monitor], epochs=200,batch_size=256, verbose=0)"
   ]
  },
  {
   "cell_type": "code",
   "execution_count": 183,
   "metadata": {},
   "outputs": [],
   "source": [
    "def plot_loss(loss,val_loss):\n",
    "    plt.figure()\n",
    "    plt.plot(loss)\n",
    "    plt.plot(val_loss)\n",
    "    plt.title('Model loss')\n",
    "    plt.ylabel('Loss')\n",
    "    plt.xlabel('Epoch')\n",
    "    plt.legend(['Train', 'Test'], loc='upper right')\n",
    "    plt.show()\n",
    "\n",
    "def plot_accuracy(acc,val_acc):\n",
    "    plt.figure()\n",
    "    plt.plot(acc)\n",
    "    plt.plot(val_acc)\n",
    "    plt.title('Model accuracy')\n",
    "    plt.ylabel('Accuracy')\n",
    "    plt.xlabel('Epoch')\n",
    "    plt.legend(['Train', 'Test'], loc='upper left')\n",
    "    plt.show()"
   ]
  },
  {
   "cell_type": "code",
   "execution_count": 184,
   "metadata": {},
   "outputs": [
    {
     "data": {
      "image/png": "[encoded data removed]",
      "text/plain": [
       "<Figure size 432x288 with 1 Axes>"
      ]
     },
     "metadata": {},
     "output_type": "display_data"
    },
    {
     "data": {
      "image/png": "[encoded data removed]",
      "text/plain": [
       "<Figure size 432x288 with 1 Axes>"
      ]
     },
     "metadata": {},
     "output_type": "display_data"
    },
    {
     "name": "stdout",
     "output_type": "stream",
     "text": [
      "7/7 [==============================] - 0s 2ms/step - loss: 0.4735 - accuracy: 0.7824\n",
      "3/3 [==============================] - 0s 3ms/step - loss: 0.5774 - accuracy: 0.7024\n",
      "Train accuracy: 78.24 %\n",
      "Accuracy: 70.24 %\n",
      "Overfit: 8.00 % \n"
     ]
    }
   ],
   "source": [
    "plot_loss(dnn_model.history.history['loss'], dnn_model.history.history['val_loss'])\n",
    "plot_accuracy(dnn_model.history.history['accuracy'], dnn_model.history.history['val_accuracy'])\n",
    "\n",
    "_, train_dnn_accuracy = dnn_model.evaluate(X_train, y_train)\n",
    "_, dnn_accuracy = dnn_model.evaluate(X_test, y_test)\n",
    "print('Train accuracy: {:.2f} %'.format(train_dnn_accuracy*100))\n",
    "print('Accuracy: {:.2f} %'.format(dnn_accuracy*100))\n",
    "print('Overfit: {:.2f} % '.format((train_dnn_accuracy - dnn_accuracy)*100))"
   ]
  },
  {
   "cell_type": "code",
   "execution_count": 186,
   "metadata": {},
   "outputs": [
    {
     "data": {
      "text/plain": [
       "array([0, 0, 0, 0, 0, 1, 1, 1, 0, 0, 1, 0, 0, 0, 0, 0, 0, 0, 1, 0, 0, 0,\n",
       "       0, 0, 1, 0, 1, 0, 0, 0, 0, 0, 0, 0, 1, 1, 0, 1, 0, 0, 0, 1, 1, 1,\n",
       "       0, 0, 0, 0, 0, 0, 0, 0, 1, 0, 0, 0, 1, 0, 0, 0, 1, 1, 0, 1, 0, 0,\n",
       "       0, 0, 0, 0, 1, 1, 1, 0, 0, 0, 1, 0, 0, 0, 0, 1, 0, 0, 0, 0, 1, 1,\n",
       "       1, 1, 1, 1, 0, 0, 1, 0, 0, 1, 0, 1, 0, 1, 1, 0, 0, 0, 0, 1, 0, 1,\n",
       "       0, 1, 0, 0, 0, 0, 0, 1, 1, 0, 0, 0, 0, 0, 0, 0, 0, 0, 0, 0, 0, 0,\n",
       "       1, 0, 0, 1, 0, 0, 1, 0, 0, 0, 1, 1, 1, 1, 1, 0, 0, 0, 0, 1, 1, 0,\n",
       "       0, 1, 0, 0, 0, 0, 1, 0, 0, 0, 1, 0, 0, 0, 0, 0, 0, 0, 0, 0, 0, 0,\n",
       "       0, 1, 0, 0, 0, 0, 0, 0, 1, 1, 0, 0, 1, 1, 1, 0, 0])"
      ]
     },
     "execution_count": 186,
     "metadata": {},
     "output_type": "execute_result"
    }
   ],
   "source": [
    "y_train"
   ]
  },
  {
   "cell_type": "code",
   "execution_count": 217,
   "metadata": {},
   "outputs": [
    {
     "name": "stdout",
     "output_type": "stream",
     "text": [
      "-------------------------\n",
      "       | pred n | pred p\n",
      "-------------------------\n",
      "cond n | tn 135  | fp 0\n",
      "cond p | fn 58  | tp 0\n",
      "-------------------------\n",
      "----------------------------\n",
      "       | pred n   | pred p\n",
      "----------------------------\n",
      "cond n | tnr 0.7  | fpr nan\n",
      "cond p | fnr 0.3  | tpr nan\n",
      "----------------------------\n",
      " precision: nan\n",
      "    recall: 0.00\n",
      "  accuracy: 0.70\n",
      "  F1-score: 0.00\n",
      "-------------------------\n",
      "       | pred n | pred p\n",
      "-------------------------\n",
      "cond n | tn 61  | fp 0\n",
      "cond p | fn 23  | tp 0\n",
      "-------------------------\n",
      "----------------------------\n",
      "       | pred n   | pred p\n",
      "----------------------------\n",
      "cond n | tnr 0.73  | fpr nan\n",
      "cond p | fnr 0.27  | tpr nan\n",
      "----------------------------\n",
      " precision: nan\n",
      "    recall: 0.00\n",
      "  accuracy: 0.73\n",
      "  F1-score: 0.00\n"
     ]
    },
    {
     "name": "stderr",
     "output_type": "stream",
     "text": [
      "/tmp/ipykernel_382/786255800.py:41: RuntimeWarning: invalid value encountered in long_scalars\n",
      "  self.tpr = tp/(tp+fp)\n",
      "/tmp/ipykernel_382/786255800.py:43: RuntimeWarning: invalid value encountered in long_scalars\n",
      "  self.fpr = fp/(tp+fp)\n",
      "/tmp/ipykernel_382/786255800.py:44: RuntimeWarning: invalid value encountered in long_scalars\n",
      "  self.precision = tp/(tp+fp) # PPV\n",
      "/tmp/ipykernel_382/786255800.py:64: RuntimeWarning: invalid value encountered in long_scalars\n",
      "  tpr = np.round(tp/(tp+fp),2)\n",
      "/tmp/ipykernel_382/786255800.py:66: RuntimeWarning: invalid value encountered in long_scalars\n",
      "  fpr = np.round(fp/(tp+fp),2)\n",
      "/tmp/ipykernel_382/786255800.py:78: RuntimeWarning: invalid value encountered in long_scalars\n",
      "  precision = tp/(tp+fp) # PPV\n"
     ]
    },
    {
     "data": {
      "text/plain": [
       "0.0"
      ]
     },
     "execution_count": 217,
     "metadata": {},
     "output_type": "execute_result"
    }
   ],
   "source": [
    "y_pred_tr = dnn_model.predict(X_train)\n",
    "y_pred_te = dnn_model.predict(X_test)\n",
    "\n",
    "cmrgtr = cmbw(y_train, y_pred_tr)\n",
    "cmrgtr.prntcmt()\n",
    "cmrgtr.prntcmp()\n",
    "cmrgtr.prntpr()\n",
    "\n",
    "cmrgte = cmbw(y_test, y_pred_te)\n",
    "cmrgte.prntcmt()\n",
    "cmrgte.prntcmp()\n",
    "cmrgte.prntpr()\n",
    "dnn_f1score = cmrgte.F1score\n",
    "dnn_f1score"
   ]
  },
  {
   "cell_type": "code",
   "execution_count": 189,
   "metadata": {},
   "outputs": [
    {
     "data": {
      "image/png": "[encoded data removed]",
      "text/plain": [
       "<Figure size 432x432 with 4 Axes>"
      ]
     },
     "metadata": {},
     "output_type": "display_data"
    }
   ],
   "source": [
    "fig, (ax1, ax2) = plt.subplots(1, 2, figsize=(6,6))\n",
    "fig.suptitle('DNN CM')\n",
    "cm_train=confusion_matrix(y_train, np.rint(dnn_model.predict(X_train)), normalize = 'pred', labels =[0,1])\n",
    "disp_train = ConfusionMatrixDisplay(confusion_matrix=cm_train, display_labels=[0,1])\n",
    "disp_train.plot(ax=ax1)\n",
    "disp_train.ax_.set_title('Train')\n",
    "cm_test=confusion_matrix(y_test, np.rint(dnn_model.predict(X_test)), normalize = 'pred', labels = [0,1])\n",
    "disp_test = ConfusionMatrixDisplay(confusion_matrix=cm_test, display_labels=[0,1])\n",
    "disp_test.plot(ax=ax2)\n",
    "disp_test.ax_.set_title('Test')\n",
    "plt.show()"
   ]
  },
  {
   "cell_type": "markdown",
   "metadata": {},
   "source": [
    "## Random Forest Classifier"
   ]
  },
  {
   "cell_type": "code",
   "execution_count": 193,
   "metadata": {},
   "outputs": [
    {
     "data": {
      "text/plain": [
       "RandomForestClassifier(max_depth=4, n_estimators=75)"
      ]
     },
     "execution_count": 193,
     "metadata": {},
     "output_type": "execute_result"
    }
   ],
   "source": [
    "rf_model = RandomForestClassifier(max_depth=4, n_estimators= 75, max_features='auto')\n",
    "rf_model.fit(X_train, y_train)"
   ]
  },
  {
   "cell_type": "code",
   "execution_count": 218,
   "metadata": {},
   "outputs": [
    {
     "name": "stdout",
     "output_type": "stream",
     "text": [
      "-------------------------\n",
      "       | pred n | pred p\n",
      "-------------------------\n",
      "cond n | tn 134  | fp 1\n",
      "cond p | fn 31  | tp 27\n",
      "-------------------------\n",
      "----------------------------\n",
      "       | pred n   | pred p\n",
      "----------------------------\n",
      "cond n | tnr 0.81  | fpr 0.04\n",
      "cond p | fnr 0.19  | tpr 0.96\n",
      "----------------------------\n",
      " precision: 0.96\n",
      "    recall: 0.47\n",
      "  accuracy: 0.83\n",
      "  F1-score: 0.63\n",
      "-------------------------\n",
      "       | pred n | pred p\n",
      "-------------------------\n",
      "cond n | tn 58  | fp 3\n",
      "cond p | fn 17  | tp 6\n",
      "-------------------------\n",
      "----------------------------\n",
      "       | pred n   | pred p\n",
      "----------------------------\n",
      "cond n | tnr 0.77  | fpr 0.33\n",
      "cond p | fnr 0.23  | tpr 0.67\n",
      "----------------------------\n",
      " precision: 0.67\n",
      "    recall: 0.26\n",
      "  accuracy: 0.76\n",
      "  F1-score: 0.38\n"
     ]
    },
    {
     "data": {
      "text/plain": [
       "0.375"
      ]
     },
     "execution_count": 218,
     "metadata": {},
     "output_type": "execute_result"
    }
   ],
   "source": [
    "y_pred_tr = rf_model.predict(X_train)\n",
    "y_pred_te = rf_model.predict(X_test)\n",
    "\n",
    "cmrgtr = cmbw(y_train, y_pred_tr)\n",
    "cmrgtr.prntcmt()\n",
    "cmrgtr.prntcmp()\n",
    "cmrgtr.prntpr()\n",
    "\n",
    "cmrgte = cmbw(y_test, y_pred_te)\n",
    "cmrgte.prntcmt()\n",
    "cmrgte.prntcmp()\n",
    "cmrgte.prntpr()\n",
    "rf_f1score = cmrgte.F1score\n",
    "rf_f1score"
   ]
  },
  {
   "cell_type": "code",
   "execution_count": 195,
   "metadata": {},
   "outputs": [
    {
     "name": "stdout",
     "output_type": "stream",
     "text": [
      "Train: 83.42 %\n",
      "Test: 76.19 %\n",
      "Overfit: 7.23 %\n"
     ]
    },
    {
     "data": {
      "image/png": "[encoded data removed]",
      "text/plain": [
       "<Figure size 432x432 with 4 Axes>"
      ]
     },
     "metadata": {},
     "output_type": "display_data"
    }
   ],
   "source": [
    "rf_train_score = rf_model.score(X_train, y_train)\n",
    "rf_accuracy = rf_model.score(X_test, y_test)\n",
    "print(\"Train: {:.2f} %\".format(rf_train_score * 100))\n",
    "print(\"Test: {:.2f} %\".format(rf_accuracy*100))\n",
    "print('Overfit: {:.2f} %'.format((rf_train_score-rf_accuracy)*100))\n",
    "plot_CM(rf_model, \"Random Forest\")"
   ]
  },
  {
   "cell_type": "code",
   "execution_count": 49,
   "metadata": {},
   "outputs": [],
   "source": [
    "features = {}\n",
    "for feature, importance in zip(X_cols, rf_model.feature_importances_):\n",
    "    features[feature] = importance"
   ]
  },
  {
   "cell_type": "code",
   "execution_count": 50,
   "metadata": {},
   "outputs": [
    {
     "name": "stdout",
     "output_type": "stream",
     "text": [
      "RF_best_features: [\"inv_nodes_'0-2'\", 'deg_malig_oe', 'node_caps', 'irr', \"inv_nodes_'3-5'\", 'lat', \"menopause_'premeno'\", \"inv_nodes_'6-8'\", \"tum_sz_'30-34'\"] 9\n"
     ]
    },
    {
     "data": {
      "image/png": "[encoded data removed]",
      "text/plain": [
       "<Figure size 432x288 with 1 Axes>"
      ]
     },
     "metadata": {},
     "output_type": "display_data"
    }
   ],
   "source": [
    "importances = pd.DataFrame({\"RF\":features})\n",
    "importances.sort_values(\"RF\", ascending = False, inplace=True)\n",
    "RF_best_features = list(importances[importances.RF > 0.03].index)\n",
    "importances.plot.bar()\n",
    "print(\"RF_best_features:\",RF_best_features, len(RF_best_features))"
   ]
  },
  {
   "cell_type": "markdown",
   "metadata": {},
   "source": [
    "## XGBoost"
   ]
  },
  {
   "cell_type": "code",
   "execution_count": 221,
   "metadata": {},
   "outputs": [
    {
     "name": "stdout",
     "output_type": "stream",
     "text": [
      "-------------------------\n",
      "       | pred n | pred p\n",
      "-------------------------\n",
      "cond n | tn 134  | fp 1\n",
      "cond p | fn 57  | tp 1\n",
      "-------------------------\n",
      "----------------------------\n",
      "       | pred n   | pred p\n",
      "----------------------------\n",
      "cond n | tnr 0.7  | fpr 0.5\n",
      "cond p | fnr 0.3  | tpr 0.5\n",
      "----------------------------\n",
      " precision: 0.50\n",
      "    recall: 0.02\n",
      "  accuracy: 0.70\n",
      "  F1-score: 0.03\n",
      "-------------------------\n",
      "       | pred n | pred p\n",
      "-------------------------\n",
      "cond n | tn 61  | fp 0\n",
      "cond p | fn 22  | tp 1\n",
      "-------------------------\n",
      "----------------------------\n",
      "       | pred n   | pred p\n",
      "----------------------------\n",
      "cond n | tnr 0.73  | fpr 0.0\n",
      "cond p | fnr 0.27  | tpr 1.0\n",
      "----------------------------\n",
      " precision: 1.00\n",
      "    recall: 0.04\n",
      "  accuracy: 0.74\n",
      "  F1-score: 0.08\n",
      "Train: 69.95 %\n",
      "Test: 73.81 %\n",
      "Overfit: -3.86 %\n"
     ]
    },
    {
     "data": {
      "image/png": "[encoded data removed]",
      "text/plain": [
       "<Figure size 432x432 with 4 Axes>"
      ]
     },
     "metadata": {},
     "output_type": "display_data"
    },
    {
     "name": "stdout",
     "output_type": "stream",
     "text": [
      "XGB best features ['f24', 'f0', 'f3', 'f2', 'f28', 'f29', 'f35', 'f30', 'f18', 'f19', 'f34', 'f23', 'f8']\n"
     ]
    }
   ],
   "source": [
    "xgb_model = xgb.XGBClassifier(learning_rate= 0.01, \n",
    "                              max_depth= 10, n_estimators= 250, min_child_weight = 0.5, reg_lambda= 100, subsample= 0.9, \n",
    "                              gamma=0.5,colsample_bytree = 0.4, colsample_bylevel = 0.6,\n",
    "                              use_label_encoder=False, eval_metric='logloss')\n",
    "xgb_model.fit(X_train, y_train)\n",
    "xgb_train_score = xgb_model.score(X_train, y_train)\n",
    "xgb_accuracy = xgb_model.score(X_test, y_test)\n",
    "\n",
    "y_pred_tr = xgb_model.predict(X_train)\n",
    "y_pred_te = xgb_model.predict(X_test)\n",
    "\n",
    "cmtr = cmbw(y_train, y_pred_tr)\n",
    "cmtr.prntcmt()\n",
    "cmtr.prntcmp()\n",
    "cmtr.prntpr()\n",
    "\n",
    "cmte = cmbw(y_test, y_pred_te)\n",
    "cmte.prntcmt()\n",
    "cmte.prntcmp()\n",
    "cmte.prntpr()\n",
    "xgb_f1score = cmte.F1score\n",
    "xgb_f1score\n",
    "\n",
    "print(\"Train: {:.2f} %\".format(xgb_train_score*100))\n",
    "print(\"Test: {:.2f} %\".format(xgb_accuracy*100))\n",
    "print('Overfit: {:.2f} %'.format((xgb_train_score-xgb_accuracy)*100))\n",
    "\n",
    "plot_CM(xgb_model, \"XGB\")\n",
    "\n",
    "weights = xgb_model.get_booster().get_score(importance_type=\"gain\")\n",
    "weights = [(weights[w],w) for w in sorted(weights, key=weights.get, reverse=True)]\n",
    "XGB_features = [w[1] for w in weights]\n",
    "print(\"XGB best features\", XGB_features)"
   ]
  },
  {
   "cell_type": "markdown",
   "metadata": {},
   "source": [
    "## SVM Classifier"
   ]
  },
  {
   "cell_type": "code",
   "execution_count": 222,
   "metadata": {},
   "outputs": [
    {
     "name": "stdout",
     "output_type": "stream",
     "text": [
      "-------------------------\n",
      "       | pred n | pred p\n",
      "-------------------------\n",
      "cond n | tn 133  | fp 2\n",
      "cond p | fn 27  | tp 31\n",
      "-------------------------\n",
      "----------------------------\n",
      "       | pred n   | pred p\n",
      "----------------------------\n",
      "cond n | tnr 0.83  | fpr 0.06\n",
      "cond p | fnr 0.17  | tpr 0.94\n",
      "----------------------------\n",
      " precision: 0.94\n",
      "    recall: 0.53\n",
      "  accuracy: 0.85\n",
      "  F1-score: 0.68\n",
      "-------------------------\n",
      "       | pred n | pred p\n",
      "-------------------------\n",
      "cond n | tn 54  | fp 7\n",
      "cond p | fn 16  | tp 7\n",
      "-------------------------\n",
      "----------------------------\n",
      "       | pred n   | pred p\n",
      "----------------------------\n",
      "cond n | tnr 0.77  | fpr 0.5\n",
      "cond p | fnr 0.23  | tpr 0.5\n",
      "----------------------------\n",
      " precision: 0.50\n",
      "    recall: 0.30\n",
      "  accuracy: 0.73\n",
      "  F1-score: 0.38\n",
      "Train: 84.97 %\n",
      "Test: 72.62 %\n",
      "Overfit: 12.36 %\n"
     ]
    },
    {
     "data": {
      "image/png": "[encoded data removed]",
      "text/plain": [
       "<Figure size 432x432 with 4 Axes>"
      ]
     },
     "metadata": {},
     "output_type": "display_data"
    },
    {
     "name": "stdout",
     "output_type": "stream",
     "text": [
      "SVM_best_features: [\"inv_nodes_'0-2'\", 'deg_malig_oe', 'node_caps', 'irr', \"inv_nodes_'3-5'\", 'lat', \"menopause_'premeno'\", \"inv_nodes_'6-8'\", \"tum_sz_'30-34'\"] 9\n"
     ]
    },
    {
     "data": {
      "image/png": "[encoded data removed]",
      "text/plain": [
       "<Figure size 432x288 with 1 Axes>"
      ]
     },
     "metadata": {},
     "output_type": "display_data"
    }
   ],
   "source": [
    "SVM_model = SVC(C = 100, gamma= 0.001, kernel='rbf', probability=True, random_state = 13)\n",
    "SVM_model.fit(X_train, y_train)\n",
    "\n",
    "y_pred_tr = SVM_model.predict(X_train)\n",
    "y_pred_te = SVM_model.predict(X_test)\n",
    "\n",
    "cmtr = cmbw(y_train, y_pred_tr)\n",
    "cmtr.prntcmt()\n",
    "cmtr.prntcmp()\n",
    "cmtr.prntpr()\n",
    "\n",
    "cmte = cmbw(y_test, y_pred_te)\n",
    "cmte.prntcmt()\n",
    "cmte.prntcmp()\n",
    "cmte.prntpr()\n",
    "SVM_f1score = cmte.F1score\n",
    "SVM_f1score\n",
    "\n",
    "svm_train_score = SVM_model.score(X_train, y_train)\n",
    "SVM_accuracy = SVM_model.score(X_test, y_test)\n",
    "print(\"Train: {:.2f} %\".format(svm_train_score*100))\n",
    "print(\"Test: {:.2f} %\".format(SVM_accuracy*100))\n",
    "print('Overfit: {:.2f} %'.format((svm_train_score - SVM_accuracy)*100))\n",
    "\n",
    "plot_CM(SVM_model, \"SVM\")\n",
    "\n",
    "features = {}\n",
    "for feature, importance in zip(X_cols, rf_model.feature_importances_):\n",
    "    features[feature] = importance\n",
    "\n",
    "importances = pd.DataFrame({\"SVM\":features})\n",
    "importances.sort_values(\"SVM\", ascending = False, inplace=True)\n",
    "importances\n",
    "SVM_best_features = list(importances[importances.SVM > 0.03].index)\n",
    "importances.plot.bar()\n",
    "print(\"SVM_best_features:\",SVM_best_features, len(SVM_best_features))"
   ]
  },
  {
   "cell_type": "markdown",
   "metadata": {},
   "source": [
    "## Logistic Regression"
   ]
  },
  {
   "cell_type": "code",
   "execution_count": 223,
   "metadata": {},
   "outputs": [
    {
     "name": "stdout",
     "output_type": "stream",
     "text": [
      "-------------------------\n",
      "       | pred n | pred p\n",
      "-------------------------\n",
      "cond n | tn 124  | fp 11\n",
      "cond p | fn 28  | tp 30\n",
      "-------------------------\n",
      "----------------------------\n",
      "       | pred n   | pred p\n",
      "----------------------------\n",
      "cond n | tnr 0.82  | fpr 0.27\n",
      "cond p | fnr 0.18  | tpr 0.73\n",
      "----------------------------\n",
      " precision: 0.73\n",
      "    recall: 0.52\n",
      "  accuracy: 0.80\n",
      "  F1-score: 0.61\n",
      "-------------------------\n",
      "       | pred n | pred p\n",
      "-------------------------\n",
      "cond n | tn 53  | fp 8\n",
      "cond p | fn 17  | tp 6\n",
      "-------------------------\n",
      "----------------------------\n",
      "       | pred n   | pred p\n",
      "----------------------------\n",
      "cond n | tnr 0.76  | fpr 0.57\n",
      "cond p | fnr 0.24  | tpr 0.43\n",
      "----------------------------\n",
      " precision: 0.43\n",
      "    recall: 0.26\n",
      "  accuracy: 0.70\n",
      "  F1-score: 0.32\n",
      "Train: 79.79 %\n",
      "Test: 70.24 %\n",
      "Overfit: 9.55 %\n"
     ]
    },
    {
     "data": {
      "image/png": "[encoded data removed]",
      "text/plain": [
       "<Figure size 432x432 with 4 Axes>"
      ]
     },
     "metadata": {},
     "output_type": "display_data"
    },
    {
     "name": "stdout",
     "output_type": "stream",
     "text": [
      "LR_best_features: [\"inv_nodes_'0-2'\", 'deg_malig_oe', 'node_caps', 'irr', \"inv_nodes_'3-5'\", 'lat', \"menopause_'premeno'\", \"inv_nodes_'6-8'\", \"tum_sz_'30-34'\"] 9\n"
     ]
    },
    {
     "data": {
      "image/png": "[encoded data removed]",
      "text/plain": [
       "<Figure size 432x288 with 1 Axes>"
      ]
     },
     "metadata": {},
     "output_type": "display_data"
    }
   ],
   "source": [
    "LR_model = LogisticRegression(solver='liblinear', C=1000, penalty='l2', random_state=13)\n",
    "LR_model.fit(X_train, y_train)\n",
    "\n",
    "y_pred_tr = LR_model.predict(X_train)\n",
    "y_pred_te = LR_model.predict(X_test)\n",
    "\n",
    "cmtr = cmbw(y_train, y_pred_tr)\n",
    "cmtr.prntcmt()\n",
    "cmtr.prntcmp()\n",
    "cmtr.prntpr()\n",
    "\n",
    "cmte = cmbw(y_test, y_pred_te)\n",
    "cmte.prntcmt()\n",
    "cmte.prntcmp()\n",
    "cmte.prntpr()\n",
    "LR_f1score = cmte.F1score\n",
    "LR_f1score\n",
    "\n",
    "LR_train_score = LR_model.score(X_train, y_train)\n",
    "LR_accuracy = LR_model.score(X_test, y_test)\n",
    "print(\"Train: {:.2f} %\".format(LR_train_score*100))\n",
    "print(\"Test: {:.2f} %\".format(LR_accuracy*100))\n",
    "print('Overfit: {:.2f} %'.format((LR_train_score-LR_accuracy)*100))\n",
    "\n",
    "plot_CM(LR_model, \"Logistic Regression\")\n",
    "\n",
    "\n",
    "features = {}\n",
    "for feature, importance in zip(X_cols, rf_model.feature_importances_):\n",
    "    features[feature] = importance\n",
    "\n",
    "importances = pd.DataFrame({\"LR\":features})\n",
    "importances.sort_values(\"LR\", ascending = False, inplace=True)\n",
    "importances\n",
    "LR_best_features = list(importances[importances.LR > 0.03].index)\n",
    "importances.plot.bar()\n",
    "print(\"LR_best_features:\",LR_best_features, len(LR_best_features))"
   ]
  },
  {
   "cell_type": "markdown",
   "metadata": {},
   "source": [
    "## KNN Classifier"
   ]
  },
  {
   "cell_type": "code",
   "execution_count": 224,
   "metadata": {},
   "outputs": [
    {
     "name": "stdout",
     "output_type": "stream",
     "text": [
      "-------------------------\n",
      "       | pred n | pred p\n",
      "-------------------------\n",
      "cond n | tn 132  | fp 3\n",
      "cond p | fn 50  | tp 8\n",
      "-------------------------\n",
      "----------------------------\n",
      "       | pred n   | pred p\n",
      "----------------------------\n",
      "cond n | tnr 0.73  | fpr 0.27\n",
      "cond p | fnr 0.27  | tpr 0.73\n",
      "----------------------------\n",
      " precision: 0.73\n",
      "    recall: 0.14\n",
      "  accuracy: 0.73\n",
      "  F1-score: 0.23\n",
      "-------------------------\n",
      "       | pred n | pred p\n",
      "-------------------------\n",
      "cond n | tn 58  | fp 3\n",
      "cond p | fn 19  | tp 4\n",
      "-------------------------\n",
      "----------------------------\n",
      "       | pred n   | pred p\n",
      "----------------------------\n",
      "cond n | tnr 0.75  | fpr 0.43\n",
      "cond p | fnr 0.25  | tpr 0.57\n",
      "----------------------------\n",
      " precision: 0.57\n",
      "    recall: 0.17\n",
      "  accuracy: 0.74\n",
      "  F1-score: 0.27\n",
      "Train: 72.54 %\n",
      "Test: 73.81 %\n",
      "Overfit: -1.27 %\n"
     ]
    },
    {
     "data": {
      "image/png": "[encoded data removed]",
      "text/plain": [
       "<Figure size 432x432 with 4 Axes>"
      ]
     },
     "metadata": {},
     "output_type": "display_data"
    },
    {
     "name": "stdout",
     "output_type": "stream",
     "text": [
      "KNN_best_features: [\"inv_nodes_'0-2'\", 'deg_malig_oe', 'node_caps', 'irr', \"inv_nodes_'3-5'\", 'lat', \"menopause_'premeno'\", \"inv_nodes_'6-8'\", \"tum_sz_'30-34'\"] 9\n"
     ]
    },
    {
     "data": {
      "image/png": "[encoded data removed]",
      "text/plain": [
       "<Figure size 432x288 with 1 Axes>"
      ]
     },
     "metadata": {},
     "output_type": "display_data"
    }
   ],
   "source": [
    "KNN_model = KNeighborsClassifier(n_neighbors=12,metric='manhattan',weights='uniform')\n",
    "KNN_model.fit(X_train, y_train)\n",
    "\n",
    "y_pred_tr = KNN_model.predict(X_train)\n",
    "y_pred_te = KNN_model.predict(X_test)\n",
    "\n",
    "cmtr = cmbw(y_train, y_pred_tr)\n",
    "cmtr.prntcmt()\n",
    "cmtr.prntcmp()\n",
    "cmtr.prntpr()\n",
    "\n",
    "cmte = cmbw(y_test, y_pred_te)\n",
    "cmte.prntcmt()\n",
    "cmte.prntcmp()\n",
    "cmte.prntpr()\n",
    "KNN_f1score = cmte.F1score\n",
    "KNN_f1score\n",
    "\n",
    "KNN_train_score = KNN_model.score(X_train, y_train)\n",
    "KNN_accuracy = KNN_model.score(X_test, y_test)\n",
    "print(\"Train: {:.2f} %\".format(KNN_train_score*100))\n",
    "print(\"Test: {:.2f} %\".format(KNN_accuracy*100))\n",
    "print('Overfit: {:.2f} %'.format((KNN_train_score-KNN_accuracy)*100))\n",
    "\n",
    "plot_CM(KNN_model, \"KNN\")\n",
    "\n",
    "features = {}\n",
    "for feature, importance in zip(X_cols, rf_model.feature_importances_):\n",
    "    features[feature] = importance\n",
    "\n",
    "importances = pd.DataFrame({\"KNN\":features})\n",
    "importances.sort_values(\"KNN\", ascending = False, inplace=True)\n",
    "importances\n",
    "KNN_best_features = list(importances[importances.KNN > 0.03].index)\n",
    "importances.plot.bar()\n",
    "print(\"KNN_best_features:\",KNN_best_features, len(KNN_best_features))"
   ]
  },
  {
   "cell_type": "markdown",
   "metadata": {},
   "source": [
    "## AdaBoost Classifier"
   ]
  },
  {
   "cell_type": "code",
   "execution_count": 225,
   "metadata": {},
   "outputs": [
    {
     "name": "stdout",
     "output_type": "stream",
     "text": [
      "-------------------------\n",
      "       | pred n | pred p\n",
      "-------------------------\n",
      "cond n | tn 135  | fp 0\n",
      "cond p | fn 17  | tp 41\n",
      "-------------------------\n",
      "----------------------------\n",
      "       | pred n   | pred p\n",
      "----------------------------\n",
      "cond n | tnr 0.89  | fpr 0.0\n",
      "cond p | fnr 0.11  | tpr 1.0\n",
      "----------------------------\n",
      " precision: 1.00\n",
      "    recall: 0.71\n",
      "  accuracy: 0.91\n",
      "  F1-score: 0.83\n",
      "-------------------------\n",
      "       | pred n | pred p\n",
      "-------------------------\n",
      "cond n | tn 54  | fp 7\n",
      "cond p | fn 14  | tp 9\n",
      "-------------------------\n",
      "----------------------------\n",
      "       | pred n   | pred p\n",
      "----------------------------\n",
      "cond n | tnr 0.79  | fpr 0.44\n",
      "cond p | fnr 0.21  | tpr 0.56\n",
      "----------------------------\n",
      " precision: 0.56\n",
      "    recall: 0.39\n",
      "  accuracy: 0.75\n",
      "  F1-score: 0.46\n",
      "Train: 91.19 %\n",
      "Test: 75.00 %\n",
      "Overfit: 16.19 %\n"
     ]
    },
    {
     "data": {
      "image/png": "[encoded data removed]",
      "text/plain": [
       "<Figure size 432x432 with 4 Axes>"
      ]
     },
     "metadata": {},
     "output_type": "display_data"
    },
    {
     "name": "stdout",
     "output_type": "stream",
     "text": [
      "ADA_best_features: [\"inv_nodes_'0-2'\", 'deg_malig_oe', 'node_caps', 'irr', \"inv_nodes_'3-5'\", 'lat', \"menopause_'premeno'\", \"inv_nodes_'6-8'\", \"tum_sz_'30-34'\"] 9\n"
     ]
    },
    {
     "data": {
      "image/png": "[encoded data removed]",
      "text/plain": [
       "<Figure size 432x288 with 1 Axes>"
      ]
     },
     "metadata": {},
     "output_type": "display_data"
    }
   ],
   "source": [
    "ADA_model = AdaBoostClassifier(base_estimator=DecisionTreeClassifier(max_depth=4, min_samples_leaf=4, max_features=0.7, min_samples_split= 5), \n",
    "                               n_estimators=100, learning_rate=0.01, random_state=13) \n",
    "ADA_model.fit(X_train,y_train)\n",
    "\n",
    "y_pred_tr = ADA_model.predict(X_train)\n",
    "y_pred_te = ADA_model.predict(X_test)\n",
    "\n",
    "cmtr = cmbw(y_train, y_pred_tr)\n",
    "cmtr.prntcmt()\n",
    "cmtr.prntcmp()\n",
    "cmtr.prntpr()\n",
    "\n",
    "cmte = cmbw(y_test, y_pred_te)\n",
    "cmte.prntcmt()\n",
    "cmte.prntcmp()\n",
    "cmte.prntpr()\n",
    "ADA_f1score = cmte.F1score\n",
    "ADA_f1score\n",
    "\n",
    "ADA_train_score = ADA_model.score(X_train, y_train)\n",
    "ADA_accuracy = ADA_model.score(X_test, y_test)\n",
    "print(\"Train: {:.2f} %\".format(ADA_train_score*100))\n",
    "print(\"Test: {:.2f} %\".format(ADA_accuracy*100))\n",
    "print('Overfit: {:.2f} %'.format((ADA_train_score - ADA_accuracy)*100))\n",
    "\n",
    "plot_CM(ADA_model, \"ADA Boost\")\n",
    "\n",
    "features = {}\n",
    "for feature, importance in zip(X_cols, rf_model.feature_importances_):\n",
    "    features[feature] = importance\n",
    "\n",
    "importances = pd.DataFrame({\"ADA\":features})\n",
    "importances.sort_values(\"ADA\", ascending = False, inplace=True)\n",
    "importances\n",
    "ADA_best_features = list(importances[importances.ADA > 0.03].index)\n",
    "importances.plot.bar()\n",
    "print(\"ADA_best_features:\",ADA_best_features, len(ADA_best_features))\n"
   ]
  },
  {
   "cell_type": "markdown",
   "metadata": {},
   "source": [
    "## ExtraTrees Classifier"
   ]
  },
  {
   "cell_type": "code",
   "execution_count": 226,
   "metadata": {},
   "outputs": [
    {
     "name": "stdout",
     "output_type": "stream",
     "text": [
      "-------------------------\n",
      "       | pred n | pred p\n",
      "-------------------------\n",
      "cond n | tn 132  | fp 3\n",
      "cond p | fn 30  | tp 28\n",
      "-------------------------\n",
      "----------------------------\n",
      "       | pred n   | pred p\n",
      "----------------------------\n",
      "cond n | tnr 0.81  | fpr 0.1\n",
      "cond p | fnr 0.19  | tpr 0.9\n",
      "----------------------------\n",
      " precision: 0.90\n",
      "    recall: 0.48\n",
      "  accuracy: 0.83\n",
      "  F1-score: 0.63\n",
      "-------------------------\n",
      "       | pred n | pred p\n",
      "-------------------------\n",
      "cond n | tn 55  | fp 6\n",
      "cond p | fn 16  | tp 7\n",
      "-------------------------\n",
      "----------------------------\n",
      "       | pred n   | pred p\n",
      "----------------------------\n",
      "cond n | tnr 0.77  | fpr 0.46\n",
      "cond p | fnr 0.23  | tpr 0.54\n",
      "----------------------------\n",
      " precision: 0.54\n",
      "    recall: 0.30\n",
      "  accuracy: 0.74\n",
      "  F1-score: 0.39\n",
      "Train: 82.90 %\n",
      "Test: 73.81 %\n",
      "Overfit: 9.09 %\n"
     ]
    },
    {
     "data": {
      "image/png": "[encoded data removed]",
      "text/plain": [
       "<Figure size 432x432 with 4 Axes>"
      ]
     },
     "metadata": {},
     "output_type": "display_data"
    },
    {
     "name": "stdout",
     "output_type": "stream",
     "text": [
      "ETC_best_features: [\"inv_nodes_'0-2'\", 'deg_malig_oe', 'node_caps', 'irr', \"inv_nodes_'3-5'\", 'lat', \"menopause_'premeno'\", \"inv_nodes_'6-8'\", \"tum_sz_'30-34'\"] 9\n"
     ]
    },
    {
     "data": {
      "image/png": "[encoded data removed]",
      "text/plain": [
       "<Figure size 432x288 with 1 Axes>"
      ]
     },
     "metadata": {},
     "output_type": "display_data"
    }
   ],
   "source": [
    "ETC_model = ExtraTreesClassifier(max_features=10, n_estimators=100,  max_depth = 3, random_state = 13)\n",
    "ETC_model.fit(X_train, y_train)\n",
    "\n",
    "y_pred_tr = ETC_model.predict(X_train)\n",
    "y_pred_te = ETC_model.predict(X_test)\n",
    "\n",
    "cmtr = cmbw(y_train, y_pred_tr)\n",
    "cmtr.prntcmt()\n",
    "cmtr.prntcmp()\n",
    "cmtr.prntpr()\n",
    "\n",
    "cmte = cmbw(y_test, y_pred_te)\n",
    "cmte.prntcmt()\n",
    "cmte.prntcmp()\n",
    "cmte.prntpr()\n",
    "ETC_f1score = cmte.F1score\n",
    "ETC_f1score\n",
    "\n",
    "ETC_train_score = ETC_model.score(X_train, y_train)\n",
    "ETC_accuracy = ETC_model.score(X_test, y_test)\n",
    "print(\"Train: {:.2f} %\".format(ETC_train_score*100))\n",
    "print(\"Test: {:.2f} %\".format(ETC_accuracy*100))\n",
    "print('Overfit: {:.2f} %'.format((ETC_train_score-ETC_accuracy)*100))\n",
    "\n",
    "plot_CM(ETC_model, \"Extra Trees\")\n",
    "\n",
    "features = {}\n",
    "for feature, importance in zip(X_cols, rf_model.feature_importances_):\n",
    "    features[feature] = importance\n",
    "\n",
    "importances = pd.DataFrame({\"ETC\":features})\n",
    "importances.sort_values(\"ETC\", ascending = False, inplace=True)\n",
    "importances\n",
    "ETC_best_features = list(importances[importances.ETC > 0.03].index)\n",
    "importances.plot.bar()\n",
    "print(\"ETC_best_features:\",ETC_best_features, len(ETC_best_features))\n"
   ]
  },
  {
   "cell_type": "markdown",
   "metadata": {},
   "source": [
    "## GBM Classifier"
   ]
  },
  {
   "cell_type": "code",
   "execution_count": 227,
   "metadata": {},
   "outputs": [
    {
     "name": "stderr",
     "output_type": "stream",
     "text": [
      "/tmp/ipykernel_382/786255800.py:41: RuntimeWarning: invalid value encountered in long_scalars\n",
      "  self.tpr = tp/(tp+fp)\n",
      "/tmp/ipykernel_382/786255800.py:43: RuntimeWarning: invalid value encountered in long_scalars\n",
      "  self.fpr = fp/(tp+fp)\n",
      "/tmp/ipykernel_382/786255800.py:44: RuntimeWarning: invalid value encountered in long_scalars\n",
      "  self.precision = tp/(tp+fp) # PPV\n",
      "/tmp/ipykernel_382/786255800.py:64: RuntimeWarning: invalid value encountered in long_scalars\n",
      "  tpr = np.round(tp/(tp+fp),2)\n",
      "/tmp/ipykernel_382/786255800.py:66: RuntimeWarning: invalid value encountered in long_scalars\n",
      "  fpr = np.round(fp/(tp+fp),2)\n",
      "/tmp/ipykernel_382/786255800.py:78: RuntimeWarning: invalid value encountered in long_scalars\n",
      "  precision = tp/(tp+fp) # PPV\n"
     ]
    },
    {
     "name": "stdout",
     "output_type": "stream",
     "text": [
      "-------------------------\n",
      "       | pred n | pred p\n",
      "-------------------------\n",
      "cond n | tn 135  | fp 0\n",
      "cond p | fn 58  | tp 0\n",
      "-------------------------\n",
      "----------------------------\n",
      "       | pred n   | pred p\n",
      "----------------------------\n",
      "cond n | tnr 0.7  | fpr nan\n",
      "cond p | fnr 0.3  | tpr nan\n",
      "----------------------------\n",
      " precision: nan\n",
      "    recall: 0.00\n",
      "  accuracy: 0.70\n",
      "  F1-score: 0.00\n",
      "-------------------------\n",
      "       | pred n | pred p\n",
      "-------------------------\n",
      "cond n | tn 61  | fp 0\n",
      "cond p | fn 23  | tp 0\n",
      "-------------------------\n",
      "----------------------------\n",
      "       | pred n   | pred p\n",
      "----------------------------\n",
      "cond n | tnr 0.73  | fpr nan\n",
      "cond p | fnr 0.27  | tpr nan\n",
      "----------------------------\n",
      " precision: nan\n",
      "    recall: 0.00\n",
      "  accuracy: 0.73\n",
      "  F1-score: 0.00\n",
      "Train: 69.95 %\n",
      "Test: 72.62 %\n",
      "Overfit: -2.67 %\n"
     ]
    },
    {
     "data": {
      "image/png": "[encoded data removed]",
      "text/plain": [
       "<Figure size 432x432 with 4 Axes>"
      ]
     },
     "metadata": {},
     "output_type": "display_data"
    },
    {
     "name": "stdout",
     "output_type": "stream",
     "text": [
      "GBC_best_features: [\"inv_nodes_'0-2'\", 'deg_malig_oe', 'node_caps', 'irr', \"inv_nodes_'3-5'\", 'lat', \"menopause_'premeno'\", \"inv_nodes_'6-8'\", \"tum_sz_'30-34'\"] 9\n"
     ]
    },
    {
     "data": {
      "image/png": "[encoded data removed]",
      "text/plain": [
       "<Figure size 432x288 with 1 Axes>"
      ]
     },
     "metadata": {},
     "output_type": "display_data"
    }
   ],
   "source": [
    "GBC_model = GradientBoostingClassifier(learning_rate=0.3,max_depth=4, max_features=0.6, min_samples_leaf=95, n_estimators=100, random_state = 13)\n",
    "GBC_model.fit(X_train, y_train)\n",
    "\n",
    "y_pred_tr = GBC_model.predict(X_train)\n",
    "y_pred_te = GBC_model.predict(X_test)\n",
    "\n",
    "cmtr = cmbw(y_train, y_pred_tr)\n",
    "cmtr.prntcmt()\n",
    "cmtr.prntcmp()\n",
    "cmtr.prntpr()\n",
    "\n",
    "cmte = cmbw(y_test, y_pred_te)\n",
    "cmte.prntcmt()\n",
    "cmte.prntcmp()\n",
    "cmte.prntpr()\n",
    "GBM_f1score = cmte.F1score\n",
    "GBM_f1score\n",
    "\n",
    "GBC_train_score = GBC_model.score(X_train, y_train)\n",
    "GBC_accuracy = GBC_model.score(X_test, y_test)\n",
    "print(\"Train: {:.2f} %\".format(GBC_train_score*100))\n",
    "print(\"Test: {:.2f} %\".format(GBC_accuracy*100))\n",
    "print('Overfit: {:.2f} %'.format((GBC_train_score - GBC_accuracy)*100))\n",
    "\n",
    "plot_CM(GBC_model, \"GradientBoosting\")\n",
    "\n",
    "features = {}\n",
    "for feature, importance in zip(X_cols, rf_model.feature_importances_):\n",
    "    features[feature] = importance\n",
    "\n",
    "importances = pd.DataFrame({\"GBC\":features})\n",
    "importances.sort_values(\"GBC\", ascending = False, inplace=True)\n",
    "GBC_best_features = list(importances[importances.GBC > 0.03].index)\n",
    "importances.plot.bar()\n",
    "print(\"GBC_best_features:\",GBC_best_features, len(GBC_best_features))"
   ]
  },
  {
   "cell_type": "markdown",
   "metadata": {},
   "source": [
    "## SGD Classifier"
   ]
  },
  {
   "cell_type": "code",
   "execution_count": 228,
   "metadata": {},
   "outputs": [
    {
     "name": "stdout",
     "output_type": "stream",
     "text": [
      "-------------------------\n",
      "       | pred n | pred p\n",
      "-------------------------\n",
      "cond n | tn 109  | fp 26\n",
      "cond p | fn 24  | tp 34\n",
      "-------------------------\n",
      "----------------------------\n",
      "       | pred n   | pred p\n",
      "----------------------------\n",
      "cond n | tnr 0.82  | fpr 0.43\n",
      "cond p | fnr 0.18  | tpr 0.57\n",
      "----------------------------\n",
      " precision: 0.57\n",
      "    recall: 0.59\n",
      "  accuracy: 0.74\n",
      "  F1-score: 0.58\n",
      "-------------------------\n",
      "       | pred n | pred p\n",
      "-------------------------\n",
      "cond n | tn 47  | fp 14\n",
      "cond p | fn 15  | tp 8\n",
      "-------------------------\n",
      "----------------------------\n",
      "       | pred n   | pred p\n",
      "----------------------------\n",
      "cond n | tnr 0.76  | fpr 0.64\n",
      "cond p | fnr 0.24  | tpr 0.36\n",
      "----------------------------\n",
      " precision: 0.36\n",
      "    recall: 0.35\n",
      "  accuracy: 0.65\n",
      "  F1-score: 0.36\n",
      "Train: 74.09 %\n",
      "Test: 65.48 %\n",
      "Overfit: 8.62 %\n"
     ]
    },
    {
     "data": {
      "image/png": "[encoded data removed]",
      "text/plain": [
       "<Figure size 432x432 with 4 Axes>"
      ]
     },
     "metadata": {},
     "output_type": "display_data"
    },
    {
     "name": "stdout",
     "output_type": "stream",
     "text": [
      "SGD_best_features: [\"inv_nodes_'0-2'\", 'deg_malig_oe', 'node_caps', 'irr', \"inv_nodes_'3-5'\", 'lat', \"menopause_'premeno'\", \"inv_nodes_'6-8'\", \"tum_sz_'30-34'\"] 9\n"
     ]
    },
    {
     "data": {
      "image/png": "[encoded data removed]",
      "text/plain": [
       "<Figure size 432x288 with 1 Axes>"
      ]
     },
     "metadata": {},
     "output_type": "display_data"
    }
   ],
   "source": [
    "SGD_model = SGDClassifier(alpha=0.001, penalty='elasticnet', loss='modified_huber', random_state=13)\n",
    "SGD_model.fit(X_train, y_train)\n",
    "\n",
    "y_pred_tr = SGD_model.predict(X_train)\n",
    "y_pred_te = SGD_model.predict(X_test)\n",
    "\n",
    "cmtr = cmbw(y_train, y_pred_tr)\n",
    "cmtr.prntcmt()\n",
    "cmtr.prntcmp()\n",
    "cmtr.prntpr()\n",
    "\n",
    "cmte = cmbw(y_test, y_pred_te)\n",
    "cmte.prntcmt()\n",
    "cmte.prntcmp()\n",
    "cmte.prntpr()\n",
    "SGD_f1score = cmte.F1score\n",
    "SGD_f1score\n",
    "\n",
    "SGD_train_score = SGD_model.score(X_train, y_train)\n",
    "SGD_accuracy = SGD_model.score(X_test, y_test)\n",
    "print(\"Train: {:.2f} %\".format(SGD_train_score*100))\n",
    "print(\"Test: {:.2f} %\".format(SGD_accuracy*100))\n",
    "print('Overfit: {:.2f} %'.format((SGD_train_score-SGD_accuracy)*100))\n",
    "\n",
    "plot_CM(SGD_model, \"StochasticGradientDescent\")\n",
    "\n",
    "features = {}\n",
    "for feature, importance in zip(X_cols, rf_model.feature_importances_):\n",
    "    features[feature] = importance\n",
    "\n",
    "importances = pd.DataFrame({\"SGD\":features})\n",
    "importances.sort_values(\"SGD\", ascending = False, inplace=True)\n",
    "SGD_best_features = list(importances[importances.SGD > 0.03].index)\n",
    "importances.plot.bar()\n",
    "print(\"SGD_best_features:\",SGD_best_features, len(SGD_best_features))\n"
   ]
  },
  {
   "cell_type": "markdown",
   "metadata": {},
   "source": [
    "## Decision Tree Classifier"
   ]
  },
  {
   "cell_type": "code",
   "execution_count": 231,
   "metadata": {},
   "outputs": [
    {
     "name": "stdout",
     "output_type": "stream",
     "text": [
      "-------------------------\n",
      "       | pred n | pred p\n",
      "-------------------------\n",
      "cond n | tn 126  | fp 9\n",
      "cond p | fn 32  | tp 26\n",
      "-------------------------\n",
      "----------------------------\n",
      "       | pred n   | pred p\n",
      "----------------------------\n",
      "cond n | tnr 0.8  | fpr 0.26\n",
      "cond p | fnr 0.2  | tpr 0.74\n",
      "----------------------------\n",
      " precision: 0.74\n",
      "    recall: 0.45\n",
      "  accuracy: 0.79\n",
      "  F1-score: 0.56\n",
      "-------------------------\n",
      "       | pred n | pred p\n",
      "-------------------------\n",
      "cond n | tn 56  | fp 5\n",
      "cond p | fn 16  | tp 7\n",
      "-------------------------\n",
      "----------------------------\n",
      "       | pred n   | pred p\n",
      "----------------------------\n",
      "cond n | tnr 0.78  | fpr 0.42\n",
      "cond p | fnr 0.22  | tpr 0.58\n",
      "----------------------------\n",
      " precision: 0.58\n",
      "    recall: 0.30\n",
      "  accuracy: 0.75\n",
      "  F1-score: 0.40\n",
      "Train: 78.76 %\n",
      "Test: 75.00 %\n",
      "Overfit: 3.76 %\n"
     ]
    },
    {
     "data": {
      "image/png": "[encoded data removed]",
      "text/plain": [
       "<Figure size 432x432 with 4 Axes>"
      ]
     },
     "metadata": {},
     "output_type": "display_data"
    },
    {
     "name": "stdout",
     "output_type": "stream",
     "text": [
      "DT_best_features: [\"inv_nodes_'0-2'\", 'deg_malig_oe', 'node_caps', 'irr', \"inv_nodes_'3-5'\", 'lat', \"menopause_'premeno'\", \"inv_nodes_'6-8'\", \"tum_sz_'30-34'\"] 9\n"
     ]
    },
    {
     "data": {
      "image/png": "[encoded data removed]",
      "text/plain": [
       "<Figure size 432x288 with 1 Axes>"
      ]
     },
     "metadata": {},
     "output_type": "display_data"
    }
   ],
   "source": [
    "DT_model = DecisionTreeClassifier(criterion='entropy', max_depth=3,max_features=0.9, min_samples_leaf=8,min_samples_split=5, random_state=13)\n",
    "DT_model.fit(X_train, y_train)\n",
    "\n",
    "y_pred_tr = DT_model.predict(X_train)\n",
    "y_pred_te = DT_model.predict(X_test)\n",
    "\n",
    "cmtr = cmbw(y_train, y_pred_tr)\n",
    "cmtr.prntcmt()\n",
    "cmtr.prntcmp()\n",
    "cmtr.prntpr()\n",
    "\n",
    "cmte = cmbw(y_test, y_pred_te)\n",
    "cmte.prntcmt()\n",
    "cmte.prntcmp()\n",
    "cmte.prntpr()\n",
    "DT_f1score = cmte.F1score\n",
    "DT_f1score\n",
    "\n",
    "DT_train_score = DT_model.score(X_train, y_train)\n",
    "DT_accuracy = DT_model.score(X_test, y_test)\n",
    "print(\"Train: {:.2f} %\".format(DT_train_score*100))\n",
    "print(\"Test: {:.2f} %\".format(DT_accuracy*100))\n",
    "print('Overfit: {:.2f} %'.format((DT_train_score - DT_accuracy)*100))\n",
    "\n",
    "plot_CM(DT_model, \"DecisionTreeClassifier\")\n",
    "\n",
    "features = {}\n",
    "for feature, importance in zip(X_cols, rf_model.feature_importances_):\n",
    "    features[feature] = importance\n",
    "\n",
    "importances = pd.DataFrame({\"DT\":features})\n",
    "importances.sort_values(\"DT\", ascending = False, inplace=True)\n",
    "DT_best_features = list(importances[importances.DT > 0.03].index)\n",
    "importances.plot.bar()\n",
    "print(\"DT_best_features:\",DT_best_features, len(DT_best_features))\n"
   ]
  },
  {
   "cell_type": "markdown",
   "metadata": {},
   "source": [
    "## Features"
   ]
  },
  {
   "cell_type": "code",
   "execution_count": 214,
   "metadata": {},
   "outputs": [
    {
     "data": {
      "text/html": [
       "<div>\n",
       "<style scoped>\n",
       "    .dataframe tbody tr th:only-of-type {\n",
       "        vertical-align: middle;\n",
       "    }\n",
       "\n",
       "    .dataframe tbody tr th {\n",
       "        vertical-align: top;\n",
       "    }\n",
       "\n",
       "    .dataframe thead th {\n",
       "        text-align: right;\n",
       "    }\n",
       "</style>\n",
       "<table border=\"1\" class=\"dataframe\">\n",
       "  <thead>\n",
       "    <tr style=\"text-align: right;\">\n",
       "      <th></th>\n",
       "      <th>ADA</th>\n",
       "      <th>KNN</th>\n",
       "      <th>LR</th>\n",
       "      <th>SVM</th>\n",
       "      <th>XGB</th>\n",
       "      <th>RF</th>\n",
       "      <th>ETC</th>\n",
       "      <th>GBC</th>\n",
       "      <th>SGD</th>\n",
       "      <th>DT</th>\n",
       "    </tr>\n",
       "  </thead>\n",
       "  <tbody>\n",
       "    <tr>\n",
       "      <th>0</th>\n",
       "      <td>inv_nodes_'0-2'</td>\n",
       "      <td>inv_nodes_'0-2'</td>\n",
       "      <td>inv_nodes_'0-2'</td>\n",
       "      <td>inv_nodes_'0-2'</td>\n",
       "      <td>f24</td>\n",
       "      <td>inv_nodes_'0-2'</td>\n",
       "      <td>inv_nodes_'0-2'</td>\n",
       "      <td>inv_nodes_'0-2'</td>\n",
       "      <td>inv_nodes_'0-2'</td>\n",
       "      <td>inv_nodes_'0-2'</td>\n",
       "    </tr>\n",
       "    <tr>\n",
       "      <th>1</th>\n",
       "      <td>deg_malig_oe</td>\n",
       "      <td>deg_malig_oe</td>\n",
       "      <td>deg_malig_oe</td>\n",
       "      <td>deg_malig_oe</td>\n",
       "      <td>f0</td>\n",
       "      <td>deg_malig_oe</td>\n",
       "      <td>deg_malig_oe</td>\n",
       "      <td>deg_malig_oe</td>\n",
       "      <td>deg_malig_oe</td>\n",
       "      <td>deg_malig_oe</td>\n",
       "    </tr>\n",
       "    <tr>\n",
       "      <th>2</th>\n",
       "      <td>node_caps</td>\n",
       "      <td>node_caps</td>\n",
       "      <td>node_caps</td>\n",
       "      <td>node_caps</td>\n",
       "      <td>f3</td>\n",
       "      <td>node_caps</td>\n",
       "      <td>node_caps</td>\n",
       "      <td>node_caps</td>\n",
       "      <td>node_caps</td>\n",
       "      <td>node_caps</td>\n",
       "    </tr>\n",
       "    <tr>\n",
       "      <th>3</th>\n",
       "      <td>irr</td>\n",
       "      <td>irr</td>\n",
       "      <td>irr</td>\n",
       "      <td>irr</td>\n",
       "      <td>f2</td>\n",
       "      <td>irr</td>\n",
       "      <td>irr</td>\n",
       "      <td>irr</td>\n",
       "      <td>irr</td>\n",
       "      <td>irr</td>\n",
       "    </tr>\n",
       "    <tr>\n",
       "      <th>4</th>\n",
       "      <td>inv_nodes_'3-5'</td>\n",
       "      <td>inv_nodes_'3-5'</td>\n",
       "      <td>inv_nodes_'3-5'</td>\n",
       "      <td>inv_nodes_'3-5'</td>\n",
       "      <td>f28</td>\n",
       "      <td>inv_nodes_'3-5'</td>\n",
       "      <td>inv_nodes_'3-5'</td>\n",
       "      <td>inv_nodes_'3-5'</td>\n",
       "      <td>inv_nodes_'3-5'</td>\n",
       "      <td>inv_nodes_'3-5'</td>\n",
       "    </tr>\n",
       "    <tr>\n",
       "      <th>5</th>\n",
       "      <td>lat</td>\n",
       "      <td>lat</td>\n",
       "      <td>lat</td>\n",
       "      <td>lat</td>\n",
       "      <td>f29</td>\n",
       "      <td>lat</td>\n",
       "      <td>lat</td>\n",
       "      <td>lat</td>\n",
       "      <td>lat</td>\n",
       "      <td>lat</td>\n",
       "    </tr>\n",
       "    <tr>\n",
       "      <th>6</th>\n",
       "      <td>menopause_'premeno'</td>\n",
       "      <td>menopause_'premeno'</td>\n",
       "      <td>menopause_'premeno'</td>\n",
       "      <td>menopause_'premeno'</td>\n",
       "      <td>f35</td>\n",
       "      <td>menopause_'premeno'</td>\n",
       "      <td>menopause_'premeno'</td>\n",
       "      <td>menopause_'premeno'</td>\n",
       "      <td>menopause_'premeno'</td>\n",
       "      <td>menopause_'premeno'</td>\n",
       "    </tr>\n",
       "    <tr>\n",
       "      <th>7</th>\n",
       "      <td>inv_nodes_'6-8'</td>\n",
       "      <td>inv_nodes_'6-8'</td>\n",
       "      <td>inv_nodes_'6-8'</td>\n",
       "      <td>inv_nodes_'6-8'</td>\n",
       "      <td>f30</td>\n",
       "      <td>inv_nodes_'6-8'</td>\n",
       "      <td>inv_nodes_'6-8'</td>\n",
       "      <td>inv_nodes_'6-8'</td>\n",
       "      <td>inv_nodes_'6-8'</td>\n",
       "      <td>inv_nodes_'6-8'</td>\n",
       "    </tr>\n",
       "    <tr>\n",
       "      <th>8</th>\n",
       "      <td>tum_sz_'30-34'</td>\n",
       "      <td>tum_sz_'30-34'</td>\n",
       "      <td>tum_sz_'30-34'</td>\n",
       "      <td>tum_sz_'30-34'</td>\n",
       "      <td>f18</td>\n",
       "      <td>tum_sz_'30-34'</td>\n",
       "      <td>tum_sz_'30-34'</td>\n",
       "      <td>tum_sz_'30-34'</td>\n",
       "      <td>tum_sz_'30-34'</td>\n",
       "      <td>tum_sz_'30-34'</td>\n",
       "    </tr>\n",
       "  </tbody>\n",
       "</table>\n",
       "</div>"
      ],
      "text/plain": [
       "                   ADA                  KNN                   LR  \\\n",
       "0      inv_nodes_'0-2'      inv_nodes_'0-2'      inv_nodes_'0-2'   \n",
       "1         deg_malig_oe         deg_malig_oe         deg_malig_oe   \n",
       "2            node_caps            node_caps            node_caps   \n",
       "3                  irr                  irr                  irr   \n",
       "4      inv_nodes_'3-5'      inv_nodes_'3-5'      inv_nodes_'3-5'   \n",
       "5                  lat                  lat                  lat   \n",
       "6  menopause_'premeno'  menopause_'premeno'  menopause_'premeno'   \n",
       "7      inv_nodes_'6-8'      inv_nodes_'6-8'      inv_nodes_'6-8'   \n",
       "8       tum_sz_'30-34'       tum_sz_'30-34'       tum_sz_'30-34'   \n",
       "\n",
       "                   SVM  XGB                   RF                  ETC  \\\n",
       "0      inv_nodes_'0-2'  f24      inv_nodes_'0-2'      inv_nodes_'0-2'   \n",
       "1         deg_malig_oe   f0         deg_malig_oe         deg_malig_oe   \n",
       "2            node_caps   f3            node_caps            node_caps   \n",
       "3                  irr   f2                  irr                  irr   \n",
       "4      inv_nodes_'3-5'  f28      inv_nodes_'3-5'      inv_nodes_'3-5'   \n",
       "5                  lat  f29                  lat                  lat   \n",
       "6  menopause_'premeno'  f35  menopause_'premeno'  menopause_'premeno'   \n",
       "7      inv_nodes_'6-8'  f30      inv_nodes_'6-8'      inv_nodes_'6-8'   \n",
       "8       tum_sz_'30-34'  f18       tum_sz_'30-34'       tum_sz_'30-34'   \n",
       "\n",
       "                   GBC                  SGD                   DT  \n",
       "0      inv_nodes_'0-2'      inv_nodes_'0-2'      inv_nodes_'0-2'  \n",
       "1         deg_malig_oe         deg_malig_oe         deg_malig_oe  \n",
       "2            node_caps            node_caps            node_caps  \n",
       "3                  irr                  irr                  irr  \n",
       "4      inv_nodes_'3-5'      inv_nodes_'3-5'      inv_nodes_'3-5'  \n",
       "5                  lat                  lat                  lat  \n",
       "6  menopause_'premeno'  menopause_'premeno'  menopause_'premeno'  \n",
       "7      inv_nodes_'6-8'      inv_nodes_'6-8'      inv_nodes_'6-8'  \n",
       "8       tum_sz_'30-34'       tum_sz_'30-34'       tum_sz_'30-34'  "
      ]
     },
     "execution_count": 214,
     "metadata": {},
     "output_type": "execute_result"
    }
   ],
   "source": [
    "L = min(len(RF_best_features), len(XGB_features), len(ADA_best_features), len(KNN_best_features), len(LR_best_features), len(SVM_best_features), \n",
    "        len(ETC_best_features), len(GBC_best_features), len(SGD_best_features), len(DT_best_features))\n",
    "\n",
    "TF = pd.DataFrame({\"ADA\":ADA_best_features[:L], \"KNN\": KNN_best_features[:L], \"LR\": LR_best_features[:L],\n",
    "                  \"SVM\":SVM_best_features[:L], \"XGB\":XGB_features[:L], \"RF\":RF_best_features[:L],\n",
    "                  \"ETC\":ETC_best_features[:L], \"GBC\":GBC_best_features[:L], \"SGD\":SGD_best_features[:L],\n",
    "                  \"DT\": DT_best_features} )\n",
    "TF\n",
    "\n"
   ]
  },
  {
   "cell_type": "code",
   "execution_count": 215,
   "metadata": {},
   "outputs": [
    {
     "name": "stdout",
     "output_type": "stream",
     "text": [
      "Accuracy Scores:\n",
      "==========================================================\n",
      "DNN: 0.702\n",
      "RandomForest: 0.762\n",
      "XGBoost classifier: 0.738\n",
      "SVM classifier: 0.726\n",
      "LR classifier: 0.702\n",
      "KNN classifier: 0.738\n",
      "ADA Boost classifier: 0.750\n",
      "Extra Tree classifier: 0.738\n",
      "Gradient Boosting classifier: 0.726\n",
      "Stochastic Gradient descent: 0.655\n",
      "Decision Tree classifier: 0.750\n",
      "==========================================================\n"
     ]
    }
   ],
   "source": [
    "print(\"Accuracy Scores:\")\n",
    "print(\"==========================================================\")\n",
    "print(\"DNN: {:.3f}\".format(dnn_accuracy))\n",
    "print(\"RandomForest: {:.3f}\".format(rf_accuracy))\n",
    "print(\"XGBoost classifier: {:.3f}\".format(xgb_accuracy))\n",
    "print(\"SVM classifier: {:.3f}\".format(SVM_accuracy))\n",
    "print(\"LR classifier: {:.3f}\".format(LR_accuracy))\n",
    "print(\"KNN classifier: {:.3f}\".format(KNN_accuracy))\n",
    "print(\"ADA Boost classifier: {:.3f}\".format(ADA_accuracy))\n",
    "print(\"Extra Tree classifier: {:.3f}\".format(ETC_accuracy))\n",
    "print(\"Gradient Boosting classifier: {:.3f}\".format(GBC_accuracy))\n",
    "print(\"Stochastic Gradient descent: {:.3f}\".format(SGD_accuracy))\n",
    "print(\"Decision Tree classifier: {:.3f}\".format(DT_accuracy))\n",
    "print(\"==========================================================\")\n"
   ]
  },
  {
   "cell_type": "code",
   "execution_count": 232,
   "metadata": {},
   "outputs": [
    {
     "name": "stdout",
     "output_type": "stream",
     "text": [
      "F1 Scores:\n",
      "==========================================================\n",
      "DNN: 0.000\n",
      "RandomForest: 0.375\n",
      "XGBoost classifier: 0.083\n",
      "SVM classifier: 0.378\n",
      "LR classifier: 0.324\n",
      "KNN classifier: 0.267\n",
      "ADA Boost classifier: 0.462\n",
      "Extra Tree classifier: 0.389\n",
      "Gradient Boosting classifier: 0.000\n",
      "Stochastic Gradient descent: 0.356\n",
      "Decision Tree classifier: 0.400\n",
      "==========================================================\n"
     ]
    }
   ],
   "source": [
    "print(\"F1 Scores:\")\n",
    "print(\"==========================================================\")\n",
    "print(\"DNN: {:.3f}\".format(dnn_f1score))\n",
    "print(\"RandomForest: {:.3f}\".format(rf_f1score))\n",
    "print(\"XGBoost classifier: {:.3f}\".format(xgb_f1score))\n",
    "print(\"SVM classifier: {:.3f}\".format(SVM_f1score))\n",
    "print(\"LR classifier: {:.3f}\".format(LR_f1score))\n",
    "print(\"KNN classifier: {:.3f}\".format(KNN_f1score))\n",
    "print(\"ADA Boost classifier: {:.3f}\".format(ADA_f1score))\n",
    "print(\"Extra Tree classifier: {:.3f}\".format(ETC_f1score))\n",
    "print(\"Gradient Boosting classifier: {:.3f}\".format(GBM_f1score))\n",
    "print(\"Stochastic Gradient descent: {:.3f}\".format(SGD_f1score))\n",
    "print(\"Decision Tree classifier: {:.3f}\".format(DT_f1score))\n",
    "print(\"==========================================================\")\n"
   ]
  },
  {
   "cell_type": "code",
   "execution_count": null,
   "metadata": {},
   "outputs": [],
   "source": []
  }
 ],
 "metadata": {
  "kernelspec": {
   "display_name": "Python 3 (ipykernel)",
   "language": "python",
   "name": "python3"
  },
  "language_info": {
   "codemirror_mode": {
    "name": "ipython",
    "version": 3
   },
   "file_extension": ".py",
   "mimetype": "text/x-python",
   "name": "python",
   "nbconvert_exporter": "python",
   "pygments_lexer": "ipython3",
   "version": "3.8.10"
  }
 },
 "nbformat": 4,
 "nbformat_minor": 4
}
